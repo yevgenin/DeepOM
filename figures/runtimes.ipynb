{
 "cells": [
  {
   "attachments": {},
   "cell_type": "markdown",
   "metadata": {},
   "source": [
    "eval time - run 100 times on 100kb mol\n",
    "\n",
    "loc time - deepom vs falcon\n",
    "\n",
    "aligner time - our vs bionano"
   ]
  },
  {
   "cell_type": "code",
   "execution_count": 2,
   "metadata": {},
   "outputs": [
    {
     "name": "stdout",
     "output_type": "stream",
     "text": [
      "reading:  /home/ynogin/data/bionano_data/bnx.db\n"
     ]
    },
    {
     "data": {
      "application/vnd.jupyter.widget-view+json": {
       "model_id": "423d958c8f594ca394d03c80bfdcf0d6",
       "version_major": 2,
       "version_minor": 0
      },
      "text/plain": [
       "selected: 0it [00:00, ?it/s]"
      ]
     },
     "metadata": {},
     "output_type": "display_data"
    }
   ],
   "source": [
    "from deepom.bionano_utils import MoleculeSelector\n",
    "\n",
    "selector = MoleculeSelector()\n",
    "selector.top_mol_num = 10\n",
    "selector.select_molecules()"
   ]
  },
  {
   "cell_type": "code",
   "execution_count": 1,
   "metadata": {},
   "outputs": [
    {
     "name": "stdout",
     "output_type": "stream",
     "text": [
      "BasicUNet features: (32, 32, 64, 128, 256, 32).\n",
      "loading checkpoint:  /home/ynogin/Dropbox/code/DeepOM/data/pretrained/checkpoint.pickle \n",
      "\n",
      "\n"
     ]
    }
   ],
   "source": [
    "from deepom.config import Config\n",
    "from deepom.localizer import LocalizerModule\n",
    "\n",
    "localizer_module = LocalizerModule()\n",
    "localizer_module.checkpoint_search_dir = Config.CHECKPOINT_SEARCH_DIR\n",
    "localizer_module.load_checkpoint = True\n",
    "localizer_module.init_ensure_module()"
   ]
  },
  {
   "cell_type": "code",
   "execution_count": 11,
   "metadata": {},
   "outputs": [
    {
     "name": "stdout",
     "output_type": "stream",
     "text": [
      "BasicUNet features: (32, 32, 64, 128, 256, 32).\n",
      "loading checkpoint:  /home/ynogin/Dropbox/code/DeepOM/data/pretrained/checkpoint.pickle \n",
      "\n",
      "\n"
     ]
    }
   ],
   "source": [
    "localizer_module_cpu = LocalizerModule()\n",
    "localizer_module_cpu.device = 'cpu'\n",
    "localizer_module_cpu.checkpoint_search_dir = Config.CHECKPOINT_SEARCH_DIR\n",
    "localizer_module_cpu.load_checkpoint = True\n",
    "localizer_module_cpu.init_ensure_module()"
   ]
  },
  {
   "cell_type": "code",
   "execution_count": 3,
   "metadata": {},
   "outputs": [
    {
     "data": {
      "text/plain": [
       "1     [14453.0, 19686.0, 22554.0, 31191.0, 33547.0, ...\n",
       "2     [15924.0, 22064.0, 28594.0, 34027.0, 34664.0, ...\n",
       "3     [12734.0, 13105.0, 17438.0, 20151.0, 26344.0, ...\n",
       "4     [12985.0, 14575.0, 23028.0, 27375.0, 35689.0, ...\n",
       "5     [19314.0, 19924.0, 22572.0, 48655.0, 52154.0, ...\n",
       "6     [76216.0, 78491.0, 80268.0, 84078.0, 92283.0, ...\n",
       "7     [10487.0, 12916.0, 15501.0, 17193.0, 18142.0, ...\n",
       "8     [61805.0, 66488.0, 70256.0, 73189.0, 79269.0, ...\n",
       "9     [14566.0, 19799.0, 22667.0, 30973.0, 33330.0, ...\n",
       "10    [18514.0, 19074.0, 29291.0, 29794.0, 32222.0, ...\n",
       "11    [60457.0, 62233.0, 66043.0, 73015.0, 81386.0, ...\n",
       "12    [14568.0, 19721.0, 24617.0, 33245.0, 35595.0, ...\n",
       "13    [16004725.0, 16010361.0, 16021642.0, 16136233....\n",
       "14    [16004725.0, 16010361.0, 16021642.0, 16031132....\n",
       "15    [17050953.0, 17052426.0, 17058646.0, 17060180....\n",
       "16    [14134.0, 19375.0, 28229.0, 38092.0, 44607.0, ...\n",
       "17    [66653.0, 70073.0, 84695.0, 84709.0, 90870.0, ...\n",
       "18    [18868.0, 19428.0, 29621.0, 30124.0, 32552.0, ...\n",
       "19    [61294.0, 64162.0, 72800.0, 75156.0, 79187.0, ...\n",
       "20    [70156.0, 70892.0, 78032.0, 80876.0, 81845.0, ...\n",
       "21    [5010514.0, 5015860.0, 5019820.0, 5022073.0, 5...\n",
       "22    [10514803.0, 10516334.0, 10530198.0, 10532311....\n",
       "23    [11554.0, 12933.0, 16630.0, 24178.0, 223951.0,...\n",
       "24    [11554.0, 12933.0, 16630.0, 24178.0, 223951.0,...\n",
       "dtype: object"
      ]
     },
     "execution_count": 3,
     "metadata": {},
     "output_type": "execute_result"
    }
   ],
   "source": [
    "from deepom.bionano_compare import BionanoCompare\n",
    "\n",
    "compare = BionanoCompare()\n",
    "compare.read_cmap()\n",
    "compare.make_refs()\n",
    "compare.refs"
   ]
  },
  {
   "cell_type": "code",
   "execution_count": 21,
   "metadata": {},
   "outputs": [],
   "source": [
    "from matplotlib.pyplot import eventplot, imshow, figure, xlim\n",
    "molecule = selector.selected[0]\n",
    "# figure(figsize=(30, 3))\n",
    "image_input = molecule.bionano_image.segment_image[0]\n",
    "target_width = localizer_module.image_channels\n",
    "source_width = image_input.shape[0] // 2 + 1\n",
    "image_input = image_input[source_width - target_width // 2: source_width + target_width // 2 + 1]\n",
    "# imshow(image_input, aspect=\"auto\", cmap=\"gray\")\n"
   ]
  },
  {
   "attachments": {},
   "cell_type": "markdown",
   "metadata": {},
   "source": [
    "Molecule info"
   ]
  },
  {
   "cell_type": "code",
   "execution_count": 33,
   "metadata": {},
   "outputs": [
    {
     "name": "stdout",
     "output_type": "stream",
     "text": [
      "molecule length:  686.64 kb\n",
      "image shape:  5 x 1830 pixels\n"
     ]
    }
   ],
   "source": [
    "molecule.xmap_item.xmap_record[[\"Length\"]]\n",
    "print(\"molecule length: \", molecule.xmap_item.xmap_record[[\"Length\"]].item() / 1000, \"kb\")\n",
    "print(\"image shape: \", image_input.shape[0], \"x\" , image_input.shape[1], \"pixels\")\n"
   ]
  },
  {
   "cell_type": "code",
   "execution_count": 20,
   "metadata": {},
   "outputs": [
    {
     "name": "stdout",
     "output_type": "stream",
     "text": [
      "/home/ynogin/Dropbox/code/FALCON2D\n"
     ]
    },
    {
     "data": {
      "text/plain": [
       "<deepom.falcon_compare.Falcon at 0x7f85accfe980>"
      ]
     },
     "execution_count": 20,
     "metadata": {},
     "output_type": "execute_result"
    }
   ],
   "source": [
    "from deepom.falcon_compare import Falcon\n",
    "falcon = Falcon()\n",
    "falcon.start()"
   ]
  },
  {
   "cell_type": "code",
   "execution_count": 34,
   "metadata": {},
   "outputs": [
    {
     "name": "stderr",
     "output_type": "stream",
     "text": [
      "/home/ynogin/miniconda3/envs/deepom/lib/python3.10/site-packages/monai/utils/deprecate_utils.py:107: FutureWarning: <class 'monai.transforms.utility.array.AddChannel'>: Class `AddChannel` has been deprecated since version 0.8. please use MetaTensor data type and monai.transforms.EnsureChannelFirst instead.\n",
      "  warn_deprecated(obj, msg, warning_category)\n"
     ]
    },
    {
     "name": "stdout",
     "output_type": "stream",
     "text": [
      "5.96 ms ± 958 µs per loop (mean ± std. dev. of 100 runs, 2 loops each)\n"
     ]
    }
   ],
   "source": [
    "%%timeit -n 2 -r 100\n",
    "inference_item = localizer_module.inference_item(image_input)"
   ]
  },
  {
   "cell_type": "code",
   "execution_count": 35,
   "metadata": {},
   "outputs": [
    {
     "name": "stdout",
     "output_type": "stream",
     "text": [
      "7.41 ms ± 508 µs per loop (mean ± std. dev. of 100 runs, 2 loops each)\n"
     ]
    }
   ],
   "source": [
    "%%timeit -n 2 -r 100\n",
    "inference_item = localizer_module_cpu.inference_item(image_input)"
   ]
  },
  {
   "cell_type": "code",
   "execution_count": null,
   "metadata": {},
   "outputs": [],
   "source": [
    "image_input = molecule.bionano_image.segment_image[0]\n",
    "image_input = image_input - np.min(image_input)\n",
    "image_input = image_input / np.max(image_input)\n",
    "image_input = img_as_uint(image_input)\n",
    "source_width = image_input.shape[0] // 2 + 1\n",
    "target_width = 9\n",
    "image_input = image_input[source_width - target_width // 2: source_width + target_width // 2 + 1]\n",
    "imageio.mimwrite(image_file, image_input[None])"
   ]
  }
 ],
 "metadata": {
  "kernelspec": {
   "display_name": "deepom",
   "language": "python",
   "name": "python3"
  },
  "language_info": {
   "codemirror_mode": {
    "name": "ipython",
    "version": 3
   },
   "file_extension": ".py",
   "mimetype": "text/x-python",
   "name": "python",
   "nbconvert_exporter": "python",
   "pygments_lexer": "ipython3",
   "version": "3.10.8"
  },
  "orig_nbformat": 4,
  "vscode": {
   "interpreter": {
    "hash": "628b07de65402c73b9232ee4171471520d9afcc3ab7650ec0bd1e4aa05b87cb9"
   }
  }
 },
 "nbformat": 4,
 "nbformat_minor": 2
}
