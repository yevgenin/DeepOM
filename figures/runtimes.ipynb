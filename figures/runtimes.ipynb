{
 "cells": [
  {
   "attachments": {},
   "cell_type": "markdown",
   "metadata": {},
   "source": [
    "eval time - run 100 times on 100kb mol\n",
    "\n",
    "loc time - deepom vs falcon\n",
    "\n",
    "aligner time - our vs bionano"
   ]
  },
  {
   "cell_type": "code",
   "execution_count": 77,
   "metadata": {},
   "outputs": [
    {
     "ename": "KeyboardInterrupt",
     "evalue": "",
     "output_type": "error",
     "traceback": [
      "\u001B[0;31m---------------------------------------------------------------------------\u001B[0m",
      "\u001B[0;31mKeyboardInterrupt\u001B[0m                         Traceback (most recent call last)",
      "Cell \u001B[0;32mIn[77], line 5\u001B[0m\n\u001B[1;32m      3\u001B[0m selector \u001B[39m=\u001B[39m MoleculeSelector()\n\u001B[1;32m      4\u001B[0m selector\u001B[39m.\u001B[39mtop_mol_num \u001B[39m=\u001B[39m \u001B[39m10\u001B[39m\n\u001B[0;32m----> 5\u001B[0m selector\u001B[39m.\u001B[39;49mselect_molecules()\n",
      "File \u001B[0;32m~/Dropbox/code/DeepOM/deepom/bionano_utils.py:319\u001B[0m, in \u001B[0;36mMoleculeSelector.select_molecules\u001B[0;34m(self)\u001B[0m\n\u001B[1;32m    318\u001B[0m \u001B[39mdef\u001B[39;00m \u001B[39mselect_molecules\u001B[39m(\u001B[39mself\u001B[39m):\n\u001B[0;32m--> 319\u001B[0m     df \u001B[39m=\u001B[39m \u001B[39mself\u001B[39;49m\u001B[39m.\u001B[39;49mselect_molecules_df()\n\u001B[1;32m    320\u001B[0m     df[\u001B[39m\"\u001B[39m\u001B[39mJXRFile\u001B[39m\u001B[39m\"\u001B[39m] \u001B[39m=\u001B[39m \u001B[39mself\u001B[39m\u001B[39m.\u001B[39mparse_jxr_files(df)\n\u001B[1;32m    321\u001B[0m     df[\u001B[39m\"\u001B[39m\u001B[39mJXRFileExists\u001B[39m\u001B[39m\"\u001B[39m] \u001B[39m=\u001B[39m df[\u001B[39m\"\u001B[39m\u001B[39mJXRFile\u001B[39m\u001B[39m\"\u001B[39m]\u001B[39m.\u001B[39mapply(Path\u001B[39m.\u001B[39mexists)\n",
      "File \u001B[0;32m~/Dropbox/code/DeepOM/deepom/bionano_utils.py:243\u001B[0m, in \u001B[0;36mMoleculeSelector.select_molecules_df\u001B[0;34m(self)\u001B[0m\n\u001B[1;32m    242\u001B[0m \u001B[39mdef\u001B[39;00m \u001B[39mselect_molecules_df\u001B[39m(\u001B[39mself\u001B[39m):\n\u001B[0;32m--> 243\u001B[0m     \u001B[39mself\u001B[39;49m\u001B[39m.\u001B[39;49mread_files()\n\u001B[1;32m    244\u001B[0m     xmap_df \u001B[39m=\u001B[39m \u001B[39mself\u001B[39m\u001B[39m.\u001B[39mxmap_file_data\u001B[39m.\u001B[39mfile_df\n\u001B[1;32m    246\u001B[0m     \u001B[39mif\u001B[39;00m \u001B[39mself\u001B[39m\u001B[39m.\u001B[39mmin_qry_len \u001B[39mis\u001B[39;00m \u001B[39mnot\u001B[39;00m \u001B[39mNone\u001B[39;00m:\n",
      "File \u001B[0;32m~/Dropbox/code/DeepOM/deepom/bionano_utils.py:240\u001B[0m, in \u001B[0;36mMoleculeSelector.read_files\u001B[0;34m(self)\u001B[0m\n\u001B[1;32m    238\u001B[0m \u001B[39mself\u001B[39m\u001B[39m.\u001B[39mbnx_file_data\u001B[39m.\u001B[39mparse_header()\n\u001B[1;32m    239\u001B[0m \u001B[39mself\u001B[39m\u001B[39m.\u001B[39mxmap_file_data\u001B[39m.\u001B[39mfile \u001B[39m=\u001B[39m \u001B[39mself\u001B[39m\u001B[39m.\u001B[39mxmap_file\n\u001B[0;32m--> 240\u001B[0m \u001B[39mself\u001B[39;49m\u001B[39m.\u001B[39;49mxmap_file_data\u001B[39m.\u001B[39;49mread_bionano_file()\n",
      "File \u001B[0;32m~/Dropbox/code/DeepOM/deepom/bionano_utils.py:499\u001B[0m, in \u001B[0;36mBionanoFileData.read_bionano_file\u001B[0;34m(self)\u001B[0m\n\u001B[1;32m    497\u001B[0m \u001B[39mdef\u001B[39;00m \u001B[39mread_bionano_file\u001B[39m(\u001B[39mself\u001B[39m):\n\u001B[1;32m    498\u001B[0m     \u001B[39mself\u001B[39m\u001B[39m.\u001B[39mread_bionano_header()\n\u001B[0;32m--> 499\u001B[0m     \u001B[39mself\u001B[39m\u001B[39m.\u001B[39mfile_df \u001B[39m=\u001B[39m cached_func(pandas\u001B[39m.\u001B[39;49mread_csv, verbose\u001B[39m=\u001B[39;49m\u001B[39mFalse\u001B[39;49;00m)(\n\u001B[1;32m    500\u001B[0m         \u001B[39mself\u001B[39;49m\u001B[39m.\u001B[39;49mfile, sep\u001B[39m=\u001B[39;49m\u001B[39m\"\u001B[39;49m\u001B[39m\\t\u001B[39;49;00m\u001B[39m\"\u001B[39;49m, comment\u001B[39m=\u001B[39;49m\u001B[39m\"\u001B[39;49m\u001B[39m#\u001B[39;49m\u001B[39m\"\u001B[39;49m,\n\u001B[1;32m    501\u001B[0m         names\u001B[39m=\u001B[39;49m\u001B[39mself\u001B[39;49m\u001B[39m.\u001B[39;49mnames,\n\u001B[1;32m    502\u001B[0m         dtype\u001B[39m=\u001B[39;49m\u001B[39mdict\u001B[39;49m(\u001B[39mzip\u001B[39;49m(\u001B[39mself\u001B[39;49m\u001B[39m.\u001B[39;49mnames, \u001B[39mself\u001B[39;49m\u001B[39m.\u001B[39;49mdtypes)),\n\u001B[1;32m    503\u001B[0m         nrows\u001B[39m=\u001B[39;49m\u001B[39mself\u001B[39;49m\u001B[39m.\u001B[39;49mnrows,\n\u001B[1;32m    504\u001B[0m     )\n",
      "File \u001B[0;32m~/miniconda3/envs/deepom/lib/python3.10/site-packages/joblib/memory.py:594\u001B[0m, in \u001B[0;36mMemorizedFunc.__call__\u001B[0;34m(self, *args, **kwargs)\u001B[0m\n\u001B[1;32m    593\u001B[0m \u001B[39mdef\u001B[39;00m \u001B[39m__call__\u001B[39m(\u001B[39mself\u001B[39m, \u001B[39m*\u001B[39margs, \u001B[39m*\u001B[39m\u001B[39m*\u001B[39mkwargs):\n\u001B[0;32m--> 594\u001B[0m     \u001B[39mreturn\u001B[39;00m \u001B[39mself\u001B[39;49m\u001B[39m.\u001B[39;49m_cached_call(args, kwargs)[\u001B[39m0\u001B[39m]\n",
      "File \u001B[0;32m~/miniconda3/envs/deepom/lib/python3.10/site-packages/joblib/memory.py:516\u001B[0m, in \u001B[0;36mMemorizedFunc._cached_call\u001B[0;34m(self, args, kwargs, shelving)\u001B[0m\n\u001B[1;32m    510\u001B[0m     msg \u001B[39m=\u001B[39m _format_load_msg(func_id, args_id,\n\u001B[1;32m    511\u001B[0m                            timestamp\u001B[39m=\u001B[39m\u001B[39mself\u001B[39m\u001B[39m.\u001B[39mtimestamp,\n\u001B[1;32m    512\u001B[0m                            metadata\u001B[39m=\u001B[39mmetadata)\n\u001B[1;32m    514\u001B[0m \u001B[39mif\u001B[39;00m \u001B[39mnot\u001B[39;00m shelving:\n\u001B[1;32m    515\u001B[0m     \u001B[39m# When shelving, we do not need to load the output\u001B[39;00m\n\u001B[0;32m--> 516\u001B[0m     out \u001B[39m=\u001B[39m \u001B[39mself\u001B[39;49m\u001B[39m.\u001B[39;49mstore_backend\u001B[39m.\u001B[39;49mload_item(\n\u001B[1;32m    517\u001B[0m         [func_id, args_id],\n\u001B[1;32m    518\u001B[0m         msg\u001B[39m=\u001B[39;49mmsg,\n\u001B[1;32m    519\u001B[0m         verbose\u001B[39m=\u001B[39;49m\u001B[39mself\u001B[39;49m\u001B[39m.\u001B[39;49m_verbose)\n\u001B[1;32m    520\u001B[0m \u001B[39melse\u001B[39;00m:\n\u001B[1;32m    521\u001B[0m     out \u001B[39m=\u001B[39m \u001B[39mNone\u001B[39;00m\n",
      "File \u001B[0;32m~/miniconda3/envs/deepom/lib/python3.10/site-packages/joblib/_store_backends.py:170\u001B[0m, in \u001B[0;36mStoreBackendMixin.load_item\u001B[0;34m(self, path, verbose, msg)\u001B[0m\n\u001B[1;32m    168\u001B[0m \u001B[39mif\u001B[39;00m mmap_mode \u001B[39mis\u001B[39;00m \u001B[39mNone\u001B[39;00m:\n\u001B[1;32m    169\u001B[0m     \u001B[39mwith\u001B[39;00m \u001B[39mself\u001B[39m\u001B[39m.\u001B[39m_open_item(filename, \u001B[39m\"\u001B[39m\u001B[39mrb\u001B[39m\u001B[39m\"\u001B[39m) \u001B[39mas\u001B[39;00m f:\n\u001B[0;32m--> 170\u001B[0m         item \u001B[39m=\u001B[39m numpy_pickle\u001B[39m.\u001B[39;49mload(f)\n\u001B[1;32m    171\u001B[0m \u001B[39melse\u001B[39;00m:\n\u001B[1;32m    172\u001B[0m     item \u001B[39m=\u001B[39m numpy_pickle\u001B[39m.\u001B[39mload(filename, mmap_mode\u001B[39m=\u001B[39mmmap_mode)\n",
      "File \u001B[0;32m~/miniconda3/envs/deepom/lib/python3.10/site-packages/joblib/numpy_pickle.py:577\u001B[0m, in \u001B[0;36mload\u001B[0;34m(filename, mmap_mode)\u001B[0m\n\u001B[1;32m    575\u001B[0m     filename \u001B[39m=\u001B[39m \u001B[39mgetattr\u001B[39m(fobj, \u001B[39m'\u001B[39m\u001B[39mname\u001B[39m\u001B[39m'\u001B[39m, \u001B[39m'\u001B[39m\u001B[39m'\u001B[39m)\n\u001B[1;32m    576\u001B[0m     \u001B[39mwith\u001B[39;00m _read_fileobject(fobj, filename, mmap_mode) \u001B[39mas\u001B[39;00m fobj:\n\u001B[0;32m--> 577\u001B[0m         obj \u001B[39m=\u001B[39m _unpickle(fobj)\n\u001B[1;32m    578\u001B[0m \u001B[39melse\u001B[39;00m:\n\u001B[1;32m    579\u001B[0m     \u001B[39mwith\u001B[39;00m \u001B[39mopen\u001B[39m(filename, \u001B[39m'\u001B[39m\u001B[39mrb\u001B[39m\u001B[39m'\u001B[39m) \u001B[39mas\u001B[39;00m f:\n",
      "File \u001B[0;32m~/miniconda3/envs/deepom/lib/python3.10/site-packages/joblib/numpy_pickle.py:506\u001B[0m, in \u001B[0;36m_unpickle\u001B[0;34m(fobj, filename, mmap_mode)\u001B[0m\n\u001B[1;32m    504\u001B[0m obj \u001B[39m=\u001B[39m \u001B[39mNone\u001B[39;00m\n\u001B[1;32m    505\u001B[0m \u001B[39mtry\u001B[39;00m:\n\u001B[0;32m--> 506\u001B[0m     obj \u001B[39m=\u001B[39m unpickler\u001B[39m.\u001B[39;49mload()\n\u001B[1;32m    507\u001B[0m     \u001B[39mif\u001B[39;00m unpickler\u001B[39m.\u001B[39mcompat_mode:\n\u001B[1;32m    508\u001B[0m         warnings\u001B[39m.\u001B[39mwarn(\u001B[39m\"\u001B[39m\u001B[39mThe file \u001B[39m\u001B[39m'\u001B[39m\u001B[39m%s\u001B[39;00m\u001B[39m'\u001B[39m\u001B[39m has been generated with a \u001B[39m\u001B[39m\"\u001B[39m\n\u001B[1;32m    509\u001B[0m                       \u001B[39m\"\u001B[39m\u001B[39mjoblib version less than 0.10. \u001B[39m\u001B[39m\"\u001B[39m\n\u001B[1;32m    510\u001B[0m                       \u001B[39m\"\u001B[39m\u001B[39mPlease regenerate this pickle file.\u001B[39m\u001B[39m\"\u001B[39m\n\u001B[1;32m    511\u001B[0m                       \u001B[39m%\u001B[39m filename,\n\u001B[1;32m    512\u001B[0m                       \u001B[39mDeprecationWarning\u001B[39;00m, stacklevel\u001B[39m=\u001B[39m\u001B[39m3\u001B[39m)\n",
      "File \u001B[0;32m~/miniconda3/envs/deepom/lib/python3.10/pickle.py:1213\u001B[0m, in \u001B[0;36m_Unpickler.load\u001B[0;34m(self)\u001B[0m\n\u001B[1;32m   1211\u001B[0m             \u001B[39mraise\u001B[39;00m \u001B[39mEOFError\u001B[39;00m\n\u001B[1;32m   1212\u001B[0m         \u001B[39massert\u001B[39;00m \u001B[39misinstance\u001B[39m(key, bytes_types)\n\u001B[0;32m-> 1213\u001B[0m         dispatch[key[\u001B[39m0\u001B[39;49m]](\u001B[39mself\u001B[39;49m)\n\u001B[1;32m   1214\u001B[0m \u001B[39mexcept\u001B[39;00m _Stop \u001B[39mas\u001B[39;00m stopinst:\n\u001B[1;32m   1215\u001B[0m     \u001B[39mreturn\u001B[39;00m stopinst\u001B[39m.\u001B[39mvalue\n",
      "File \u001B[0;32m~/miniconda3/envs/deepom/lib/python3.10/site-packages/joblib/numpy_pickle.py:344\u001B[0m, in \u001B[0;36mNumpyUnpickler.load_build\u001B[0;34m(self)\u001B[0m\n\u001B[1;32m    342\u001B[0m \u001B[39mif\u001B[39;00m \u001B[39misinstance\u001B[39m(array_wrapper, NDArrayWrapper):\n\u001B[1;32m    343\u001B[0m     \u001B[39mself\u001B[39m\u001B[39m.\u001B[39mcompat_mode \u001B[39m=\u001B[39m \u001B[39mTrue\u001B[39;00m\n\u001B[0;32m--> 344\u001B[0m \u001B[39mself\u001B[39m\u001B[39m.\u001B[39mstack\u001B[39m.\u001B[39mappend(array_wrapper\u001B[39m.\u001B[39;49mread(\u001B[39mself\u001B[39;49m))\n",
      "File \u001B[0;32m~/miniconda3/envs/deepom/lib/python3.10/site-packages/joblib/numpy_pickle.py:189\u001B[0m, in \u001B[0;36mNumpyArrayWrapper.read\u001B[0;34m(self, unpickler)\u001B[0m\n\u001B[1;32m    187\u001B[0m     array \u001B[39m=\u001B[39m \u001B[39mself\u001B[39m\u001B[39m.\u001B[39mread_mmap(unpickler)\n\u001B[1;32m    188\u001B[0m \u001B[39melse\u001B[39;00m:\n\u001B[0;32m--> 189\u001B[0m     array \u001B[39m=\u001B[39m \u001B[39mself\u001B[39;49m\u001B[39m.\u001B[39;49mread_array(unpickler)\n\u001B[1;32m    191\u001B[0m \u001B[39m# Manage array subclass case\u001B[39;00m\n\u001B[1;32m    192\u001B[0m \u001B[39mif\u001B[39;00m (\u001B[39mhasattr\u001B[39m(array, \u001B[39m'\u001B[39m\u001B[39m__array_prepare__\u001B[39m\u001B[39m'\u001B[39m) \u001B[39mand\u001B[39;00m\n\u001B[1;32m    193\u001B[0m     \u001B[39mself\u001B[39m\u001B[39m.\u001B[39msubclass \u001B[39mnot\u001B[39;00m \u001B[39min\u001B[39;00m (unpickler\u001B[39m.\u001B[39mnp\u001B[39m.\u001B[39mndarray,\n\u001B[1;32m    194\u001B[0m                           unpickler\u001B[39m.\u001B[39mnp\u001B[39m.\u001B[39mmemmap)):\n\u001B[1;32m    195\u001B[0m     \u001B[39m# We need to reconstruct another subclass\u001B[39;00m\n",
      "File \u001B[0;32m~/miniconda3/envs/deepom/lib/python3.10/site-packages/joblib/numpy_pickle.py:122\u001B[0m, in \u001B[0;36mNumpyArrayWrapper.read_array\u001B[0;34m(self, unpickler)\u001B[0m\n\u001B[1;32m    119\u001B[0m \u001B[39m# Now read the actual data.\u001B[39;00m\n\u001B[1;32m    120\u001B[0m \u001B[39mif\u001B[39;00m \u001B[39mself\u001B[39m\u001B[39m.\u001B[39mdtype\u001B[39m.\u001B[39mhasobject:\n\u001B[1;32m    121\u001B[0m     \u001B[39m# The array contained Python objects. We need to unpickle the data.\u001B[39;00m\n\u001B[0;32m--> 122\u001B[0m     array \u001B[39m=\u001B[39m pickle\u001B[39m.\u001B[39;49mload(unpickler\u001B[39m.\u001B[39;49mfile_handle)\n\u001B[1;32m    123\u001B[0m \u001B[39melse\u001B[39;00m:\n\u001B[1;32m    124\u001B[0m     \u001B[39m# This is not a real file. We have to read it the\u001B[39;00m\n\u001B[1;32m    125\u001B[0m     \u001B[39m# memory-intensive way.\u001B[39;00m\n\u001B[0;32m   (...)\u001B[0m\n\u001B[1;32m    129\u001B[0m     \u001B[39m# of the read. In non-chunked case count < max_read_count, so\u001B[39;00m\n\u001B[1;32m    130\u001B[0m     \u001B[39m# only one read is performed.\u001B[39;00m\n\u001B[1;32m    131\u001B[0m     max_read_count \u001B[39m=\u001B[39m BUFFER_SIZE \u001B[39m/\u001B[39m\u001B[39m/\u001B[39m \u001B[39mmin\u001B[39m(BUFFER_SIZE,\n\u001B[1;32m    132\u001B[0m                                         \u001B[39mself\u001B[39m\u001B[39m.\u001B[39mdtype\u001B[39m.\u001B[39mitemsize)\n",
      "\u001B[0;31mKeyboardInterrupt\u001B[0m: "
     ]
    }
   ],
   "source": [
    "from deepom.bionano_utils import MoleculeSelector\n",
    "\n",
    "selector = MoleculeSelector()\n",
    "selector.top_mol_num = 10\n",
    "selector.select_molecules()"
   ]
  },
  {
   "cell_type": "code",
   "execution_count": null,
   "metadata": {},
   "outputs": [
    {
     "name": "stdout",
     "output_type": "stream",
     "text": [
      "BasicUNet features: (32, 32, 64, 128, 256, 32).\n",
      "loading checkpoint:  /home/ynogin/Dropbox/code/DeepOM/data/pretrained/checkpoint.pickle \n",
      "\n",
      "\n"
     ]
    }
   ],
   "source": [
    "from deepom.config import Config\n",
    "from deepom.localizer import LocalizerModule\n",
    "\n",
    "localizer_module = LocalizerModule()\n",
    "localizer_module.checkpoint_search_dir = Config.CHECKPOINT_SEARCH_DIR\n",
    "localizer_module.load_checkpoint = True\n",
    "localizer_module.init_ensure_module()"
   ]
  },
  {
   "cell_type": "code",
   "execution_count": null,
   "metadata": {},
   "outputs": [
    {
     "name": "stdout",
     "output_type": "stream",
     "text": [
      "BasicUNet features: (32, 32, 64, 128, 256, 32).\n",
      "loading checkpoint:  /home/ynogin/Dropbox/code/DeepOM/data/pretrained/checkpoint.pickle \n",
      "\n",
      "\n"
     ]
    }
   ],
   "source": [
    "localizer_module_cpu = LocalizerModule()\n",
    "localizer_module_cpu.device = 'cpu'\n",
    "localizer_module_cpu.checkpoint_search_dir = Config.CHECKPOINT_SEARCH_DIR\n",
    "localizer_module_cpu.load_checkpoint = True\n",
    "localizer_module_cpu.init_ensure_module()"
   ]
  },
  {
   "cell_type": "code",
   "execution_count": null,
   "metadata": {},
   "outputs": [
    {
     "data": {
      "text/plain": [
       "1     [14453.0, 19686.0, 22554.0, 31191.0, 33547.0, ...\n",
       "2     [15924.0, 22064.0, 28594.0, 34027.0, 34664.0, ...\n",
       "3     [12734.0, 13105.0, 17438.0, 20151.0, 26344.0, ...\n",
       "4     [12985.0, 14575.0, 23028.0, 27375.0, 35689.0, ...\n",
       "5     [19314.0, 19924.0, 22572.0, 48655.0, 52154.0, ...\n",
       "6     [76216.0, 78491.0, 80268.0, 84078.0, 92283.0, ...\n",
       "7     [10487.0, 12916.0, 15501.0, 17193.0, 18142.0, ...\n",
       "8     [61805.0, 66488.0, 70256.0, 73189.0, 79269.0, ...\n",
       "9     [14566.0, 19799.0, 22667.0, 30973.0, 33330.0, ...\n",
       "10    [18514.0, 19074.0, 29291.0, 29794.0, 32222.0, ...\n",
       "11    [60457.0, 62233.0, 66043.0, 73015.0, 81386.0, ...\n",
       "12    [14568.0, 19721.0, 24617.0, 33245.0, 35595.0, ...\n",
       "13    [16004725.0, 16010361.0, 16021642.0, 16136233....\n",
       "14    [16004725.0, 16010361.0, 16021642.0, 16031132....\n",
       "15    [17050953.0, 17052426.0, 17058646.0, 17060180....\n",
       "16    [14134.0, 19375.0, 28229.0, 38092.0, 44607.0, ...\n",
       "17    [66653.0, 70073.0, 84695.0, 84709.0, 90870.0, ...\n",
       "18    [18868.0, 19428.0, 29621.0, 30124.0, 32552.0, ...\n",
       "19    [61294.0, 64162.0, 72800.0, 75156.0, 79187.0, ...\n",
       "20    [70156.0, 70892.0, 78032.0, 80876.0, 81845.0, ...\n",
       "21    [5010514.0, 5015860.0, 5019820.0, 5022073.0, 5...\n",
       "22    [10514803.0, 10516334.0, 10530198.0, 10532311....\n",
       "23    [11554.0, 12933.0, 16630.0, 24178.0, 223951.0,...\n",
       "24    [11554.0, 12933.0, 16630.0, 24178.0, 223951.0,...\n",
       "dtype: object"
      ]
     },
     "execution_count": 68,
     "metadata": {},
     "output_type": "execute_result"
    }
   ],
   "source": [
    "from deepom.bionano_compare import BionanoCompare\n",
    "\n",
    "compare = BionanoCompare()\n",
    "compare.read_cmap()\n",
    "compare.make_refs()\n",
    "compare.refs"
   ]
  },
  {
   "cell_type": "code",
   "execution_count": null,
   "metadata": {},
   "outputs": [],
   "source": [
    "from matplotlib.pyplot import eventplot, imshow, figure, xlim\n",
    "molecule = selector.selected[0]\n",
    "# figure(figsize=(30, 3))\n",
    "image_input = molecule.bionano_image.segment_image[0]\n",
    "target_width = localizer_module.image_channels\n",
    "source_width = image_input.shape[0] // 2 + 1\n",
    "image_input = image_input[source_width - target_width // 2: source_width + target_width // 2 + 1]\n",
    "# imshow(image_input, aspect=\"auto\", cmap=\"gray\")\n"
   ]
  },
  {
   "attachments": {},
   "cell_type": "markdown",
   "metadata": {},
   "source": [
    "Molecule info"
   ]
  },
  {
   "cell_type": "code",
   "execution_count": null,
   "metadata": {},
   "outputs": [
    {
     "name": "stdout",
     "output_type": "stream",
     "text": [
      "molecule length:  686.64 kb\n",
      "image shape:  5 x 1830 pixels\n"
     ]
    }
   ],
   "source": [
    "molecule.xmap_item.xmap_record[[\"Length\"]]\n",
    "print(\"molecule length: \", molecule.xmap_item.xmap_record[[\"Length\"]].item() / 1000, \"kb\")\n",
    "print(\"image shape: \", image_input.shape[0], \"x\" , image_input.shape[1], \"pixels\")\n"
   ]
  },
  {
   "cell_type": "code",
   "execution_count": null,
   "metadata": {},
   "outputs": [
    {
     "name": "stdout",
     "output_type": "stream",
     "text": [
      "/home/ynogin/Dropbox/code/FALCON2D\n"
     ]
    },
    {
     "data": {
      "text/plain": [
       "<deepom.falcon_compare.Falcon at 0x7f85c2f72860>"
      ]
     },
     "execution_count": 59,
     "metadata": {},
     "output_type": "execute_result"
    }
   ],
   "source": [
    "from deepom.falcon_compare import Falcon\n",
    "falcon = Falcon()\n",
    "falcon.start()"
   ]
  },
  {
   "cell_type": "code",
   "execution_count": 79,
   "metadata": {},
   "outputs": [],
   "source": [
    "from tqdm.auto import tqdm"
   ]
  },
  {
   "cell_type": "code",
   "execution_count": 92,
   "metadata": {},
   "outputs": [
    {
     "name": "stdout",
     "output_type": "stream",
     "text": [
      "9.3 ms ± 756 µs per loop (mean ± std. dev. of 10 runs, 1 loop each)\n"
     ]
    }
   ],
   "source": [
    "%%timeit -n 1 -r 10\n",
    "inference_item = localizer_module_cpu.inference_item(image_input)"
   ]
  },
  {
   "cell_type": "code",
   "execution_count": 91,
   "metadata": {},
   "outputs": [
    {
     "name": "stdout",
     "output_type": "stream",
     "text": [
      "7.37 ms ± 1.17 ms per loop (mean ± std. dev. of 10 runs, 1 loop each)\n"
     ]
    }
   ],
   "source": [
    "%%timeit -n 1 -r 10\n",
    "inference_item = localizer_module.inference_item(image_input)"
   ]
  },
  {
   "cell_type": "code",
   "execution_count": null,
   "metadata": {},
   "outputs": [],
   "source": [
    "import imageio\n",
    "import numpy as np\n",
    "from skimage import img_as_uint\n",
    "\n",
    "image_input = molecule.bionano_image.segment_image[0]\n",
    "image_input = image_input - np.min(image_input)\n",
    "image_input = image_input / np.max(image_input)\n",
    "image_input = img_as_uint(image_input)\n",
    "source_width = image_input.shape[0] // 2 + 1\n",
    "target_width = 9\n",
    "image_input = image_input[source_width - target_width // 2: source_width + target_width // 2 + 1]\n",
    "\n",
    "image_file = \"/tmp/runtime_test_image.tif\"\n",
    "imageio.mimwrite(image_file, image_input[None])"
   ]
  },
  {
   "cell_type": "code",
   "execution_count": 93,
   "metadata": {},
   "outputs": [
    {
     "name": "stdout",
     "output_type": "stream",
     "text": [
      "FALCON GPU start...\n",
      "frames no. 1 ~ 1 are reconstructing...\n",
      "FALCON GPU start...\n",
      "frames no. 1 ~ 1 are reconstructing...\n",
      "FALCON GPU start...\n",
      "frames no. 1 ~ 1 are reconstructing...\n",
      "FALCON GPU start...\n",
      "frames no. 1 ~ 1 are reconstructing...\n",
      "FALCON GPU start...\n",
      "frames no. 1 ~ 1 are reconstructing...\n",
      "FALCON GPU start...\n",
      "frames no. 1 ~ 1 are reconstructing...\n",
      "FALCON GPU start...\n",
      "frames no. 1 ~ 1 are reconstructing...\n",
      "FALCON GPU start...\n",
      "frames no. 1 ~ 1 are reconstructing...\n",
      "FALCON GPU start...\n",
      "frames no. 1 ~ 1 are reconstructing...\n",
      "FALCON GPU start...\n",
      "frames no. 1 ~ 1 are reconstructing...\n",
      "5.74 s ± 180 ms per loop (mean ± std. dev. of 10 runs, 1 loop each)\n"
     ]
    }
   ],
   "source": [
    "%%timeit -n 1 -r 10\n",
    "locs = falcon(image_file)"
   ]
  },
  {
   "cell_type": "code",
   "execution_count": 94,
   "metadata": {},
   "outputs": [
    {
     "name": "stdout",
     "output_type": "stream",
     "text": [
      "/home/ynogin/out/bionano_compare/20230129T155925Z/20230129T155925Z\n",
      "reading:  /home/ynogin/data/bionano_data/bnx.db\n"
     ]
    },
    {
     "data": {
      "application/vnd.jupyter.widget-view+json": {
       "model_id": "1ff9571ada53422089f15435bc1bfe01",
       "version_major": 2,
       "version_minor": 0
      },
      "text/plain": [
       "selected: 0it [00:00, ?it/s]"
      ]
     },
     "metadata": {},
     "output_type": "display_data"
    },
    {
     "name": "stdout",
     "output_type": "stream",
     "text": [
      "crop_sizes [100000.]\n"
     ]
    },
    {
     "data": {
      "application/vnd.jupyter.widget-view+json": {
       "model_id": "3214a2720bc34337bf59ccab3a1da0c8",
       "version_major": 2,
       "version_minor": 0
      },
      "text/plain": [
       "crops: 0it [00:00, ?it/s]"
      ]
     },
     "metadata": {},
     "output_type": "display_data"
    },
    {
     "name": "stdout",
     "output_type": "stream",
     "text": [
      "{'num_original_molecules': 1}\n"
     ]
    }
   ],
   "source": [
    "self = BionanoCompare()\n",
    "self.data_prep.selector.top_mol_num = 1\n",
    "self.data_prep.num_crops_per_size = 100\n",
    "self.data_prep.crop_size_range_bp = 100 * 1000, 100 * 1000\n",
    "self.data_prep.num_sizes = 1\n",
    "self.data_prep.selector.run_ids = np.arange(8) + 1\n",
    "self.init_run()\n",
    "self.read_cmap()\n",
    "self.make_refs()\n",
    "\n",
    "self.data_prep.make_crops()\n",
    "self.data_prep.print_crops_report()\n",
    "self.data_prep.make_crops_bnx()"
   ]
  },
  {
   "cell_type": "markdown",
   "metadata": {},
   "source": [
    "Bionano Pipeline"
   ]
  },
  {
   "cell_type": "code",
   "execution_count": 95,
   "metadata": {},
   "outputs": [
    {
     "name": "stdout",
     "output_type": "stream",
     "text": [
      "/home/ynogin/bionano_sw/tools/pipeline/Solve3.7_03302022_283/RefAligner/1.0/RefAligner -i /home/ynogin/out/refaligner_out/20230129T155931Z/20230129T155931Z.bnx -ref /home/ynogin/data/bionano_runs/2022-04-19/hg38_DLE1_0kb_0labels.cmap -o /home/ynogin/out/refaligner_out/20230129T155931Z/20230129T155931Z -f -BestRef 1 -usecolor 1 -A 2 -T 1 -S -1000\n"
     ]
    },
    {
     "data": {
      "application/vnd.jupyter.widget-view+json": {
       "model_id": "63b238c8cf2b49819fc72bb79522625b",
       "version_major": 2,
       "version_minor": 0
      },
      "text/plain": [
       "refaligner:   0%|          | 0/1 [00:00<?, ?it/s]"
      ]
     },
     "metadata": {},
     "output_type": "display_data"
    },
    {
     "name": "stdout",
     "output_type": "stream",
     "text": [
      "/home/ynogin/bionano_sw/tools/pipeline/Solve3.7_03302022_283/RefAligner/1.0/RefAligner -i /home/ynogin/out/refaligner_out/20230129T160008Z/20230129T160008Z.bnx -ref /home/ynogin/data/bionano_runs/2022-04-19/hg38_DLE1_0kb_0labels.cmap -o /home/ynogin/out/refaligner_out/20230129T160008Z/20230129T160008Z -f -BestRef 1 -usecolor 1 -A 2 -T 1 -S -1000\n"
     ]
    },
    {
     "data": {
      "application/vnd.jupyter.widget-view+json": {
       "model_id": "00b1a47069a444bd963d1b1c79582bdf",
       "version_major": 2,
       "version_minor": 0
      },
      "text/plain": [
       "refaligner:   0%|          | 0/1 [00:00<?, ?it/s]"
      ]
     },
     "metadata": {},
     "output_type": "display_data"
    },
    {
     "name": "stdout",
     "output_type": "stream",
     "text": [
      "/home/ynogin/bionano_sw/tools/pipeline/Solve3.7_03302022_283/RefAligner/1.0/RefAligner -i /home/ynogin/out/refaligner_out/20230129T160043Z/20230129T160043Z.bnx -ref /home/ynogin/data/bionano_runs/2022-04-19/hg38_DLE1_0kb_0labels.cmap -o /home/ynogin/out/refaligner_out/20230129T160043Z/20230129T160043Z -f -BestRef 1 -usecolor 1 -A 2 -T 1 -S -1000\n"
     ]
    },
    {
     "data": {
      "application/vnd.jupyter.widget-view+json": {
       "model_id": "21581d9f0f9744f885e9b14e006d21a8",
       "version_major": 2,
       "version_minor": 0
      },
      "text/plain": [
       "refaligner:   0%|          | 0/1 [00:00<?, ?it/s]"
      ]
     },
     "metadata": {},
     "output_type": "display_data"
    },
    {
     "name": "stdout",
     "output_type": "stream",
     "text": [
      "/home/ynogin/bionano_sw/tools/pipeline/Solve3.7_03302022_283/RefAligner/1.0/RefAligner -i /home/ynogin/out/refaligner_out/20230129T160120Z/20230129T160120Z.bnx -ref /home/ynogin/data/bionano_runs/2022-04-19/hg38_DLE1_0kb_0labels.cmap -o /home/ynogin/out/refaligner_out/20230129T160120Z/20230129T160120Z -f -BestRef 1 -usecolor 1 -A 2 -T 1 -S -1000\n"
     ]
    },
    {
     "data": {
      "application/vnd.jupyter.widget-view+json": {
       "model_id": "66f5e30dc41043dd80b569bfee0982ff",
       "version_major": 2,
       "version_minor": 0
      },
      "text/plain": [
       "refaligner:   0%|          | 0/1 [00:00<?, ?it/s]"
      ]
     },
     "metadata": {},
     "output_type": "display_data"
    },
    {
     "name": "stdout",
     "output_type": "stream",
     "text": [
      "/home/ynogin/bionano_sw/tools/pipeline/Solve3.7_03302022_283/RefAligner/1.0/RefAligner -i /home/ynogin/out/refaligner_out/20230129T160157Z/20230129T160157Z.bnx -ref /home/ynogin/data/bionano_runs/2022-04-19/hg38_DLE1_0kb_0labels.cmap -o /home/ynogin/out/refaligner_out/20230129T160157Z/20230129T160157Z -f -BestRef 1 -usecolor 1 -A 2 -T 1 -S -1000\n"
     ]
    },
    {
     "data": {
      "application/vnd.jupyter.widget-view+json": {
       "model_id": "247f4d803257420691986b59489a6174",
       "version_major": 2,
       "version_minor": 0
      },
      "text/plain": [
       "refaligner:   0%|          | 0/1 [00:00<?, ?it/s]"
      ]
     },
     "metadata": {},
     "output_type": "display_data"
    },
    {
     "name": "stdout",
     "output_type": "stream",
     "text": [
      "/home/ynogin/bionano_sw/tools/pipeline/Solve3.7_03302022_283/RefAligner/1.0/RefAligner -i /home/ynogin/out/refaligner_out/20230129T160233Z/20230129T160233Z.bnx -ref /home/ynogin/data/bionano_runs/2022-04-19/hg38_DLE1_0kb_0labels.cmap -o /home/ynogin/out/refaligner_out/20230129T160233Z/20230129T160233Z -f -BestRef 1 -usecolor 1 -A 2 -T 1 -S -1000\n"
     ]
    },
    {
     "data": {
      "application/vnd.jupyter.widget-view+json": {
       "model_id": "4a958aabe2974722a46c67c036ab7913",
       "version_major": 2,
       "version_minor": 0
      },
      "text/plain": [
       "refaligner:   0%|          | 0/1 [00:00<?, ?it/s]"
      ]
     },
     "metadata": {},
     "output_type": "display_data"
    },
    {
     "name": "stdout",
     "output_type": "stream",
     "text": [
      "/home/ynogin/bionano_sw/tools/pipeline/Solve3.7_03302022_283/RefAligner/1.0/RefAligner -i /home/ynogin/out/refaligner_out/20230129T160311Z/20230129T160311Z.bnx -ref /home/ynogin/data/bionano_runs/2022-04-19/hg38_DLE1_0kb_0labels.cmap -o /home/ynogin/out/refaligner_out/20230129T160311Z/20230129T160311Z -f -BestRef 1 -usecolor 1 -A 2 -T 1 -S -1000\n"
     ]
    },
    {
     "data": {
      "application/vnd.jupyter.widget-view+json": {
       "model_id": "cd1a67fad925466b9bb5546814752996",
       "version_major": 2,
       "version_minor": 0
      },
      "text/plain": [
       "refaligner:   0%|          | 0/1 [00:00<?, ?it/s]"
      ]
     },
     "metadata": {},
     "output_type": "display_data"
    },
    {
     "name": "stdout",
     "output_type": "stream",
     "text": [
      "/home/ynogin/bionano_sw/tools/pipeline/Solve3.7_03302022_283/RefAligner/1.0/RefAligner -i /home/ynogin/out/refaligner_out/20230129T160348Z/20230129T160348Z.bnx -ref /home/ynogin/data/bionano_runs/2022-04-19/hg38_DLE1_0kb_0labels.cmap -o /home/ynogin/out/refaligner_out/20230129T160348Z/20230129T160348Z -f -BestRef 1 -usecolor 1 -A 2 -T 1 -S -1000\n"
     ]
    },
    {
     "data": {
      "application/vnd.jupyter.widget-view+json": {
       "model_id": "8ca2f1913d9e4d8e8108038b2aa8f6a0",
       "version_major": 2,
       "version_minor": 0
      },
      "text/plain": [
       "refaligner:   0%|          | 0/1 [00:00<?, ?it/s]"
      ]
     },
     "metadata": {},
     "output_type": "display_data"
    },
    {
     "name": "stdout",
     "output_type": "stream",
     "text": [
      "/home/ynogin/bionano_sw/tools/pipeline/Solve3.7_03302022_283/RefAligner/1.0/RefAligner -i /home/ynogin/out/refaligner_out/20230129T160424Z/20230129T160424Z.bnx -ref /home/ynogin/data/bionano_runs/2022-04-19/hg38_DLE1_0kb_0labels.cmap -o /home/ynogin/out/refaligner_out/20230129T160424Z/20230129T160424Z -f -BestRef 1 -usecolor 1 -A 2 -T 1 -S -1000\n"
     ]
    },
    {
     "data": {
      "application/vnd.jupyter.widget-view+json": {
       "model_id": "07db92f177624b3584793e8a2efe1359",
       "version_major": 2,
       "version_minor": 0
      },
      "text/plain": [
       "refaligner:   0%|          | 0/1 [00:00<?, ?it/s]"
      ]
     },
     "metadata": {},
     "output_type": "display_data"
    },
    {
     "name": "stdout",
     "output_type": "stream",
     "text": [
      "/home/ynogin/bionano_sw/tools/pipeline/Solve3.7_03302022_283/RefAligner/1.0/RefAligner -i /home/ynogin/out/refaligner_out/20230129T160502Z/20230129T160502Z.bnx -ref /home/ynogin/data/bionano_runs/2022-04-19/hg38_DLE1_0kb_0labels.cmap -o /home/ynogin/out/refaligner_out/20230129T160502Z/20230129T160502Z -f -BestRef 1 -usecolor 1 -A 2 -T 1 -S -1000\n"
     ]
    },
    {
     "data": {
      "application/vnd.jupyter.widget-view+json": {
       "model_id": "91b50e084a0743e19c70d77df1a79e84",
       "version_major": 2,
       "version_minor": 0
      },
      "text/plain": [
       "refaligner:   0%|          | 0/1 [00:00<?, ?it/s]"
      ]
     },
     "metadata": {},
     "output_type": "display_data"
    },
    {
     "name": "stdout",
     "output_type": "stream",
     "text": [
      "36.9 s ± 864 ms per loop (mean ± std. dev. of 10 runs, 1 loop each)\n"
     ]
    }
   ],
   "source": [
    "%%timeit -n 1 -r 10\n",
    "self.run_bionano_on_bnx()"
   ]
  },
  {
   "attachments": {},
   "cell_type": "markdown",
   "metadata": {},
   "source": [
    "DeepOM Pipeline"
   ]
  },
  {
   "cell_type": "code",
   "execution_count": 96,
   "metadata": {},
   "outputs": [
    {
     "data": {
      "application/vnd.jupyter.widget-view+json": {
       "model_id": "8baf46d4f5c24fe99b964f9506d361fc",
       "version_major": 2,
       "version_minor": 0
      },
      "text/plain": [
       "qry items:   0%|          | 0/200 [00:00<?, ?it/s]"
      ]
     },
     "metadata": {},
     "output_type": "display_data"
    },
    {
     "name": "stdout",
     "output_type": "stream",
     "text": [
      "BasicUNet features: (32, 32, 64, 128, 256, 32).\n",
      "loading checkpoint:  /home/ynogin/Dropbox/code/DeepOM/data/pretrained/checkpoint.pickle \n",
      "\n",
      "\n"
     ]
    },
    {
     "name": "stderr",
     "output_type": "stream",
     "text": [
      "/home/ynogin/miniconda3/envs/deepom/lib/python3.10/site-packages/monai/utils/deprecate_utils.py:107: FutureWarning: <class 'monai.transforms.utility.array.AddChannel'>: Class `AddChannel` has been deprecated since version 0.8. please use MetaTensor data type and monai.transforms.EnsureChannelFirst instead.\n",
      "  warn_deprecated(obj, msg, warning_category)\n"
     ]
    },
    {
     "data": {
      "application/vnd.jupyter.widget-view+json": {
       "model_id": "90cbd496dc8446d39a489e60537a24ff",
       "version_major": 2,
       "version_minor": 0
      },
      "text/plain": [
       "alignments:   0%|          | 0/4800 [00:00<?, ?it/s]"
      ]
     },
     "metadata": {},
     "output_type": "display_data"
    },
    {
     "name": "stdout",
     "output_type": "stream",
     "text": [
      "len(self.aligner_items)=100\n"
     ]
    },
    {
     "data": {
      "application/vnd.jupyter.widget-view+json": {
       "model_id": "fccbac1a15704338b7e7d75df814fbbb",
       "version_major": 2,
       "version_minor": 0
      },
      "text/plain": [
       "qry items:   0%|          | 0/200 [00:00<?, ?it/s]"
      ]
     },
     "metadata": {},
     "output_type": "display_data"
    },
    {
     "name": "stderr",
     "output_type": "stream",
     "text": [
      "/home/ynogin/miniconda3/envs/deepom/lib/python3.10/site-packages/monai/utils/deprecate_utils.py:107: FutureWarning: <class 'monai.transforms.utility.array.AddChannel'>: Class `AddChannel` has been deprecated since version 0.8. please use MetaTensor data type and monai.transforms.EnsureChannelFirst instead.\n",
      "  warn_deprecated(obj, msg, warning_category)\n"
     ]
    },
    {
     "data": {
      "application/vnd.jupyter.widget-view+json": {
       "model_id": "74170af198b64a3ebb7ac3016060c9a8",
       "version_major": 2,
       "version_minor": 0
      },
      "text/plain": [
       "alignments:   0%|          | 0/4800 [00:00<?, ?it/s]"
      ]
     },
     "metadata": {},
     "output_type": "display_data"
    },
    {
     "name": "stdout",
     "output_type": "stream",
     "text": [
      "len(self.aligner_items)=100\n"
     ]
    },
    {
     "data": {
      "application/vnd.jupyter.widget-view+json": {
       "model_id": "0434d39ba62043dda5bce2cf1fe6453d",
       "version_major": 2,
       "version_minor": 0
      },
      "text/plain": [
       "qry items:   0%|          | 0/200 [00:00<?, ?it/s]"
      ]
     },
     "metadata": {},
     "output_type": "display_data"
    },
    {
     "name": "stderr",
     "output_type": "stream",
     "text": [
      "/home/ynogin/miniconda3/envs/deepom/lib/python3.10/site-packages/monai/utils/deprecate_utils.py:107: FutureWarning: <class 'monai.transforms.utility.array.AddChannel'>: Class `AddChannel` has been deprecated since version 0.8. please use MetaTensor data type and monai.transforms.EnsureChannelFirst instead.\n",
      "  warn_deprecated(obj, msg, warning_category)\n"
     ]
    },
    {
     "data": {
      "application/vnd.jupyter.widget-view+json": {
       "model_id": "9fef25bad22347cbb697075f42e4ee91",
       "version_major": 2,
       "version_minor": 0
      },
      "text/plain": [
       "alignments:   0%|          | 0/4800 [00:00<?, ?it/s]"
      ]
     },
     "metadata": {},
     "output_type": "display_data"
    },
    {
     "name": "stdout",
     "output_type": "stream",
     "text": [
      "len(self.aligner_items)=100\n"
     ]
    },
    {
     "data": {
      "application/vnd.jupyter.widget-view+json": {
       "model_id": "9acf873ab895473e91b25bb93e0bac91",
       "version_major": 2,
       "version_minor": 0
      },
      "text/plain": [
       "qry items:   0%|          | 0/200 [00:00<?, ?it/s]"
      ]
     },
     "metadata": {},
     "output_type": "display_data"
    },
    {
     "name": "stderr",
     "output_type": "stream",
     "text": [
      "/home/ynogin/miniconda3/envs/deepom/lib/python3.10/site-packages/monai/utils/deprecate_utils.py:107: FutureWarning: <class 'monai.transforms.utility.array.AddChannel'>: Class `AddChannel` has been deprecated since version 0.8. please use MetaTensor data type and monai.transforms.EnsureChannelFirst instead.\n",
      "  warn_deprecated(obj, msg, warning_category)\n"
     ]
    },
    {
     "data": {
      "application/vnd.jupyter.widget-view+json": {
       "model_id": "6ee0bc4e8eab461b8ed5d21de4332a96",
       "version_major": 2,
       "version_minor": 0
      },
      "text/plain": [
       "alignments:   0%|          | 0/4800 [00:00<?, ?it/s]"
      ]
     },
     "metadata": {},
     "output_type": "display_data"
    },
    {
     "name": "stdout",
     "output_type": "stream",
     "text": [
      "len(self.aligner_items)=100\n"
     ]
    },
    {
     "data": {
      "application/vnd.jupyter.widget-view+json": {
       "model_id": "a6af5353288b4bbbb6b907b1ac858326",
       "version_major": 2,
       "version_minor": 0
      },
      "text/plain": [
       "qry items:   0%|          | 0/200 [00:00<?, ?it/s]"
      ]
     },
     "metadata": {},
     "output_type": "display_data"
    },
    {
     "name": "stderr",
     "output_type": "stream",
     "text": [
      "/home/ynogin/miniconda3/envs/deepom/lib/python3.10/site-packages/monai/utils/deprecate_utils.py:107: FutureWarning: <class 'monai.transforms.utility.array.AddChannel'>: Class `AddChannel` has been deprecated since version 0.8. please use MetaTensor data type and monai.transforms.EnsureChannelFirst instead.\n",
      "  warn_deprecated(obj, msg, warning_category)\n"
     ]
    },
    {
     "data": {
      "application/vnd.jupyter.widget-view+json": {
       "model_id": "b941bf54ee974adcaaa6ca56de2b300a",
       "version_major": 2,
       "version_minor": 0
      },
      "text/plain": [
       "alignments:   0%|          | 0/4800 [00:00<?, ?it/s]"
      ]
     },
     "metadata": {},
     "output_type": "display_data"
    },
    {
     "name": "stdout",
     "output_type": "stream",
     "text": [
      "len(self.aligner_items)=100\n"
     ]
    },
    {
     "data": {
      "application/vnd.jupyter.widget-view+json": {
       "model_id": "5d79a844beac43dcb4f4b45d24e00f5c",
       "version_major": 2,
       "version_minor": 0
      },
      "text/plain": [
       "qry items:   0%|          | 0/200 [00:00<?, ?it/s]"
      ]
     },
     "metadata": {},
     "output_type": "display_data"
    },
    {
     "name": "stderr",
     "output_type": "stream",
     "text": [
      "/home/ynogin/miniconda3/envs/deepom/lib/python3.10/site-packages/monai/utils/deprecate_utils.py:107: FutureWarning: <class 'monai.transforms.utility.array.AddChannel'>: Class `AddChannel` has been deprecated since version 0.8. please use MetaTensor data type and monai.transforms.EnsureChannelFirst instead.\n",
      "  warn_deprecated(obj, msg, warning_category)\n"
     ]
    },
    {
     "data": {
      "application/vnd.jupyter.widget-view+json": {
       "model_id": "6e78e9b13db94544acc3742080310678",
       "version_major": 2,
       "version_minor": 0
      },
      "text/plain": [
       "alignments:   0%|          | 0/4800 [00:00<?, ?it/s]"
      ]
     },
     "metadata": {},
     "output_type": "display_data"
    },
    {
     "name": "stdout",
     "output_type": "stream",
     "text": [
      "len(self.aligner_items)=100\n"
     ]
    },
    {
     "data": {
      "application/vnd.jupyter.widget-view+json": {
       "model_id": "01c31dcd2a6e4d6ca1495ab1fb39a3f2",
       "version_major": 2,
       "version_minor": 0
      },
      "text/plain": [
       "qry items:   0%|          | 0/200 [00:00<?, ?it/s]"
      ]
     },
     "metadata": {},
     "output_type": "display_data"
    },
    {
     "name": "stderr",
     "output_type": "stream",
     "text": [
      "/home/ynogin/miniconda3/envs/deepom/lib/python3.10/site-packages/monai/utils/deprecate_utils.py:107: FutureWarning: <class 'monai.transforms.utility.array.AddChannel'>: Class `AddChannel` has been deprecated since version 0.8. please use MetaTensor data type and monai.transforms.EnsureChannelFirst instead.\n",
      "  warn_deprecated(obj, msg, warning_category)\n"
     ]
    },
    {
     "data": {
      "application/vnd.jupyter.widget-view+json": {
       "model_id": "1aa0e45d77fc4f23bad7a0bdc7626e1b",
       "version_major": 2,
       "version_minor": 0
      },
      "text/plain": [
       "alignments:   0%|          | 0/4800 [00:00<?, ?it/s]"
      ]
     },
     "metadata": {},
     "output_type": "display_data"
    },
    {
     "name": "stdout",
     "output_type": "stream",
     "text": [
      "len(self.aligner_items)=100\n"
     ]
    },
    {
     "data": {
      "application/vnd.jupyter.widget-view+json": {
       "model_id": "c15edd425830481189898e312a9486c2",
       "version_major": 2,
       "version_minor": 0
      },
      "text/plain": [
       "qry items:   0%|          | 0/200 [00:00<?, ?it/s]"
      ]
     },
     "metadata": {},
     "output_type": "display_data"
    },
    {
     "name": "stderr",
     "output_type": "stream",
     "text": [
      "/home/ynogin/miniconda3/envs/deepom/lib/python3.10/site-packages/monai/utils/deprecate_utils.py:107: FutureWarning: <class 'monai.transforms.utility.array.AddChannel'>: Class `AddChannel` has been deprecated since version 0.8. please use MetaTensor data type and monai.transforms.EnsureChannelFirst instead.\n",
      "  warn_deprecated(obj, msg, warning_category)\n"
     ]
    },
    {
     "data": {
      "application/vnd.jupyter.widget-view+json": {
       "model_id": "d1ba52aa41ac4202a2b75bdb33f39e92",
       "version_major": 2,
       "version_minor": 0
      },
      "text/plain": [
       "alignments:   0%|          | 0/4800 [00:00<?, ?it/s]"
      ]
     },
     "metadata": {},
     "output_type": "display_data"
    },
    {
     "name": "stdout",
     "output_type": "stream",
     "text": [
      "len(self.aligner_items)=100\n"
     ]
    },
    {
     "data": {
      "application/vnd.jupyter.widget-view+json": {
       "model_id": "c4e05d0bfdee490c939d5a277bfc6525",
       "version_major": 2,
       "version_minor": 0
      },
      "text/plain": [
       "qry items:   0%|          | 0/200 [00:00<?, ?it/s]"
      ]
     },
     "metadata": {},
     "output_type": "display_data"
    },
    {
     "name": "stderr",
     "output_type": "stream",
     "text": [
      "/home/ynogin/miniconda3/envs/deepom/lib/python3.10/site-packages/monai/utils/deprecate_utils.py:107: FutureWarning: <class 'monai.transforms.utility.array.AddChannel'>: Class `AddChannel` has been deprecated since version 0.8. please use MetaTensor data type and monai.transforms.EnsureChannelFirst instead.\n",
      "  warn_deprecated(obj, msg, warning_category)\n"
     ]
    },
    {
     "data": {
      "application/vnd.jupyter.widget-view+json": {
       "model_id": "a95a38d9c33a429bb05d52e5e9e16d80",
       "version_major": 2,
       "version_minor": 0
      },
      "text/plain": [
       "alignments:   0%|          | 0/4800 [00:00<?, ?it/s]"
      ]
     },
     "metadata": {},
     "output_type": "display_data"
    },
    {
     "name": "stdout",
     "output_type": "stream",
     "text": [
      "len(self.aligner_items)=100\n"
     ]
    },
    {
     "data": {
      "application/vnd.jupyter.widget-view+json": {
       "model_id": "1b5e094816a8474aa7698536fd85bc67",
       "version_major": 2,
       "version_minor": 0
      },
      "text/plain": [
       "qry items:   0%|          | 0/200 [00:00<?, ?it/s]"
      ]
     },
     "metadata": {},
     "output_type": "display_data"
    },
    {
     "name": "stderr",
     "output_type": "stream",
     "text": [
      "/home/ynogin/miniconda3/envs/deepom/lib/python3.10/site-packages/monai/utils/deprecate_utils.py:107: FutureWarning: <class 'monai.transforms.utility.array.AddChannel'>: Class `AddChannel` has been deprecated since version 0.8. please use MetaTensor data type and monai.transforms.EnsureChannelFirst instead.\n",
      "  warn_deprecated(obj, msg, warning_category)\n"
     ]
    },
    {
     "data": {
      "application/vnd.jupyter.widget-view+json": {
       "model_id": "0a9e5b018f3e4ab9a2aa4e0748aaca7e",
       "version_major": 2,
       "version_minor": 0
      },
      "text/plain": [
       "alignments:   0%|          | 0/4800 [00:00<?, ?it/s]"
      ]
     },
     "metadata": {},
     "output_type": "display_data"
    },
    {
     "name": "stdout",
     "output_type": "stream",
     "text": [
      "len(self.aligner_items)=100\n",
      "35.7 s ± 1.02 s per loop (mean ± std. dev. of 10 runs, 1 loop each)\n"
     ]
    }
   ],
   "source": [
    "%%timeit -n 1 -r 10\n",
    "self.run_aligner()"
   ]
  },
  {
   "cell_type": "code",
   "execution_count": 127,
   "metadata": {},
   "outputs": [
    {
     "data": {
      "text/plain": [
       "Down(\n",
       "  (max_pooling): MaxPool1d(kernel_size=2, stride=2, padding=0, dilation=1, ceil_mode=False)\n",
       "  (convs): TwoConv(\n",
       "    (conv_0): Convolution(\n",
       "      (conv): Conv1d(32, 64, kernel_size=(3,), stride=(1,), padding=(1,))\n",
       "      (adn): ADN(\n",
       "        (N): InstanceNorm1d(64, eps=1e-05, momentum=0.1, affine=True, track_running_stats=False)\n",
       "        (D): Dropout(p=0.0, inplace=False)\n",
       "        (A): LeakyReLU(negative_slope=0.1, inplace=True)\n",
       "      )\n",
       "    )\n",
       "    (conv_1): Convolution(\n",
       "      (conv): Conv1d(64, 64, kernel_size=(3,), stride=(1,), padding=(1,))\n",
       "      (adn): ADN(\n",
       "        (N): InstanceNorm1d(64, eps=1e-05, momentum=0.1, affine=True, track_running_stats=False)\n",
       "        (D): Dropout(p=0.0, inplace=False)\n",
       "        (A): LeakyReLU(negative_slope=0.1, inplace=True)\n",
       "      )\n",
       "    )\n",
       "  )\n",
       ")"
      ]
     },
     "execution_count": 127,
     "metadata": {},
     "output_type": "execute_result"
    }
   ],
   "source": [
    "localizer_module.module.down_2"
   ]
  },
  {
   "cell_type": "code",
   "execution_count": null,
   "metadata": {},
   "outputs": [],
   "source": []
  }
 ],
 "metadata": {
  "kernelspec": {
   "display_name": "deepom",
   "language": "python",
   "name": "python3"
  },
  "language_info": {
   "codemirror_mode": {
    "name": "ipython",
    "version": 3
   },
   "file_extension": ".py",
   "mimetype": "text/x-python",
   "name": "python",
   "nbconvert_exporter": "python",
   "pygments_lexer": "ipython3",
   "version": "3.10.8"
  },
  "orig_nbformat": 4,
  "vscode": {
   "interpreter": {
    "hash": "628b07de65402c73b9232ee4171471520d9afcc3ab7650ec0bd1e4aa05b87cb9"
   }
  }
 },
 "nbformat": 4,
 "nbformat_minor": 2
}
