{
 "cells": [
  {
   "cell_type": "code",
   "execution_count": 2,
   "metadata": {},
   "outputs": [
    {
     "ename": "AttributeError",
     "evalue": "Can't get attribute 'LocalizerOutputItem' on <module 'om_decoder.optical_mapper' from '/home/ynogin/om-decoder/om_decoder/optical_mapper.py'>",
     "output_type": "error",
     "traceback": [
      "\u001B[0;31m---------------------------------------------------------------------------\u001B[0m",
      "\u001B[0;31mAttributeError\u001B[0m                            Traceback (most recent call last)",
      "\u001B[0;32m/tmp/ipykernel_639369/146651229.py\u001B[0m in \u001B[0;36m<module>\u001B[0;34m\u001B[0m\n\u001B[1;32m      3\u001B[0m \u001B[0mreport_a\u001B[0m \u001B[0;34m=\u001B[0m \u001B[0mBionanoCompareReport\u001B[0m\u001B[0;34m(\u001B[0m\u001B[0;34m)\u001B[0m\u001B[0;34m\u001B[0m\u001B[0;34m\u001B[0m\u001B[0m\n\u001B[1;32m      4\u001B[0m \u001B[0mreport_a\u001B[0m\u001B[0;34m.\u001B[0m\u001B[0mrun_name\u001B[0m \u001B[0;34m=\u001B[0m \u001B[0;34m\"20221014T092718Z\"\u001B[0m\u001B[0;34m\u001B[0m\u001B[0;34m\u001B[0m\u001B[0m\n\u001B[0;32m----> 5\u001B[0;31m \u001B[0mreport_a\u001B[0m\u001B[0;34m.\u001B[0m\u001B[0mread_compute_results\u001B[0m\u001B[0;34m(\u001B[0m\u001B[0;34m)\u001B[0m\u001B[0;34m\u001B[0m\u001B[0;34m\u001B[0m\u001B[0m\n\u001B[0m\u001B[1;32m      6\u001B[0m \u001B[0mreport_a\u001B[0m\u001B[0;34m.\u001B[0m\u001B[0mplot_compare\u001B[0m\u001B[0;34m(\u001B[0m\u001B[0;34m)\u001B[0m\u001B[0;34m\u001B[0m\u001B[0;34m\u001B[0m\u001B[0m\n",
      "\u001B[0;32m~/DeepOM/deepom/bionano_compare.py\u001B[0m in \u001B[0;36mread_compute_results\u001B[0;34m(self)\u001B[0m\n\u001B[1;32m    406\u001B[0m     \u001B[0;32mdef\u001B[0m \u001B[0mread_compute_results\u001B[0m\u001B[0;34m(\u001B[0m\u001B[0mself\u001B[0m\u001B[0;34m)\u001B[0m\u001B[0;34m:\u001B[0m\u001B[0;34m\u001B[0m\u001B[0;34m\u001B[0m\u001B[0m\n\u001B[1;32m    407\u001B[0m         \u001B[0mfile_base\u001B[0m \u001B[0;34m=\u001B[0m \u001B[0mPaths\u001B[0m\u001B[0;34m(\u001B[0m\u001B[0;34m)\u001B[0m\u001B[0;34m.\u001B[0m\u001B[0mout_file_mkdir\u001B[0m\u001B[0;34m(\u001B[0m\u001B[0;34m\"bionano_compare\"\u001B[0m\u001B[0;34m,\u001B[0m \u001B[0mself\u001B[0m\u001B[0;34m.\u001B[0m\u001B[0mrun_name\u001B[0m\u001B[0;34m,\u001B[0m \u001B[0mself\u001B[0m\u001B[0;34m.\u001B[0m\u001B[0mrun_name\u001B[0m\u001B[0;34m)\u001B[0m\u001B[0;34m\u001B[0m\u001B[0;34m\u001B[0m\u001B[0m\n\u001B[0;32m--> 408\u001B[0;31m         \u001B[0mself\u001B[0m\u001B[0;34m.\u001B[0m\u001B[0mspaligner_items\u001B[0m \u001B[0;34m=\u001B[0m \u001B[0mpickle_load\u001B[0m\u001B[0;34m(\u001B[0m\u001B[0mfile_base\u001B[0m\u001B[0;34m.\u001B[0m\u001B[0mwith_suffix\u001B[0m\u001B[0;34m(\u001B[0m\u001B[0;34m\".spaligner.pickle\"\u001B[0m\u001B[0;34m)\u001B[0m\u001B[0;34m)\u001B[0m\u001B[0;34m\u001B[0m\u001B[0;34m\u001B[0m\u001B[0m\n\u001B[0m\u001B[1;32m    409\u001B[0m         \u001B[0;32mtry\u001B[0m\u001B[0;34m:\u001B[0m\u001B[0;34m\u001B[0m\u001B[0;34m\u001B[0m\u001B[0m\n\u001B[1;32m    410\u001B[0m             \u001B[0mself\u001B[0m\u001B[0;34m.\u001B[0m\u001B[0mspaligner_bnx_items\u001B[0m \u001B[0;34m=\u001B[0m \u001B[0mpickle_load\u001B[0m\u001B[0;34m(\u001B[0m\u001B[0mfile_base\u001B[0m\u001B[0;34m.\u001B[0m\u001B[0mwith_suffix\u001B[0m\u001B[0;34m(\u001B[0m\u001B[0;34m\".spaligner_bnx.pickle\"\u001B[0m\u001B[0;34m)\u001B[0m\u001B[0;34m)\u001B[0m\u001B[0;34m\u001B[0m\u001B[0;34m\u001B[0m\u001B[0m\n",
      "\u001B[0;32m~/DeepOM/deepom/utils.py\u001B[0m in \u001B[0;36mpickle_load\u001B[0;34m(file, cls)\u001B[0m\n\u001B[1;32m    374\u001B[0m \u001B[0;32mdef\u001B[0m \u001B[0mpickle_load\u001B[0m\u001B[0;34m(\u001B[0m\u001B[0mfile\u001B[0m\u001B[0;34m,\u001B[0m \u001B[0mcls\u001B[0m\u001B[0;34m:\u001B[0m \u001B[0mType\u001B[0m\u001B[0;34m[\u001B[0m\u001B[0mT\u001B[0m\u001B[0;34m]\u001B[0m \u001B[0;34m=\u001B[0m \u001B[0;32mNone\u001B[0m\u001B[0;34m)\u001B[0m \u001B[0;34m->\u001B[0m \u001B[0mT\u001B[0m\u001B[0;34m:\u001B[0m\u001B[0;34m\u001B[0m\u001B[0;34m\u001B[0m\u001B[0m\n\u001B[1;32m    375\u001B[0m     \u001B[0;32mwith\u001B[0m \u001B[0mPath\u001B[0m\u001B[0;34m(\u001B[0m\u001B[0mfile\u001B[0m\u001B[0;34m)\u001B[0m\u001B[0;34m.\u001B[0m\u001B[0mopen\u001B[0m\u001B[0;34m(\u001B[0m\u001B[0mmode\u001B[0m\u001B[0;34m=\u001B[0m\u001B[0;34m'rb'\u001B[0m\u001B[0;34m)\u001B[0m \u001B[0;32mas\u001B[0m \u001B[0mfile_object\u001B[0m\u001B[0;34m:\u001B[0m\u001B[0;34m\u001B[0m\u001B[0;34m\u001B[0m\u001B[0m\n\u001B[0;32m--> 376\u001B[0;31m         \u001B[0mobj\u001B[0m \u001B[0;34m=\u001B[0m \u001B[0mpickle\u001B[0m\u001B[0;34m.\u001B[0m\u001B[0mload\u001B[0m\u001B[0;34m(\u001B[0m\u001B[0mfile\u001B[0m\u001B[0;34m=\u001B[0m\u001B[0mfile_object\u001B[0m\u001B[0;34m)\u001B[0m\u001B[0;34m\u001B[0m\u001B[0;34m\u001B[0m\u001B[0m\n\u001B[0m\u001B[1;32m    377\u001B[0m         \u001B[0;32mif\u001B[0m \u001B[0mcls\u001B[0m \u001B[0;32mis\u001B[0m \u001B[0;32mnot\u001B[0m \u001B[0;32mNone\u001B[0m\u001B[0;34m:\u001B[0m\u001B[0;34m\u001B[0m\u001B[0;34m\u001B[0m\u001B[0m\n\u001B[1;32m    378\u001B[0m             \u001B[0;32massert\u001B[0m \u001B[0misinstance\u001B[0m\u001B[0;34m(\u001B[0m\u001B[0mobj\u001B[0m\u001B[0;34m,\u001B[0m \u001B[0mcls\u001B[0m\u001B[0;34m)\u001B[0m\u001B[0;34m\u001B[0m\u001B[0;34m\u001B[0m\u001B[0m\n",
      "\u001B[0;31mAttributeError\u001B[0m: Can't get attribute 'LocalizerOutputItem' on <module 'om_decoder.optical_mapper' from '/home/ynogin/om-decoder/om_decoder/optical_mapper.py'>"
     ]
    }
   ],
   "source": [
    "from deepom.bionano_compare import *\n",
    "from deepom.bionano_utils import *\n",
    "\n",
    "report_a = BionanoCompareReport()\n",
    "report_a.run_name = \"20221014T092718Z\"\n",
    "report_a.read_compute_results()\n",
    "report_a.plot_compare()"
   ]
  },
  {
   "cell_type": "code",
   "execution_count": null,
   "outputs": [],
   "source": [
    "from deepom.bionano_compare import *\n",
    "\n",
    "report_b = BionanoCompareReport()\n",
    "report_b.run_name = \"20221011T134448Z\"\n",
    "report_b.read_compute_results()\n",
    "report_b.plot_compare()"
   ],
   "metadata": {
    "collapsed": false
   }
  },
  {
   "cell_type": "code",
   "execution_count": null,
   "metadata": {},
   "outputs": [],
   "source": [
    "from pathlib import Path\n",
    "from matplotlib import ticker\n",
    "from matplotlib.ticker import MultipleLocator\n",
    "\n",
    "_, axs = pyplot.subplots(figsize=(10, 4), dpi=200, ncols=2)\n",
    "\n",
    "title_kw = dict(loc=\"left\", y=1.1, pad=-10, fontdict={\"color\": \"k\"})\n",
    "pyplot.sca(axs[0])\n",
    "pyplot.title(\"a.\", **title_kw)\n",
    "report_a.plot_compare()\n",
    "\n",
    "\n",
    "def set_fig_params():\n",
    "    pyplot.xscale(\"log\")\n",
    "    ax = pyplot.gca()\n",
    "    ax.xaxis.set_major_formatter(matplotlib.ticker.FuncFormatter(lambda x, y: int(x // 1000)))\n",
    "    ax.xaxis.set_minor_locator(MultipleLocator(10000))\n",
    "    ax.xaxis.set_minor_formatter(matplotlib.ticker.NullFormatter())\n",
    "    pyplot.grid(which=\"both\")\n",
    "\n",
    "\n",
    "set_fig_params()\n",
    "pyplot.legend(\n",
    "    pyplot.gca().lines,\n",
    "    [\"DeepOM\", \"Bionano Localizer + DeepOM Aligner\"],\n",
    "    fontsize=8,\n",
    ")\n",
    "pyplot.xticks(numpy.stack([20, 50, 100, 200, 400]) * 1000)\n",
    "pyplot.sca(axs[1])\n",
    "\n",
    "pyplot.title(\"b.\", **title_kw)\n",
    "report_b.plot_compare()\n",
    "set_fig_params()\n",
    "\n",
    "pyplot.legend(\n",
    "    pyplot.gca().lines,\n",
    "    [\"DeepOM\", \"Bionano Localizer + Aligner\"],\n",
    "    fontsize=8,\n",
    ")\n",
    "pyplot.xticks(numpy.stack([20, 50, 100, 200]) * 1000)\n",
    "pyplot.tight_layout()\n",
    "for ext in [\".pdf\"]:\n",
    "    pyplot.savefig(Path(\"../../DeepOM-Paper/figures\") / (\"benchmark_figure\" + ext), bbox_inches='tight')"
   ]
  }
 ],
 "metadata": {
  "kernelspec": {
   "display_name": "Python 3.9.10 ('om')",
   "language": "python",
   "name": "python3"
  },
  "language_info": {
   "codemirror_mode": {
    "name": "ipython",
    "version": 3
   },
   "file_extension": ".py",
   "mimetype": "text/x-python",
   "name": "python",
   "nbconvert_exporter": "python",
   "pygments_lexer": "ipython3",
   "version": "3.9.10"
  },
  "orig_nbformat": 4,
  "vscode": {
   "interpreter": {
    "hash": "ba88cba0bd1684bf681f0a514929985c4631defba69dd57c081f0ebc100d81ea"
   }
  }
 },
 "nbformat": 4,
 "nbformat_minor": 2
}
