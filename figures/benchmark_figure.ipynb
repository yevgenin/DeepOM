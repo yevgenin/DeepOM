{
 "cells": [
  {
   "cell_type": "code",
   "execution_count": 4,
   "metadata": {},
   "outputs": [
    {
     "data": {
      "text/plain": "<Figure size 432x288 with 1 Axes>",
      "image/png": "[encoded data removed]"
     },
     "metadata": {
      "needs_background": "light"
     },
     "output_type": "display_data"
    }
   ],
   "source": [
    "from deepom.bionano_compare import *\n",
    "from deepom.bionano_utils import *\n",
    "\n",
    "report_a = BionanoCompareReport()\n",
    "# report_a.run_name = \"20221014T092718Z\"\n",
    "# report_a.run_name = \"20221021T231508Z\"\n",
    "report_a.run_name = \"20221021T231815Z\"\n",
    "report_a.read_compute_results()\n",
    "report_a.plot_compare()"
   ]
  },
  {
   "cell_type": "code",
   "execution_count": 5,
   "outputs": [
    {
     "ename": "AttributeError",
     "evalue": "'BionanoCompareReport' object has no attribute 'bionano_accuracy'",
     "output_type": "error",
     "traceback": [
      "\u001B[0;31m---------------------------------------------------------------------------\u001B[0m",
      "\u001B[0;31mAttributeError\u001B[0m                            Traceback (most recent call last)",
      "\u001B[0;32m/tmp/ipykernel_645969/4238340202.py\u001B[0m in \u001B[0;36m<module>\u001B[0;34m\u001B[0m\n\u001B[0;32m----> 1\u001B[0;31m \u001B[0mreport_a\u001B[0m\u001B[0;34m.\u001B[0m\u001B[0mbionano_accuracy\u001B[0m\u001B[0;34m\u001B[0m\u001B[0;34m\u001B[0m\u001B[0m\n\u001B[0m",
      "\u001B[0;31mAttributeError\u001B[0m: 'BionanoCompareReport' object has no attribute 'bionano_accuracy'"
     ]
    }
   ],
   "source": [
    "report_a.bionano_accuracy"
   ],
   "metadata": {
    "collapsed": false
   }
  },
  {
   "cell_type": "code",
   "execution_count": 6,
   "outputs": [
    {
     "data": {
      "text/plain": "len_bp\n15000.0     0.0\n450000.0    1.0\nName: correct, dtype: float64"
     },
     "execution_count": 6,
     "metadata": {},
     "output_type": "execute_result"
    }
   ],
   "source": [
    "report_a.aligner_accuracy"
   ],
   "metadata": {
    "collapsed": false
   }
  },
  {
   "cell_type": "code",
   "execution_count": null,
   "outputs": [],
   "source": [
    "from deepom.bionano_compare import *\n",
    "\n",
    "report_b = BionanoCompareReport()\n",
    "report_b.run_name = \"20221011T134448Z\"\n",
    "report_b.read_compute_results()\n",
    "report_b.plot_compare()"
   ],
   "metadata": {
    "collapsed": false
   }
  },
  {
   "cell_type": "code",
   "execution_count": null,
   "metadata": {},
   "outputs": [],
   "source": [
    "from pathlib import Path\n",
    "from matplotlib import ticker\n",
    "from matplotlib.ticker import MultipleLocator\n",
    "\n",
    "_, axs = pyplot.subplots(figsize=(10, 4), dpi=200, ncols=2)\n",
    "\n",
    "title_kw = dict(loc=\"left\", y=1.1, pad=-10, fontdict={\"color\": \"k\"})\n",
    "pyplot.sca(axs[0])\n",
    "pyplot.title(\"a.\", **title_kw)\n",
    "report_a.plot_compare()\n",
    "\n",
    "\n",
    "def set_fig_params():\n",
    "    pyplot.xscale(\"log\")\n",
    "    ax = pyplot.gca()\n",
    "    ax.xaxis.set_major_formatter(matplotlib.ticker.FuncFormatter(lambda x, y: int(x // 1000)))\n",
    "    ax.xaxis.set_minor_locator(MultipleLocator(10000))\n",
    "    ax.xaxis.set_minor_formatter(matplotlib.ticker.NullFormatter())\n",
    "    pyplot.grid(which=\"both\")\n",
    "\n",
    "\n",
    "set_fig_params()\n",
    "pyplot.legend(\n",
    "    pyplot.gca().lines,\n",
    "    [\"DeepOM\", \"Bionano Localizer + DeepOM Aligner\"],\n",
    "    fontsize=8,\n",
    ")\n",
    "pyplot.xticks(numpy.stack([20, 50, 100, 200, 400]) * 1000)\n",
    "pyplot.sca(axs[1])\n",
    "\n",
    "pyplot.title(\"b.\", **title_kw)\n",
    "report_b.plot_compare()\n",
    "set_fig_params()\n",
    "\n",
    "pyplot.legend(\n",
    "    pyplot.gca().lines,\n",
    "    [\"DeepOM\", \"Bionano Localizer + Aligner\"],\n",
    "    fontsize=8,\n",
    ")\n",
    "pyplot.xticks(numpy.stack([20, 50, 100, 200]) * 1000)\n",
    "pyplot.tight_layout()\n",
    "for ext in [\".pdf\"]:\n",
    "    pyplot.savefig(Path(\"../../DeepOM-Paper/figures\") / (\"benchmark_figure\" + ext), bbox_inches='tight')"
   ]
  }
 ],
 "metadata": {
  "kernelspec": {
   "display_name": "Python 3.9.10 ('om')",
   "language": "python",
   "name": "python3"
  },
  "language_info": {
   "codemirror_mode": {
    "name": "ipython",
    "version": 3
   },
   "file_extension": ".py",
   "mimetype": "text/x-python",
   "name": "python",
   "nbconvert_exporter": "python",
   "pygments_lexer": "ipython3",
   "version": "3.9.10"
  },
  "orig_nbformat": 4,
  "vscode": {
   "interpreter": {
    "hash": "ba88cba0bd1684bf681f0a514929985c4631defba69dd57c081f0ebc100d81ea"
   }
  }
 },
 "nbformat": 4,
 "nbformat_minor": 2
}
