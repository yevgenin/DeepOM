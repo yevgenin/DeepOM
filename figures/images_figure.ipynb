{
 "cells": [
  {
   "cell_type": "code",
   "execution_count": 1,
   "outputs": [
    {
     "data": {
      "text/plain": "selected: 0it [00:00, ?it/s]",
      "application/vnd.jupyter.widget-view+json": {
       "version_major": 2,
       "version_minor": 0,
       "model_id": "970e5de81fd44d97bbc84cfcde6182d4"
      }
     },
     "metadata": {},
     "output_type": "display_data"
    },
    {
     "name": "stdout",
     "output_type": "stream",
     "text": [
      "crop_sizes [600000.]\n"
     ]
    },
    {
     "data": {
      "text/plain": "crops: 0it [00:00, ?it/s]",
      "application/vnd.jupyter.widget-view+json": {
       "version_major": 2,
       "version_minor": 0,
       "model_id": "673a974dcfa149fc80948a447456c61c"
      }
     },
     "metadata": {},
     "output_type": "display_data"
    },
    {
     "data": {
      "text/plain": "qry items:   0%|          | 0/2 [00:00<?, ?it/s]",
      "application/vnd.jupyter.widget-view+json": {
       "version_major": 2,
       "version_minor": 0,
       "model_id": "fb7ba9d2c68d4b17a93af5511036a868"
      }
     },
     "metadata": {},
     "output_type": "display_data"
    },
    {
     "name": "stdout",
     "output_type": "stream",
     "text": [
      "BasicUNet features: (32, 32, 64, 128, 256, 32).\n",
      "loading checkpoint:  /home/ynogin/out/LocalizerModule/LocalizerModule-20221021-mighty-asp/checkpoint.pickle \n",
      "\n",
      "\n"
     ]
    },
    {
     "data": {
      "text/plain": "alignments:   0%|          | 0/48 [00:00<?, ?it/s]",
      "application/vnd.jupyter.widget-view+json": {
       "version_major": 2,
       "version_minor": 0,
       "model_id": "4e5f7a8e306e4ded970650ab2a2c7b76"
      }
     },
     "metadata": {},
     "output_type": "display_data"
    },
    {
     "name": "stdout",
     "output_type": "stream",
     "text": [
      "len(self.spaligner_items)=1\n",
      "________________________________________________________________________________\n",
      "[Memory] Calling deepom.utils_cached.read_jxr_segment...\n",
      "read_jxr_segment(file=PosixPath('/home/ynogin/mnt/Q/Yevgeni/bionano_jxr/4751854a-2747-4d11-8e92-e8063787d701/FC1/Scan01/Bank1/B1_CH3_C018.jxr'), endpoints=array([[6656.,  123.],\n",
      "       [8074.,  128.]]), segment_width=201)\n",
      "_________________________________________________read_jxr_segment - 0.7s, 0.0min\n",
      "../data/images_figure.pickle\n"
     ]
    }
   ],
   "source": [
    "from deepom.figures import *\n",
    "\n",
    "Images_FigureData().make_figure_data()"
   ],
   "metadata": {
    "collapsed": false
   }
  },
  {
   "cell_type": "code",
   "execution_count": 68,
   "metadata": {},
   "outputs": [],
   "source": [
    "from deepom.figures import *\n",
    "\n",
    "data = Images_FigureData.load_figure_data()"
   ]
  },
  {
   "cell_type": "code",
   "execution_count": 69,
   "metadata": {},
   "outputs": [],
   "source": [
    "from matplotlib.ticker import MultipleLocator\n",
    "from matplotlib_scalebar.scalebar import ScaleBar\n",
    "\n",
    "data_item = data.data_item\n",
    "item = data.item\n",
    "refs = data.refs\n",
    "inference_item = data.inference_item\n",
    "\n",
    "scalebar_scale = 130e-9"
   ]
  },
  {
   "cell_type": "code",
   "execution_count": 70,
   "outputs": [
    {
     "name": "stderr",
     "output_type": "stream",
     "text": [
      "Lossy conversion from uint16 to uint8. Losing 8 bits of resolution. Convert image to uint8 prior to saving to suppress this warning.\n"
     ]
    }
   ],
   "source": [
    "import imageio\n",
    "from skimage.exposure import rescale_intensity\n",
    "\n",
    "im = item.crop_item.parent_bnx_item.bionano_image\n",
    "im.read_jxr_image()\n",
    "im = im.fov_image\n",
    "im = rescale_intensity(im, in_range=(250, 600))\n",
    "imageio.imwrite(\"../figures/fov_image.jpg\", im)"
   ],
   "metadata": {
    "collapsed": false
   }
  },
  {
   "cell_type": "code",
   "execution_count": 2,
   "outputs": [
    {
     "ename": "NameError",
     "evalue": "name 'item' is not defined",
     "output_type": "error",
     "traceback": [
      "\u001B[0;31m---------------------------------------------------------------------------\u001B[0m",
      "\u001B[0;31mNameError\u001B[0m                                 Traceback (most recent call last)",
      "\u001B[0;32m/tmp/ipykernel_639086/2615569007.py\u001B[0m in \u001B[0;36m<module>\u001B[0;34m\u001B[0m\n\u001B[1;32m     15\u001B[0m \u001B[0mpyplot\u001B[0m\u001B[0;34m.\u001B[0m\u001B[0mtitle\u001B[0m\u001B[0;34m(\u001B[0m\u001B[0;34m\"a.\"\u001B[0m\u001B[0;34m,\u001B[0m \u001B[0;34m**\u001B[0m\u001B[0mtitle_kw\u001B[0m\u001B[0;34m)\u001B[0m\u001B[0;34m\u001B[0m\u001B[0;34m\u001B[0m\u001B[0m\n\u001B[1;32m     16\u001B[0m \u001B[0;34m\u001B[0m\u001B[0m\n\u001B[0;32m---> 17\u001B[0;31m \u001B[0mfov_image\u001B[0m \u001B[0;34m=\u001B[0m \u001B[0mitem\u001B[0m\u001B[0;34m.\u001B[0m\u001B[0mcrop_item\u001B[0m\u001B[0;34m.\u001B[0m\u001B[0mparent_bnx_item\u001B[0m\u001B[0;34m.\u001B[0m\u001B[0mbionano_image\u001B[0m\u001B[0;34m.\u001B[0m\u001B[0msegment_image\u001B[0m\u001B[0;34m[\u001B[0m\u001B[0;36m0\u001B[0m\u001B[0;34m]\u001B[0m\u001B[0;34m\u001B[0m\u001B[0;34m\u001B[0m\u001B[0m\n\u001B[0m\u001B[1;32m     18\u001B[0m \u001B[0mfov_image\u001B[0m \u001B[0;34m=\u001B[0m \u001B[0mfov_image\u001B[0m\u001B[0;34m[\u001B[0m\u001B[0;36m20\u001B[0m\u001B[0;34m:\u001B[0m \u001B[0;34m-\u001B[0m\u001B[0;36m20\u001B[0m\u001B[0;34m]\u001B[0m\u001B[0;34m\u001B[0m\u001B[0;34m\u001B[0m\u001B[0m\n\u001B[1;32m     19\u001B[0m \u001B[0mfov_image\u001B[0m \u001B[0;34m=\u001B[0m \u001B[0mrescale_intensity\u001B[0m\u001B[0;34m(\u001B[0m\u001B[0mfov_image\u001B[0m\u001B[0;34m,\u001B[0m \u001B[0min_range\u001B[0m\u001B[0;34m=\u001B[0m\u001B[0;34m(\u001B[0m\u001B[0;36m250\u001B[0m\u001B[0;34m,\u001B[0m \u001B[0;36m600\u001B[0m\u001B[0;34m)\u001B[0m\u001B[0;34m)\u001B[0m\u001B[0;34m\u001B[0m\u001B[0;34m\u001B[0m\u001B[0m\n",
      "\u001B[0;31mNameError\u001B[0m: name 'item' is not defined"
     ]
    },
    {
     "data": {
      "text/plain": "<Figure size 1400x600 with 3 Axes>",
      "image/png": "[encoded data removed]"
     },
     "metadata": {
      "needs_background": "light"
     },
     "output_type": "display_data"
    }
   ],
   "source": [
    "from pathlib import Path\n",
    "from matplotlib.lines import Line2D\n",
    "from matplotlib.patches import Rectangle, ConnectionPatch\n",
    "\n",
    "_, axs = pyplot.subplots(figsize=(7, 3), dpi=200, nrows=3, gridspec_kw=dict(height_ratios=[2, .7, 1]))\n",
    "\n",
    "titles = [\n",
    "    \"a.\",\n",
    "    \"b.\",\n",
    "    \"c.\",\n",
    "]\n",
    "title_kw = dict(loc=\"left\", y=1.0, pad=-10, fontdict={\"color\": \"w\"})\n",
    "####################################################################\n",
    "pyplot.sca(axs[0])\n",
    "pyplot.title(\"a.\", **title_kw)\n",
    "\n",
    "fov_image = item.crop_item.parent_bnx_item.bionano_image.segment_image[0]\n",
    "fov_image = fov_image[20: -20]\n",
    "fov_image = rescale_intensity(fov_image, in_range=(250, 600))\n",
    "\n",
    "pyplot.imshow(fov_image, cmap=\"gray\", aspect=\"auto\")\n",
    "\n",
    "scalebar_kw = dict(color=\"ghostwhite\", box_alpha=0, scale_loc=\"top\", location=\"upper right\", width_fraction=.02, sep=0,\n",
    "                   font_properties=dict(weight=\"bold\", size=8))\n",
    "pyplot.gca().add_artist(ScaleBar(scalebar_scale, **scalebar_kw))\n",
    "\n",
    "ax = pyplot.gca()\n",
    "ax.xaxis.set_visible(False)\n",
    "ax.yaxis.set_visible(False)\n",
    "\n",
    "ilims = 29, 60\n",
    "margin = 30e3\n",
    "\n",
    "rvec = refs[item.ref_id]\n",
    "qvec = item.qry_item.qry\n",
    "\n",
    "lims = max(0, item.alignment_ref[ilims[0]] - margin), min(rvec.max(), item.alignment_ref[ilims[1]] + margin)\n",
    "rvec_show = rvec[slice(*rvec.searchsorted(lims))]\n",
    "offset = item.alignment_ref[ilims[0]] - item.alignment_qry[ilims[0]]\n",
    "mol_offset = lims[0] - offset\n",
    "scale = item.qry_item.scale\n",
    "\n",
    "im_displ = item.qry_item.inference_item.image_input\n",
    "im_displ = rescale_intensity(im_displ)\n",
    "\n",
    "h = 15\n",
    "x, y = (mol_offset / scale, fov_image.shape[0] // 2 - h / 2)\n",
    "w = (lims[1] - lims[0]) / scale\n",
    "rect0 = Rectangle((x, y), w, h, edgecolor='k', fill=False, linestyle=\"--\")\n",
    "ax.add_patch(rect0)\n",
    "\n",
    "pyplot.legend(\n",
    "    [Line2D([0], [0], color=c, linewidth=1, linestyle='-') for c in [\"tab:green\", \"b\", \"tab:red\"]],\n",
    "    [\"Genome CTTAAG sites\", \"DeepOM localizations\", \"Bionano Solve localizations\"],\n",
    "    ncol=3, loc=\"lower center\",\n",
    "    fontsize=6,\n",
    "    bbox_to_anchor=(0.5, -.3)\n",
    ")\n",
    "####################################################################\n",
    "pyplot.sca(axs[1])\n",
    "\n",
    "pyplot.title(\"b.\", **title_kw)\n",
    "\n",
    "bionano_locs = item.crop_item.pixel_locs * scale\n",
    "locs = item.alignment_qry\n",
    "scatter_kw = dict(marker=\"x\", s=5, alpha=1, linewidths=.5)\n",
    "\n",
    "\n",
    "def plot_molecule():\n",
    "    pyplot.imshow(im_displ[::-1], cmap='gray', extent=[0, im_displ.shape[-1] * scale, 3, 6], aspect=\"auto\")\n",
    "    set_only_x_visible()\n",
    "    set_formatter(lambda x, _: int(x / 1000))\n",
    "\n",
    "    pyplot.gca().add_artist(ScaleBar(scalebar_scale / scale, **scalebar_kw))\n",
    "\n",
    "\n",
    "plot_molecule()\n",
    "\n",
    "zoom_lims = 155 * 1000, 195 * 1000\n",
    "\n",
    "ax = pyplot.gca()\n",
    "margin_rect = .2\n",
    "rect1 = Rectangle((zoom_lims[0], 3 + margin_rect), (zoom_lims[1] - zoom_lims[0]), 3 - margin_rect * 2,\n",
    "                  edgecolor='w', fill=False, linestyle=\"--\")\n",
    "ax.add_patch(rect1)\n",
    "\n",
    "ax = pyplot.gca()\n",
    "ax.xaxis.set_major_locator(MultipleLocator(10000))\n",
    "ax.xaxis.set_minor_locator(MultipleLocator(1000))\n",
    "\n",
    "ref_sites = rvec_show - offset\n",
    "linewidths = .7\n",
    "pyplot.eventplot([ref_sites],\n",
    "                 lineoffsets=[2.5], colors=[\"tab:green\"],\n",
    "                 linelengths=[1], linewidths=linewidths)\n",
    "\n",
    "pyplot.xlim(lims[0] - offset, lims[1] - offset)\n",
    "pyplot.ylim(2, None)\n",
    "####################################################################\n",
    "pyplot.sca(axs[2])\n",
    "\n",
    "ax = pyplot.gca()\n",
    "ax.xaxis.set_major_locator(MultipleLocator(10000))\n",
    "ax.xaxis.set_minor_locator(MultipleLocator(1000))\n",
    "\n",
    "pyplot.title(\"c.\", **title_kw)\n",
    "pyplot.scatter(bionano_locs, [4.5] * len(bionano_locs), c=\"r\", **scatter_kw)\n",
    "pyplot.scatter(locs, [4.5] * len(locs), c=\"b\", **scatter_kw)\n",
    "\n",
    "pyplot.eventplot([ref_sites, locs, bionano_locs],\n",
    "                 lineoffsets=[.5, 1.5, 2.5], colors=[\"tab:green\", \"b\", \"tab:red\"],\n",
    "                 linelengths=[1, 1, 1], linewidths=linewidths)\n",
    "\n",
    "plot_molecule()\n",
    "pyplot.xlim(*zoom_lims)\n",
    "\n",
    "pyplot.ylim(0, None)\n",
    "pyplot.tight_layout(pad=.5)\n",
    "pyplot.xlabel(f\"chr{item.ref_id}:{int(offset)} offset (kb)\")\n",
    "fig = pyplot.gcf()\n",
    "arrow_kw = dict(\n",
    "    coordsA=axs[0].transData,\n",
    "    coordsB=axs[1].transAxes,\n",
    "    shrinkA=1,\n",
    "    shrinkB=4,\n",
    "    color=\"black\",\n",
    "    linestyle=\"--\",\n",
    "    arrowstyle=\"-\",\n",
    "    mutation_scale=10,\n",
    "    linewidth=.5,\n",
    ")\n",
    "x, y = rect0.xy\n",
    "w = rect0.get_width()\n",
    "fig.patches.extend([ConnectionPatch((x, y), (0, 1), **arrow_kw), ConnectionPatch((x + w, y), (1, 1), **arrow_kw)])\n",
    "\n",
    "for ext in [\".pdf\"]:\n",
    "    pyplot.savefig(Path(\"../../DeepOM-Paper/figures\") / (\"images_figure\" + ext), bbox_inches='tight')"
   ],
   "metadata": {
    "collapsed": false
   }
  }
 ],
 "metadata": {
  "kernelspec": {
   "display_name": "Python 3.9.10 ('om')",
   "language": "python",
   "name": "python3"
  },
  "language_info": {
   "codemirror_mode": {
    "name": "ipython",
    "version": 3
   },
   "file_extension": ".py",
   "mimetype": "text/x-python",
   "name": "python",
   "nbconvert_exporter": "python",
   "pygments_lexer": "ipython3",
   "version": "3.9.10"
  },
  "vscode": {
   "interpreter": {
    "hash": "ba88cba0bd1684bf681f0a514929985c4631defba69dd57c081f0ebc100d81ea"
   }
  }
 },
 "nbformat": 4,
 "nbformat_minor": 0
}
