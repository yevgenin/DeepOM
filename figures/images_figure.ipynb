{
 "cells": [
  {
   "cell_type": "code",
   "execution_count": null,
   "metadata": {
    "collapsed": false
   },
   "outputs": [
    {
     "data": {
      "text/plain": "selected: 0it [00:00, ?it/s]",
      "application/vnd.jupyter.widget-view+json": {
       "version_major": 2,
       "version_minor": 0,
       "model_id": "e664c064ee754de6902af231c5bca90f"
      }
     },
     "metadata": {},
     "output_type": "display_data"
    },
    {
     "name": "stdout",
     "output_type": "stream",
     "text": [
      "crop_sizes [600000.]\n"
     ]
    },
    {
     "data": {
      "text/plain": "crops: 0it [00:00, ?it/s]",
      "application/vnd.jupyter.widget-view+json": {
       "version_major": 2,
       "version_minor": 0,
       "model_id": "c34f0cbed6d241b3872cc20e09768cb8"
      }
     },
     "metadata": {},
     "output_type": "display_data"
    },
    {
     "data": {
      "text/plain": "qry items: 0it [00:00, ?it/s]",
      "application/vnd.jupyter.widget-view+json": {
       "version_major": 2,
       "version_minor": 0,
       "model_id": "11f0eab36c464629a56dad0a5c416c3b"
      }
     },
     "metadata": {},
     "output_type": "display_data"
    },
    {
     "name": "stdout",
     "output_type": "stream",
     "text": [
      "BasicUNet features: (32, 32, 64, 128, 256, 32).\n",
      "loading checkpoint:  /home/ynogin/Dropbox/code/DeepOM/data/pretrained/checkpoint.pickle \n",
      "\n",
      "\n"
     ]
    },
    {
     "ename": "RuntimeError",
     "evalue": "Attempting to deserialize object on a CUDA device but torch.cuda.is_available() is False. If you are running on a CPU-only machine, please use torch.load with map_location=torch.device('cpu') to map your storages to the CPU.",
     "output_type": "error",
     "traceback": [
      "\u001B[0;31m---------------------------------------------------------------------------\u001B[0m",
      "\u001B[0;31mRuntimeError\u001B[0m                              Traceback (most recent call last)",
      "Cell \u001B[0;32mIn[1], line 3\u001B[0m\n\u001B[1;32m      1\u001B[0m \u001B[38;5;28;01mfrom\u001B[39;00m \u001B[38;5;21;01mdeepom\u001B[39;00m\u001B[38;5;21;01m.\u001B[39;00m\u001B[38;5;21;01mfigures\u001B[39;00m \u001B[38;5;28;01mimport\u001B[39;00m \u001B[38;5;241m*\u001B[39m\n\u001B[0;32m----> 3\u001B[0m \u001B[43mImages_FigureData\u001B[49m\u001B[43m(\u001B[49m\u001B[43m)\u001B[49m\u001B[38;5;241;43m.\u001B[39;49m\u001B[43mmake_figure_data\u001B[49m\u001B[43m(\u001B[49m\u001B[43m)\u001B[49m\n",
      "File \u001B[0;32m~/Dropbox/code/DeepOM/deepom/figures.py:50\u001B[0m, in \u001B[0;36mImages_FigureData.make_figure_data\u001B[0;34m(self)\u001B[0m\n\u001B[1;32m     48\u001B[0m compare\u001B[38;5;241m.\u001B[39mmake_refs()\n\u001B[1;32m     49\u001B[0m compare\u001B[38;5;241m.\u001B[39mdata_prep\u001B[38;5;241m.\u001B[39mmake_crops()\n\u001B[0;32m---> 50\u001B[0m \u001B[43mcompare\u001B[49m\u001B[38;5;241;43m.\u001B[39;49m\u001B[43mrun_aligner\u001B[49m\u001B[43m(\u001B[49m\u001B[43m)\u001B[49m\n\u001B[1;32m     52\u001B[0m \u001B[38;5;28mself\u001B[39m\u001B[38;5;241m.\u001B[39mitem \u001B[38;5;241m=\u001B[39m compare\u001B[38;5;241m.\u001B[39maligner_items[\u001B[38;5;241m0\u001B[39m]\n\u001B[1;32m     53\u001B[0m \u001B[38;5;28mself\u001B[39m\u001B[38;5;241m.\u001B[39mitem\u001B[38;5;241m.\u001B[39mcrop_item\u001B[38;5;241m.\u001B[39mparent_bnx_item\u001B[38;5;241m.\u001B[39mbionano_image\u001B[38;5;241m.\u001B[39msegment_width \u001B[38;5;241m=\u001B[39m \u001B[38;5;241m201\u001B[39m\n",
      "File \u001B[0;32m~/Dropbox/code/DeepOM/deepom/bionano_compare.py:316\u001B[0m, in \u001B[0;36mBionanoCompare.run_aligner\u001B[0;34m(self)\u001B[0m\n\u001B[1;32m    315\u001B[0m \u001B[38;5;28;01mdef\u001B[39;00m \u001B[38;5;21mrun_aligner\u001B[39m(\u001B[38;5;28mself\u001B[39m):\n\u001B[0;32m--> 316\u001B[0m     \u001B[38;5;28mself\u001B[39m\u001B[38;5;241m.\u001B[39maligner_items \u001B[38;5;241m=\u001B[39m \u001B[38;5;28;43mlist\u001B[39;49m\u001B[43m(\u001B[49m\u001B[38;5;28;43mself\u001B[39;49m\u001B[38;5;241;43m.\u001B[39;49m\u001B[43maligner_alignment_items_top\u001B[49m\u001B[43m(\u001B[49m\u001B[38;5;28;43mself\u001B[39;49m\u001B[38;5;241;43m.\u001B[39;49m\u001B[43mlocalizer_qry_items\u001B[49m\u001B[43m(\u001B[49m\u001B[43m)\u001B[49m\u001B[43m)\u001B[49m\u001B[43m)\u001B[49m\n\u001B[1;32m    317\u001B[0m     \u001B[38;5;28mprint\u001B[39m(\u001B[38;5;124mf\u001B[39m\u001B[38;5;124m\"\u001B[39m\u001B[38;5;132;01m{\u001B[39;00m\u001B[38;5;28mlen\u001B[39m(\u001B[38;5;28mself\u001B[39m\u001B[38;5;241m.\u001B[39maligner_items)\u001B[38;5;132;01m=}\u001B[39;00m\u001B[38;5;124m\"\u001B[39m)\n",
      "File \u001B[0;32m~/Dropbox/code/DeepOM/deepom/bionano_compare.py:271\u001B[0m, in \u001B[0;36mBionanoCompare.aligner_alignment_items_top\u001B[0;34m(self, qry_items)\u001B[0m\n\u001B[1;32m    269\u001B[0m \u001B[38;5;28;01mdef\u001B[39;00m \u001B[38;5;21maligner_alignment_items_top\u001B[39m(\u001B[38;5;28mself\u001B[39m, qry_items):\n\u001B[1;32m    270\u001B[0m     items \u001B[38;5;241m=\u001B[39m \u001B[38;5;28mself\u001B[39m\u001B[38;5;241m.\u001B[39maligner_alignment_items(qry_items)\n\u001B[0;32m--> 271\u001B[0m     alignment_df \u001B[38;5;241m=\u001B[39m \u001B[43mDataFrame\u001B[49m\u001B[43m(\u001B[49m\u001B[38;5;28;43mmap\u001B[39;49m\u001B[43m(\u001B[49m\u001B[38;5;28;43mvars\u001B[39;49m\u001B[43m,\u001B[49m\u001B[43m \u001B[49m\u001B[43mitems\u001B[49m\u001B[43m)\u001B[49m\u001B[43m)\u001B[49m\n\u001B[1;32m    273\u001B[0m     \u001B[38;5;28;01myield from\u001B[39;00m (\n\u001B[1;32m    274\u001B[0m         alignment_df[\u001B[38;5;124m\"\u001B[39m\u001B[38;5;124malignment_item\u001B[39m\u001B[38;5;124m\"\u001B[39m]\u001B[38;5;241m.\u001B[39mloc[index] \u001B[38;5;28;01mfor\u001B[39;00m index \u001B[38;5;129;01min\u001B[39;00m\n\u001B[1;32m    275\u001B[0m         alignment_df\u001B[38;5;241m.\u001B[39mgroupby(\u001B[38;5;124m\"\u001B[39m\u001B[38;5;124mmolecule_id\u001B[39m\u001B[38;5;124m\"\u001B[39m)[\u001B[38;5;124m\"\u001B[39m\u001B[38;5;124mscore\u001B[39m\u001B[38;5;124m\"\u001B[39m]\u001B[38;5;241m.\u001B[39midxmax()\n\u001B[1;32m    276\u001B[0m     )\n",
      "File \u001B[0;32m~/miniconda3/envs/patterncode/lib/python3.10/site-packages/pandas/core/frame.py:738\u001B[0m, in \u001B[0;36mDataFrame.__init__\u001B[0;34m(self, data, index, columns, dtype, copy)\u001B[0m\n\u001B[1;32m    736\u001B[0m         data \u001B[38;5;241m=\u001B[39m np\u001B[38;5;241m.\u001B[39masarray(data)\n\u001B[1;32m    737\u001B[0m     \u001B[38;5;28;01melse\u001B[39;00m:\n\u001B[0;32m--> 738\u001B[0m         data \u001B[38;5;241m=\u001B[39m \u001B[38;5;28;43mlist\u001B[39;49m\u001B[43m(\u001B[49m\u001B[43mdata\u001B[49m\u001B[43m)\u001B[49m\n\u001B[1;32m    739\u001B[0m \u001B[38;5;28;01mif\u001B[39;00m \u001B[38;5;28mlen\u001B[39m(data) \u001B[38;5;241m>\u001B[39m \u001B[38;5;241m0\u001B[39m:\n\u001B[1;32m    740\u001B[0m     \u001B[38;5;28;01mif\u001B[39;00m is_dataclass(data[\u001B[38;5;241m0\u001B[39m]):\n",
      "File \u001B[0;32m~/Dropbox/code/DeepOM/deepom/bionano_compare.py:226\u001B[0m, in \u001B[0;36mBionanoCompare.aligner_alignment_items\u001B[0;34m(self, qry_items)\u001B[0m\n\u001B[1;32m    223\u001B[0m \u001B[38;5;28;01mdef\u001B[39;00m \u001B[38;5;21maligner_alignment_items\u001B[39m(\u001B[38;5;28mself\u001B[39m, qry_items):\n\u001B[1;32m    224\u001B[0m     tasks \u001B[38;5;241m=\u001B[39m []\n\u001B[0;32m--> 226\u001B[0m     \u001B[38;5;28;01mfor\u001B[39;00m qry_item \u001B[38;5;129;01min\u001B[39;00m tqdm(qry_items, desc\u001B[38;5;241m=\u001B[39m\u001B[38;5;124m\"\u001B[39m\u001B[38;5;124mqry items\u001B[39m\u001B[38;5;124m\"\u001B[39m, total\u001B[38;5;241m=\u001B[39m\u001B[38;5;28mlen\u001B[39m(\u001B[38;5;28mself\u001B[39m\u001B[38;5;241m.\u001B[39mdata_prep\u001B[38;5;241m.\u001B[39mcrop_items) \u001B[38;5;241m*\u001B[39m \u001B[38;5;241m2\u001B[39m):\n\u001B[1;32m    227\u001B[0m         \u001B[38;5;28;01mtry\u001B[39;00m:\n\u001B[1;32m    228\u001B[0m             \u001B[38;5;28;01mfor\u001B[39;00m ref_id, ref \u001B[38;5;129;01min\u001B[39;00m \u001B[38;5;28mself\u001B[39m\u001B[38;5;241m.\u001B[39mrefs\u001B[38;5;241m.\u001B[39mitems():\n",
      "File \u001B[0;32m~/miniconda3/envs/patterncode/lib/python3.10/site-packages/tqdm/notebook.py:259\u001B[0m, in \u001B[0;36mtqdm_notebook.__iter__\u001B[0;34m(self)\u001B[0m\n\u001B[1;32m    257\u001B[0m \u001B[38;5;28;01mtry\u001B[39;00m:\n\u001B[1;32m    258\u001B[0m     it \u001B[38;5;241m=\u001B[39m \u001B[38;5;28msuper\u001B[39m(tqdm_notebook, \u001B[38;5;28mself\u001B[39m)\u001B[38;5;241m.\u001B[39m\u001B[38;5;21m__iter__\u001B[39m()\n\u001B[0;32m--> 259\u001B[0m     \u001B[38;5;28;01mfor\u001B[39;00m obj \u001B[38;5;129;01min\u001B[39;00m it:\n\u001B[1;32m    260\u001B[0m         \u001B[38;5;66;03m# return super(tqdm...) will not catch exception\u001B[39;00m\n\u001B[1;32m    261\u001B[0m         \u001B[38;5;28;01myield\u001B[39;00m obj\n\u001B[1;32m    262\u001B[0m \u001B[38;5;66;03m# NB: except ... [ as ...] breaks IPython async KeyboardInterrupt\u001B[39;00m\n",
      "File \u001B[0;32m~/miniconda3/envs/patterncode/lib/python3.10/site-packages/tqdm/std.py:1195\u001B[0m, in \u001B[0;36mtqdm.__iter__\u001B[0;34m(self)\u001B[0m\n\u001B[1;32m   1192\u001B[0m time \u001B[38;5;241m=\u001B[39m \u001B[38;5;28mself\u001B[39m\u001B[38;5;241m.\u001B[39m_time\n\u001B[1;32m   1194\u001B[0m \u001B[38;5;28;01mtry\u001B[39;00m:\n\u001B[0;32m-> 1195\u001B[0m     \u001B[38;5;28;01mfor\u001B[39;00m obj \u001B[38;5;129;01min\u001B[39;00m iterable:\n\u001B[1;32m   1196\u001B[0m         \u001B[38;5;28;01myield\u001B[39;00m obj\n\u001B[1;32m   1197\u001B[0m         \u001B[38;5;66;03m# Update and possibly print the progressbar.\u001B[39;00m\n\u001B[1;32m   1198\u001B[0m         \u001B[38;5;66;03m# Note: does not call self.update(1) for speed optimisation.\u001B[39;00m\n",
      "File \u001B[0;32m~/Dropbox/code/DeepOM/deepom/bionano_compare.py:177\u001B[0m, in \u001B[0;36mBionanoCompare.localizer_qry_items\u001B[0;34m(self)\u001B[0m\n\u001B[1;32m    175\u001B[0m \u001B[38;5;28mself\u001B[39m\u001B[38;5;241m.\u001B[39mlocalizer_module\u001B[38;5;241m.\u001B[39mcheckpoint_search_dir \u001B[38;5;241m=\u001B[39m Config\u001B[38;5;241m.\u001B[39mCHECKPOINT_SEARCH_DIR\n\u001B[1;32m    176\u001B[0m \u001B[38;5;28mself\u001B[39m\u001B[38;5;241m.\u001B[39mlocalizer_module\u001B[38;5;241m.\u001B[39mload_checkpoint \u001B[38;5;241m=\u001B[39m \u001B[38;5;28;01mTrue\u001B[39;00m\n\u001B[0;32m--> 177\u001B[0m \u001B[38;5;28;43mself\u001B[39;49m\u001B[38;5;241;43m.\u001B[39;49m\u001B[43mlocalizer_module\u001B[49m\u001B[38;5;241;43m.\u001B[39;49m\u001B[43minit_ensure_module\u001B[49m\u001B[43m(\u001B[49m\u001B[43m)\u001B[49m\n\u001B[1;32m    179\u001B[0m inference_items \u001B[38;5;241m=\u001B[39m \u001B[38;5;28mself\u001B[39m\u001B[38;5;241m.\u001B[39mexecutor\u001B[38;5;241m.\u001B[39mmap(\u001B[38;5;28mself\u001B[39m\u001B[38;5;241m.\u001B[39mcrop_inference, \u001B[38;5;28mself\u001B[39m\u001B[38;5;241m.\u001B[39mdata_prep\u001B[38;5;241m.\u001B[39mcrop_items)\n\u001B[1;32m    180\u001B[0m \u001B[38;5;28;01mfor\u001B[39;00m inference_item \u001B[38;5;129;01min\u001B[39;00m inference_items:\n",
      "File \u001B[0;32m~/Dropbox/code/DeepOM/deepom/localizer.py:518\u001B[0m, in \u001B[0;36mTrainerMixin.init_ensure_module\u001B[0;34m(self)\u001B[0m\n\u001B[1;32m    516\u001B[0m \u001B[38;5;28;01mif\u001B[39;00m \u001B[38;5;28mself\u001B[39m\u001B[38;5;241m.\u001B[39mmodule \u001B[38;5;129;01mis\u001B[39;00m \u001B[38;5;28;01mNone\u001B[39;00m:\n\u001B[1;32m    517\u001B[0m     \u001B[38;5;28mself\u001B[39m\u001B[38;5;241m.\u001B[39mmodule \u001B[38;5;241m=\u001B[39m \u001B[38;5;28mself\u001B[39m\u001B[38;5;241m.\u001B[39m_module_build()\n\u001B[0;32m--> 518\u001B[0m     \u001B[38;5;28;43mself\u001B[39;49m\u001B[38;5;241;43m.\u001B[39;49m\u001B[43m_checkpoint_load\u001B[49m\u001B[43m(\u001B[49m\u001B[43m)\u001B[49m\n\u001B[1;32m    519\u001B[0m     \u001B[38;5;28mself\u001B[39m\u001B[38;5;241m.\u001B[39mmodule\u001B[38;5;241m.\u001B[39mto(\u001B[38;5;28mself\u001B[39m\u001B[38;5;241m.\u001B[39mdevice)\n\u001B[1;32m    520\u001B[0m     \u001B[38;5;28mself\u001B[39m\u001B[38;5;241m.\u001B[39m__num_module_params \u001B[38;5;241m=\u001B[39m num_module_params(\u001B[38;5;28mself\u001B[39m\u001B[38;5;241m.\u001B[39mmodule)\n",
      "File \u001B[0;32m~/Dropbox/code/DeepOM/deepom/localizer.py:466\u001B[0m, in \u001B[0;36mTrainerMixin._checkpoint_load\u001B[0;34m(self)\u001B[0m\n\u001B[1;32m    464\u001B[0m \u001B[38;5;28;01melse\u001B[39;00m:\n\u001B[1;32m    465\u001B[0m     \u001B[38;5;28mprint\u001B[39m(\u001B[38;5;124m'\u001B[39m\u001B[38;5;124mloading checkpoint: \u001B[39m\u001B[38;5;124m'\u001B[39m, file, \u001B[38;5;124m'\u001B[39m\u001B[38;5;130;01m\\n\u001B[39;00m\u001B[38;5;130;01m\\n\u001B[39;00m\u001B[38;5;124m'\u001B[39m)\n\u001B[0;32m--> 466\u001B[0m     \u001B[38;5;28mself\u001B[39m\u001B[38;5;241m.\u001B[39mmodule\u001B[38;5;241m.\u001B[39mload_state_dict(\u001B[43mtorch\u001B[49m\u001B[38;5;241;43m.\u001B[39;49m\u001B[43mload\u001B[49m\u001B[43m(\u001B[49m\u001B[43mfile\u001B[49m\u001B[43m,\u001B[49m\u001B[43m \u001B[49m\u001B[43mmap_location\u001B[49m\u001B[38;5;241;43m=\u001B[39;49m\u001B[38;5;28;43mself\u001B[39;49m\u001B[38;5;241;43m.\u001B[39;49m\u001B[43mdevice\u001B[49m\u001B[43m)\u001B[49m)\n",
      "File \u001B[0;32m~/miniconda3/envs/patterncode/lib/python3.10/site-packages/torch/serialization.py:712\u001B[0m, in \u001B[0;36mload\u001B[0;34m(f, map_location, pickle_module, **pickle_load_args)\u001B[0m\n\u001B[1;32m    710\u001B[0m             opened_file\u001B[38;5;241m.\u001B[39mseek(orig_position)\n\u001B[1;32m    711\u001B[0m             \u001B[38;5;28;01mreturn\u001B[39;00m torch\u001B[38;5;241m.\u001B[39mjit\u001B[38;5;241m.\u001B[39mload(opened_file)\n\u001B[0;32m--> 712\u001B[0m         \u001B[38;5;28;01mreturn\u001B[39;00m \u001B[43m_load\u001B[49m\u001B[43m(\u001B[49m\u001B[43mopened_zipfile\u001B[49m\u001B[43m,\u001B[49m\u001B[43m \u001B[49m\u001B[43mmap_location\u001B[49m\u001B[43m,\u001B[49m\u001B[43m \u001B[49m\u001B[43mpickle_module\u001B[49m\u001B[43m,\u001B[49m\u001B[43m \u001B[49m\u001B[38;5;241;43m*\u001B[39;49m\u001B[38;5;241;43m*\u001B[39;49m\u001B[43mpickle_load_args\u001B[49m\u001B[43m)\u001B[49m\n\u001B[1;32m    713\u001B[0m \u001B[38;5;28;01mreturn\u001B[39;00m _legacy_load(opened_file, map_location, pickle_module, \u001B[38;5;241m*\u001B[39m\u001B[38;5;241m*\u001B[39mpickle_load_args)\n",
      "File \u001B[0;32m~/miniconda3/envs/patterncode/lib/python3.10/site-packages/torch/serialization.py:1049\u001B[0m, in \u001B[0;36m_load\u001B[0;34m(zip_file, map_location, pickle_module, pickle_file, **pickle_load_args)\u001B[0m\n\u001B[1;32m   1047\u001B[0m unpickler \u001B[38;5;241m=\u001B[39m UnpicklerWrapper(data_file, \u001B[38;5;241m*\u001B[39m\u001B[38;5;241m*\u001B[39mpickle_load_args)\n\u001B[1;32m   1048\u001B[0m unpickler\u001B[38;5;241m.\u001B[39mpersistent_load \u001B[38;5;241m=\u001B[39m persistent_load\n\u001B[0;32m-> 1049\u001B[0m result \u001B[38;5;241m=\u001B[39m \u001B[43munpickler\u001B[49m\u001B[38;5;241;43m.\u001B[39;49m\u001B[43mload\u001B[49m\u001B[43m(\u001B[49m\u001B[43m)\u001B[49m\n\u001B[1;32m   1051\u001B[0m torch\u001B[38;5;241m.\u001B[39m_utils\u001B[38;5;241m.\u001B[39m_validate_loaded_sparse_tensors()\n\u001B[1;32m   1053\u001B[0m \u001B[38;5;28;01mreturn\u001B[39;00m result\n",
      "File \u001B[0;32m~/miniconda3/envs/patterncode/lib/python3.10/site-packages/torch/serialization.py:1019\u001B[0m, in \u001B[0;36m_load.<locals>.persistent_load\u001B[0;34m(saved_id)\u001B[0m\n\u001B[1;32m   1017\u001B[0m \u001B[38;5;28;01mif\u001B[39;00m key \u001B[38;5;129;01mnot\u001B[39;00m \u001B[38;5;129;01min\u001B[39;00m loaded_storages:\n\u001B[1;32m   1018\u001B[0m     nbytes \u001B[38;5;241m=\u001B[39m numel \u001B[38;5;241m*\u001B[39m torch\u001B[38;5;241m.\u001B[39m_utils\u001B[38;5;241m.\u001B[39m_element_size(dtype)\n\u001B[0;32m-> 1019\u001B[0m     \u001B[43mload_tensor\u001B[49m\u001B[43m(\u001B[49m\u001B[43mdtype\u001B[49m\u001B[43m,\u001B[49m\u001B[43m \u001B[49m\u001B[43mnbytes\u001B[49m\u001B[43m,\u001B[49m\u001B[43m \u001B[49m\u001B[43mkey\u001B[49m\u001B[43m,\u001B[49m\u001B[43m \u001B[49m\u001B[43m_maybe_decode_ascii\u001B[49m\u001B[43m(\u001B[49m\u001B[43mlocation\u001B[49m\u001B[43m)\u001B[49m\u001B[43m)\u001B[49m\n\u001B[1;32m   1021\u001B[0m \u001B[38;5;28;01mreturn\u001B[39;00m loaded_storages[key]\n",
      "File \u001B[0;32m~/miniconda3/envs/patterncode/lib/python3.10/site-packages/torch/serialization.py:1001\u001B[0m, in \u001B[0;36m_load.<locals>.load_tensor\u001B[0;34m(dtype, numel, key, location)\u001B[0m\n\u001B[1;32m    997\u001B[0m storage \u001B[38;5;241m=\u001B[39m zip_file\u001B[38;5;241m.\u001B[39mget_storage_from_record(name, numel, torch\u001B[38;5;241m.\u001B[39m_UntypedStorage)\u001B[38;5;241m.\u001B[39mstorage()\u001B[38;5;241m.\u001B[39m_untyped()\n\u001B[1;32m    998\u001B[0m \u001B[38;5;66;03m# TODO: Once we decide to break serialization FC, we can\u001B[39;00m\n\u001B[1;32m    999\u001B[0m \u001B[38;5;66;03m# stop wrapping with _TypedStorage\u001B[39;00m\n\u001B[1;32m   1000\u001B[0m loaded_storages[key] \u001B[38;5;241m=\u001B[39m torch\u001B[38;5;241m.\u001B[39mstorage\u001B[38;5;241m.\u001B[39m_TypedStorage(\n\u001B[0;32m-> 1001\u001B[0m     wrap_storage\u001B[38;5;241m=\u001B[39m\u001B[43mrestore_location\u001B[49m\u001B[43m(\u001B[49m\u001B[43mstorage\u001B[49m\u001B[43m,\u001B[49m\u001B[43m \u001B[49m\u001B[43mlocation\u001B[49m\u001B[43m)\u001B[49m,\n\u001B[1;32m   1002\u001B[0m     dtype\u001B[38;5;241m=\u001B[39mdtype)\n",
      "File \u001B[0;32m~/miniconda3/envs/patterncode/lib/python3.10/site-packages/torch/serialization.py:973\u001B[0m, in \u001B[0;36m_get_restore_location.<locals>.restore_location\u001B[0;34m(storage, location)\u001B[0m\n\u001B[1;32m    972\u001B[0m \u001B[38;5;28;01mdef\u001B[39;00m \u001B[38;5;21mrestore_location\u001B[39m(storage, location):\n\u001B[0;32m--> 973\u001B[0m     \u001B[38;5;28;01mreturn\u001B[39;00m \u001B[43mdefault_restore_location\u001B[49m\u001B[43m(\u001B[49m\u001B[43mstorage\u001B[49m\u001B[43m,\u001B[49m\u001B[43m \u001B[49m\u001B[38;5;28;43mstr\u001B[39;49m\u001B[43m(\u001B[49m\u001B[43mmap_location\u001B[49m\u001B[43m)\u001B[49m\u001B[43m)\u001B[49m\n",
      "File \u001B[0;32m~/miniconda3/envs/patterncode/lib/python3.10/site-packages/torch/serialization.py:175\u001B[0m, in \u001B[0;36mdefault_restore_location\u001B[0;34m(storage, location)\u001B[0m\n\u001B[1;32m    173\u001B[0m \u001B[38;5;28;01mdef\u001B[39;00m \u001B[38;5;21mdefault_restore_location\u001B[39m(storage, location):\n\u001B[1;32m    174\u001B[0m     \u001B[38;5;28;01mfor\u001B[39;00m _, _, fn \u001B[38;5;129;01min\u001B[39;00m _package_registry:\n\u001B[0;32m--> 175\u001B[0m         result \u001B[38;5;241m=\u001B[39m \u001B[43mfn\u001B[49m\u001B[43m(\u001B[49m\u001B[43mstorage\u001B[49m\u001B[43m,\u001B[49m\u001B[43m \u001B[49m\u001B[43mlocation\u001B[49m\u001B[43m)\u001B[49m\n\u001B[1;32m    176\u001B[0m         \u001B[38;5;28;01mif\u001B[39;00m result \u001B[38;5;129;01mis\u001B[39;00m \u001B[38;5;129;01mnot\u001B[39;00m \u001B[38;5;28;01mNone\u001B[39;00m:\n\u001B[1;32m    177\u001B[0m             \u001B[38;5;28;01mreturn\u001B[39;00m result\n",
      "File \u001B[0;32m~/miniconda3/envs/patterncode/lib/python3.10/site-packages/torch/serialization.py:152\u001B[0m, in \u001B[0;36m_cuda_deserialize\u001B[0;34m(obj, location)\u001B[0m\n\u001B[1;32m    150\u001B[0m \u001B[38;5;28;01mdef\u001B[39;00m \u001B[38;5;21m_cuda_deserialize\u001B[39m(obj, location):\n\u001B[1;32m    151\u001B[0m     \u001B[38;5;28;01mif\u001B[39;00m location\u001B[38;5;241m.\u001B[39mstartswith(\u001B[38;5;124m'\u001B[39m\u001B[38;5;124mcuda\u001B[39m\u001B[38;5;124m'\u001B[39m):\n\u001B[0;32m--> 152\u001B[0m         device \u001B[38;5;241m=\u001B[39m \u001B[43mvalidate_cuda_device\u001B[49m\u001B[43m(\u001B[49m\u001B[43mlocation\u001B[49m\u001B[43m)\u001B[49m\n\u001B[1;32m    153\u001B[0m         \u001B[38;5;28;01mif\u001B[39;00m \u001B[38;5;28mgetattr\u001B[39m(obj, \u001B[38;5;124m\"\u001B[39m\u001B[38;5;124m_torch_load_uninitialized\u001B[39m\u001B[38;5;124m\"\u001B[39m, \u001B[38;5;28;01mFalse\u001B[39;00m):\n\u001B[1;32m    154\u001B[0m             \u001B[38;5;28;01mwith\u001B[39;00m torch\u001B[38;5;241m.\u001B[39mcuda\u001B[38;5;241m.\u001B[39mdevice(device):\n",
      "File \u001B[0;32m~/miniconda3/envs/patterncode/lib/python3.10/site-packages/torch/serialization.py:136\u001B[0m, in \u001B[0;36mvalidate_cuda_device\u001B[0;34m(location)\u001B[0m\n\u001B[1;32m    133\u001B[0m device \u001B[38;5;241m=\u001B[39m torch\u001B[38;5;241m.\u001B[39mcuda\u001B[38;5;241m.\u001B[39m_utils\u001B[38;5;241m.\u001B[39m_get_device_index(location, \u001B[38;5;28;01mTrue\u001B[39;00m)\n\u001B[1;32m    135\u001B[0m \u001B[38;5;28;01mif\u001B[39;00m \u001B[38;5;129;01mnot\u001B[39;00m torch\u001B[38;5;241m.\u001B[39mcuda\u001B[38;5;241m.\u001B[39mis_available():\n\u001B[0;32m--> 136\u001B[0m     \u001B[38;5;28;01mraise\u001B[39;00m \u001B[38;5;167;01mRuntimeError\u001B[39;00m(\u001B[38;5;124m'\u001B[39m\u001B[38;5;124mAttempting to deserialize object on a CUDA \u001B[39m\u001B[38;5;124m'\u001B[39m\n\u001B[1;32m    137\u001B[0m                        \u001B[38;5;124m'\u001B[39m\u001B[38;5;124mdevice but torch.cuda.is_available() is False. \u001B[39m\u001B[38;5;124m'\u001B[39m\n\u001B[1;32m    138\u001B[0m                        \u001B[38;5;124m'\u001B[39m\u001B[38;5;124mIf you are running on a CPU-only machine, \u001B[39m\u001B[38;5;124m'\u001B[39m\n\u001B[1;32m    139\u001B[0m                        \u001B[38;5;124m'\u001B[39m\u001B[38;5;124mplease use torch.load with map_location=torch.device(\u001B[39m\u001B[38;5;130;01m\\'\u001B[39;00m\u001B[38;5;124mcpu\u001B[39m\u001B[38;5;130;01m\\'\u001B[39;00m\u001B[38;5;124m) \u001B[39m\u001B[38;5;124m'\u001B[39m\n\u001B[1;32m    140\u001B[0m                        \u001B[38;5;124m'\u001B[39m\u001B[38;5;124mto map your storages to the CPU.\u001B[39m\u001B[38;5;124m'\u001B[39m)\n\u001B[1;32m    141\u001B[0m device_count \u001B[38;5;241m=\u001B[39m torch\u001B[38;5;241m.\u001B[39mcuda\u001B[38;5;241m.\u001B[39mdevice_count()\n\u001B[1;32m    142\u001B[0m \u001B[38;5;28;01mif\u001B[39;00m device \u001B[38;5;241m>\u001B[39m\u001B[38;5;241m=\u001B[39m device_count:\n",
      "\u001B[0;31mRuntimeError\u001B[0m: Attempting to deserialize object on a CUDA device but torch.cuda.is_available() is False. If you are running on a CPU-only machine, please use torch.load with map_location=torch.device('cpu') to map your storages to the CPU."
     ]
    }
   ],
   "source": [
    "from deepom.figures import *\n",
    "\n",
    "Images_FigureData().make_figure_data()"
   ]
  },
  {
   "cell_type": "code",
   "execution_count": null,
   "metadata": {},
   "outputs": [],
   "source": [
    "from deepom.figures import *\n",
    "\n",
    "data = Images_FigureData.load_figure_data()"
   ]
  },
  {
   "cell_type": "code",
   "execution_count": null,
   "metadata": {},
   "outputs": [],
   "source": [
    "from matplotlib.ticker import MultipleLocator\n",
    "from matplotlib_scalebar.scalebar import ScaleBar\n",
    "import imageio\n",
    "from skimage.exposure import rescale_intensity\n",
    "data_item = data.data_item\n",
    "item = data.item\n",
    "refs = data.refs\n",
    "inference_item = data.inference_item\n",
    "\n",
    "scalebar_scale = 130e-9"
   ]
  },
  {
   "cell_type": "code",
   "execution_count": null,
   "metadata": {
    "collapsed": false
   },
   "outputs": [],
   "source": [
    "im = item.crop_item.parent_bnx_item.bionano_image\n",
    "im.read_jxr_image()\n",
    "im = im.fov_image\n",
    "im = rescale_intensity(im, in_range=(250, 600), out_range=\"uint8\")\n",
    "imageio.imwrite(\"../../DeepOM-Paper/figures/fov_image.jpg\", im)"
   ]
  },
  {
   "cell_type": "code",
   "execution_count": null,
   "metadata": {
    "collapsed": false
   },
   "outputs": [],
   "source": [
    "from pathlib import Path\n",
    "from matplotlib.lines import Line2D\n",
    "from matplotlib.patches import Patch, Rectangle, ConnectionPatch\n",
    "\n",
    "_, axs = pyplot.subplots(figsize=(7, 3), dpi=200, nrows=3, gridspec_kw=dict(height_ratios=[3, 1, 3]))\n",
    "\n",
    "titles = [\n",
    "    \"a.\",\n",
    "    \"b.\",\n",
    "    \"c.\",\n",
    "]\n",
    "title_kw = dict(loc=\"left\", y=1.0, pad=-10, fontdict={\"color\": \"w\"})\n",
    "####################################################################\n",
    "pyplot.sca(axs[0])\n",
    "pyplot.title(\"a.\", **title_kw)\n",
    "\n",
    "fov_image = item.crop_item.parent_bnx_item.bionano_image.segment_image[0]\n",
    "fov_margin = 40\n",
    "fov_image = fov_image[fov_margin: -fov_margin]\n",
    "fov_image = rescale_intensity(fov_image, in_range=(250, 600))\n",
    "# pyplot.axhline(fov_image.shape[0] // 2, alpha=.2, color=\"b\", lw=3)\n",
    "pyplot.imshow(fov_image, cmap=\"gray\", aspect=\"auto\")\n",
    "\n",
    "scalebar_kw = dict(color=\"ghostwhite\", box_alpha=0, scale_loc=\"top\", location=\"upper right\", width_fraction=.04, sep=0,\n",
    "                   font_properties=dict(weight=\"bold\", size=8))\n",
    "pyplot.gca().add_artist(ScaleBar(scalebar_scale, **scalebar_kw))\n",
    "\n",
    "ax = pyplot.gca()\n",
    "ax.xaxis.set_visible(False)\n",
    "ax.yaxis.set_visible(False)\n",
    "\n",
    "ilims = 29, 60\n",
    "margin = 30e3\n",
    "\n",
    "rvec = refs[item.ref_id]\n",
    "qvec = item.qry_item.qry\n",
    "\n",
    "lims = max(0, item.alignment_ref[ilims[0]] - margin), min(rvec.max(), item.alignment_ref[ilims[1]] + margin)\n",
    "rvec_show = rvec[slice(*rvec.searchsorted(lims))]\n",
    "offset = item.alignment_ref[ilims[0]] - item.alignment_qry[ilims[0]]\n",
    "mol_offset = lims[0] - offset\n",
    "scale = item.qry_item.scale\n",
    "\n",
    "im_displ = item.qry_item.inference_item.image_input\n",
    "im_displ = rescale_intensity(im_displ)\n",
    "\n",
    "h = 10\n",
    "x, y = (mol_offset / scale, fov_image.shape[0] // 2 - h / 2)\n",
    "w = (lims[1] - lims[0]) / scale\n",
    "rect0 = Rectangle((x, y), w, h, edgecolor='k', fill=False, linestyle=\"-\", lw=3)\n",
    "ax.add_patch(rect0)\n",
    "\n",
    "pyplot.legend(\n",
    "    [Line2D([0], [0], color=c, linewidth=1, linestyle='-') for c in [\"tab:green\", \"b\", \"tab:red\"]],\n",
    "    [\"Genome CTTAAG sites\", \"DeepOM localizations\", \"Bionano Solve localizations\"],\n",
    "    ncol=3, loc=\"lower center\",\n",
    "    fontsize=6,\n",
    "    bbox_to_anchor=(0.5, -.3)\n",
    ")\n",
    "####################################################################\n",
    "pyplot.sca(axs[1])\n",
    "\n",
    "pyplot.title(\"b.\", **title_kw)\n",
    "\n",
    "bionano_locs = item.crop_item.pixel_locs * scale\n",
    "locs = item.alignment_qry\n",
    "scatter_kw = dict(marker=\"x\", s=5, alpha=1, linewidths=.5)\n",
    "\n",
    "\n",
    "def plot_molecule():\n",
    "    pyplot.imshow(im_displ[::-1], cmap='gray', extent=[0, im_displ.shape[-1] * scale, 3, 6], aspect=\"auto\", interpolation=\"none\")\n",
    "    set_only_x_visible()\n",
    "    set_formatter(lambda x, _: int(x / 1000))\n",
    "\n",
    "    pyplot.gca().add_artist(ScaleBar(scalebar_scale / scale, **scalebar_kw))\n",
    "\n",
    "\n",
    "plot_molecule()\n",
    "\n",
    "zoom_lims = 155 * 1000, 195 * 1000\n",
    "\n",
    "ax = pyplot.gca()\n",
    "margin_rect = .2\n",
    "rect1 = Rectangle((zoom_lims[0], 3 + margin_rect), (zoom_lims[1] - zoom_lims[0]), 3 - margin_rect * 2,\n",
    "                  edgecolor='w', fill=False, linestyle=\"--\")\n",
    "ax.add_patch(rect1)\n",
    "\n",
    "ax = pyplot.gca()\n",
    "ax.xaxis.set_major_locator(MultipleLocator(10000))\n",
    "ax.xaxis.set_minor_locator(MultipleLocator(1000))\n",
    "\n",
    "ref_sites = rvec_show - offset\n",
    "linewidths = .7\n",
    "pyplot.eventplot([ref_sites],\n",
    "                 lineoffsets=[2.5], colors=[\"tab:green\"],\n",
    "                 linelengths=[1], linewidths=linewidths)\n",
    "\n",
    "pyplot.xlim(lims[0] - offset, lims[1] - offset)\n",
    "pyplot.ylim(2, None)\n",
    "####################################################################\n",
    "pyplot.sca(axs[2])\n",
    "\n",
    "ax = pyplot.gca()\n",
    "ax.xaxis.set_major_locator(MultipleLocator(10000))\n",
    "ax.xaxis.set_minor_locator(MultipleLocator(1000))\n",
    "\n",
    "pyplot.title(\"c.\", **title_kw)\n",
    "pyplot.scatter(bionano_locs, [4.5] * len(bionano_locs), c=\"r\", **scatter_kw)\n",
    "pyplot.scatter(locs, [4.5] * len(locs), c=\"b\", **scatter_kw)\n",
    "\n",
    "pyplot.eventplot([ref_sites, locs, bionano_locs],\n",
    "                 lineoffsets=[.5, 1.5, 2.5], colors=[\"tab:green\", \"b\", \"tab:red\"],\n",
    "                 linelengths=[1, 1, 1], linewidths=linewidths)\n",
    "\n",
    "plot_molecule()\n",
    "pyplot.xlim(*zoom_lims)\n",
    "\n",
    "pyplot.ylim(0, None)\n",
    "pyplot.tight_layout(pad=.5)\n",
    "pyplot.xlabel(f\"chr{item.ref_id}:{int(offset)} offset (kb)\")\n",
    "fig = pyplot.gcf()\n",
    "arrow_kw = dict(\n",
    "    coordsA=axs[0].transData,\n",
    "    coordsB=axs[1].transAxes,\n",
    "    shrinkA=1,\n",
    "    shrinkB=4,\n",
    "    color=\"tab:orange\",\n",
    "    linestyle=\"--\",\n",
    "    arrowstyle=\"-\",\n",
    "    mutation_scale=10,\n",
    "    linewidth=.5,\n",
    ")\n",
    "x, y = rect0.xy\n",
    "w = rect0.get_width()\n",
    "fig.patches.extend([ConnectionPatch((x, y), (0, 1), **arrow_kw), ConnectionPatch((x + w, y), (1, 1), **arrow_kw)])\n",
    "\n",
    "arrow_kw |= dict(\n",
    "    coordsA=axs[1].transData,\n",
    "    coordsB=axs[2].transAxes,\n",
    ")\n",
    "x, y = rect1.xy\n",
    "w = rect1.get_width()\n",
    "h = rect1.get_height()\n",
    "fig.patches.extend([ConnectionPatch((x, y+h), (0, 1), **arrow_kw), ConnectionPatch((x + w, y+h), (1, 1), **arrow_kw)])\n",
    "\n",
    "for ext in [\".pdf\"]:\n",
    "    pyplot.savefig(Path(\"../../DeepOM-Paper/figures\") / (\"images_figure\" + ext), bbox_inches='tight')"
   ]
  }
 ],
 "metadata": {
  "kernelspec": {
   "display_name": "Python 3.9.10 ('om')",
   "language": "python",
   "name": "python3"
  },
  "language_info": {
   "codemirror_mode": {
    "name": "ipython",
    "version": 3
   },
   "file_extension": ".py",
   "mimetype": "text/x-python",
   "name": "python",
   "nbconvert_exporter": "python",
   "pygments_lexer": "ipython3",
   "version": "3.9.10"
  },
  "vscode": {
   "interpreter": {
    "hash": "ba88cba0bd1684bf681f0a514929985c4631defba69dd57c081f0ebc100d81ea"
   }
  }
 },
 "nbformat": 4,
 "nbformat_minor": 0
}
