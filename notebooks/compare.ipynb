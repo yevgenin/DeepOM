{
 "cells": [
  {
   "cell_type": "code",
   "execution_count": 1,
   "metadata": {
    "collapsed": true
   },
   "outputs": [],
   "source": [
    "from deepom.bionano_compare import *"
   ]
  },
  {
   "cell_type": "code",
   "execution_count": null,
   "outputs": [
    {
     "name": "stdout",
     "output_type": "stream",
     "text": [
      "/home/ynogin/out/bionano_compare/20221021T220923Z/20221021T220923Z\n",
      "commit? [Y/n]:"
     ]
    }
   ],
   "source": [
    "self = BionanoCompare()\n",
    "self.data_prep.num_crops_per_size = 1\n",
    "self.data_prep.num_sizes = 1\n",
    "# compare.run_bionano_compare()\n",
    "self.init_run()\n",
    "self.run_data_prep()\n"
   ],
   "metadata": {
    "collapsed": false,
    "pycharm": {
     "is_executing": true
    }
   }
  }
 ],
 "metadata": {
  "kernelspec": {
   "display_name": "Python 3",
   "language": "python",
   "name": "python3"
  },
  "language_info": {
   "codemirror_mode": {
    "name": "ipython",
    "version": 2
   },
   "file_extension": ".py",
   "mimetype": "text/x-python",
   "name": "python",
   "nbconvert_exporter": "python",
   "pygments_lexer": "ipython2",
   "version": "2.7.6"
  }
 },
 "nbformat": 4,
 "nbformat_minor": 0
}
