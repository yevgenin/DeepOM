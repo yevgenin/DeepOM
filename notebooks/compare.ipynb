{
 "cells": [
  {
   "cell_type": "code",
   "execution_count": null,
   "outputs": [
    {
     "name": "stdout",
     "output_type": "stream",
     "text": [
      "/home/ynogin/out/bionano_compare/20221021T231411Z/20221021T231411Z\n",
      "do git commit? [Y/n]:"
     ]
    }
   ],
   "source": [
    "from deepom.bionano_compare import *\n",
    "self = BionanoCompare()\n",
    "self.data_prep.selector.top_mol_num = 128\n",
    "self.data_prep.num_crops_per_size = 16\n",
    "self.data_prep.num_sizes = 2\n",
    "self.run_bionano_compare_b()"
   ],
   "metadata": {
    "collapsed": false,
    "pycharm": {
     "is_executing": true
    }
   }
  },
  {
   "cell_type": "code",
   "execution_count": null,
   "outputs": [],
   "source": [
    "\n",
    "self.run_bionano_compare_a()"
   ],
   "metadata": {
    "collapsed": false
   }
  }
 ],
 "metadata": {
  "kernelspec": {
   "display_name": "Python 3",
   "language": "python",
   "name": "python3"
  },
  "language_info": {
   "codemirror_mode": {
    "name": "ipython",
    "version": 2
   },
   "file_extension": ".py",
   "mimetype": "text/x-python",
   "name": "python",
   "nbconvert_exporter": "python",
   "pygments_lexer": "ipython2",
   "version": "2.7.6"
  }
 },
 "nbformat": 4,
 "nbformat_minor": 0
}
