{
 "cells": [
  {
   "cell_type": "code",
   "execution_count": null,
   "outputs": [
    {
     "name": "stdout",
     "output_type": "stream",
     "text": [
      "/home/ynogin/out/bionano_compare/20221021T223316Z/20221021T223316Z\n",
      "do git commit? [Y/n]:"
     ]
    }
   ],
   "source": [
    "from deepom.bionano_compare import *\n",
    "self = BionanoCompare()\n",
    "self.data_prep.num_crops_per_size = 2\n",
    "self.data_prep.num_sizes = 2\n",
    "\n",
    "self.run_bionano_compare()\n"
   ],
   "metadata": {
    "collapsed": false,
    "pycharm": {
     "is_executing": true
    }
   }
  },
  {
   "cell_type": "code",
   "execution_count": 3,
   "outputs": [
    {
     "data": {
      "text/plain": "Empty DataFrame\nColumns: []\nIndex: []",
      "text/html": "<div>\n<style scoped>\n    .dataframe tbody tr th:only-of-type {\n        vertical-align: middle;\n    }\n\n    .dataframe tbody tr th {\n        vertical-align: top;\n    }\n\n    .dataframe thead th {\n        text-align: right;\n    }\n</style>\n<table border=\"1\" class=\"dataframe\">\n  <thead>\n    <tr style=\"text-align: right;\">\n      <th></th>\n    </tr>\n  </thead>\n  <tbody>\n  </tbody>\n</table>\n</div>"
     },
     "execution_count": 3,
     "metadata": {},
     "output_type": "execute_result"
    }
   ],
   "source": [
    "self."
   ],
   "metadata": {
    "collapsed": false
   }
  },
  {
   "cell_type": "code",
   "execution_count": 10,
   "outputs": [
    {
     "data": {
      "text/plain": "     LabelChannel  MoleculeID    Length  AvgIntensity     SNR  NumberofLabels  \\\n224             0      121320  526125.0       2217.39  211.93              90   \n27              0          34  532125.0       2285.98  114.29              93   \n143             0       78586  513000.0       1955.93  164.72              82   \n534             0      192936  546375.0       2849.00  200.14              77   \n133             0       78568  512625.0       1801.49  123.75              93   \n82              0       30166  521250.0       2228.46  125.61              74   \n111             0       63484  499500.0       2029.00  175.49              78   \n47              0          74  528750.0       2465.90  126.29              78   \n183             0       98096  595500.0       2277.34  201.37              78   \n227             0      121327  502875.0       2123.77  203.62              71   \n\n     OriginalMoleculeId  ScanNumber  ScanDirection  \\\n224              127099           1             -1   \n27                 6260           1             -1   \n143               94077           1             -1   \n534              198217           1             -1   \n133               81605           1             -1   \n82                52936           1             -1   \n111               69047           1             -1   \n47                10406           1             -1   \n183              109605           1             -1   \n227              128014           1             -1   \n\n                                                ChipId  ...  FlowCell  \\\n224  chips,SN_2O3TDNOLPTOP5N6U,Run_4751854a-2747-4d...  ...         1   \n27   chips,SN_2O3TDNOLPTOP5N6U,Run_4751854a-2747-4d...  ...         1   \n143  chips,SN_2O3TDNOLPTOP5N6U,Run_4751854a-2747-4d...  ...         1   \n534  chips,SN_2O3TDNOLPTOP5N6U,Run_4751854a-2747-4d...  ...         1   \n133  chips,SN_2O3TDNOLPTOP5N6U,Run_4751854a-2747-4d...  ...         1   \n82   chips,SN_2O3TDNOLPTOP5N6U,Run_4751854a-2747-4d...  ...         1   \n111  chips,SN_2O3TDNOLPTOP5N6U,Run_4751854a-2747-4d...  ...         1   \n47   chips,SN_2O3TDNOLPTOP5N6U,Run_4751854a-2747-4d...  ...         1   \n183  chips,SN_2O3TDNOLPTOP5N6U,Run_4751854a-2747-4d...  ...         1   \n227  chips,SN_2O3TDNOLPTOP5N6U,Run_4751854a-2747-4d...  ...         1   \n\n     SNRFilterType  MinMoleculeLength  MinLabelSNR1  MinLabelSNR2  Scan  Bank  \\\n224        dynamic              15.00      3.000000      3.000000    01     4   \n27         dynamic              15.00      3.000000      3.000000    01     1   \n143        dynamic              15.00      3.000000      3.000000    01     2   \n534        dynamic              15.00      3.000000      3.000000    02     2   \n133        dynamic              15.00      3.000000      3.000000    01     2   \n82         dynamic              15.00      3.000000      3.000000    01     1   \n111        dynamic              15.00      3.000000      3.000000    01     2   \n47         dynamic              15.00      3.000000      3.000000    01     1   \n183        dynamic              15.00      3.000000      3.000000    01     3   \n227        dynamic              15.00      3.000000      3.000000    01     4   \n\n     Cohort                                            JXRFile  JXRFileExists  \n224       1  /home/ynogin/mnt/Q/Yevgeni/bionano_jxr/4751854...           True  \n27        1  /home/ynogin/mnt/Q/Yevgeni/bionano_jxr/4751854...           True  \n143       2  /home/ynogin/mnt/Q/Yevgeni/bionano_jxr/4751854...           True  \n534       1  /home/ynogin/mnt/Q/Yevgeni/bionano_jxr/4751854...           True  \n133       2  /home/ynogin/mnt/Q/Yevgeni/bionano_jxr/4751854...           True  \n82        2  /home/ynogin/mnt/Q/Yevgeni/bionano_jxr/4751854...           True  \n111       1  /home/ynogin/mnt/Q/Yevgeni/bionano_jxr/4751854...           True  \n47        1  /home/ynogin/mnt/Q/Yevgeni/bionano_jxr/4751854...           True  \n183       1  /home/ynogin/mnt/Q/Yevgeni/bionano_jxr/4751854...           True  \n227       1  /home/ynogin/mnt/Q/Yevgeni/bionano_jxr/4751854...           True  \n\n[10 rows x 60 columns]",
      "text/html": "<div>\n<style scoped>\n    .dataframe tbody tr th:only-of-type {\n        vertical-align: middle;\n    }\n\n    .dataframe tbody tr th {\n        vertical-align: top;\n    }\n\n    .dataframe thead th {\n        text-align: right;\n    }\n</style>\n<table border=\"1\" class=\"dataframe\">\n  <thead>\n    <tr style=\"text-align: right;\">\n      <th></th>\n      <th>LabelChannel</th>\n      <th>MoleculeID</th>\n      <th>Length</th>\n      <th>AvgIntensity</th>\n      <th>SNR</th>\n      <th>NumberofLabels</th>\n      <th>OriginalMoleculeId</th>\n      <th>ScanNumber</th>\n      <th>ScanDirection</th>\n      <th>ChipId</th>\n      <th>...</th>\n      <th>FlowCell</th>\n      <th>SNRFilterType</th>\n      <th>MinMoleculeLength</th>\n      <th>MinLabelSNR1</th>\n      <th>MinLabelSNR2</th>\n      <th>Scan</th>\n      <th>Bank</th>\n      <th>Cohort</th>\n      <th>JXRFile</th>\n      <th>JXRFileExists</th>\n    </tr>\n  </thead>\n  <tbody>\n    <tr>\n      <th>224</th>\n      <td>0</td>\n      <td>121320</td>\n      <td>526125.0</td>\n      <td>2217.39</td>\n      <td>211.93</td>\n      <td>90</td>\n      <td>127099</td>\n      <td>1</td>\n      <td>-1</td>\n      <td>chips,SN_2O3TDNOLPTOP5N6U,Run_4751854a-2747-4d...</td>\n      <td>...</td>\n      <td>1</td>\n      <td>dynamic</td>\n      <td>15.00</td>\n      <td>3.000000</td>\n      <td>3.000000</td>\n      <td>01</td>\n      <td>4</td>\n      <td>1</td>\n      <td>/home/ynogin/mnt/Q/Yevgeni/bionano_jxr/4751854...</td>\n      <td>True</td>\n    </tr>\n    <tr>\n      <th>27</th>\n      <td>0</td>\n      <td>34</td>\n      <td>532125.0</td>\n      <td>2285.98</td>\n      <td>114.29</td>\n      <td>93</td>\n      <td>6260</td>\n      <td>1</td>\n      <td>-1</td>\n      <td>chips,SN_2O3TDNOLPTOP5N6U,Run_4751854a-2747-4d...</td>\n      <td>...</td>\n      <td>1</td>\n      <td>dynamic</td>\n      <td>15.00</td>\n      <td>3.000000</td>\n      <td>3.000000</td>\n      <td>01</td>\n      <td>1</td>\n      <td>1</td>\n      <td>/home/ynogin/mnt/Q/Yevgeni/bionano_jxr/4751854...</td>\n      <td>True</td>\n    </tr>\n    <tr>\n      <th>143</th>\n      <td>0</td>\n      <td>78586</td>\n      <td>513000.0</td>\n      <td>1955.93</td>\n      <td>164.72</td>\n      <td>82</td>\n      <td>94077</td>\n      <td>1</td>\n      <td>-1</td>\n      <td>chips,SN_2O3TDNOLPTOP5N6U,Run_4751854a-2747-4d...</td>\n      <td>...</td>\n      <td>1</td>\n      <td>dynamic</td>\n      <td>15.00</td>\n      <td>3.000000</td>\n      <td>3.000000</td>\n      <td>01</td>\n      <td>2</td>\n      <td>2</td>\n      <td>/home/ynogin/mnt/Q/Yevgeni/bionano_jxr/4751854...</td>\n      <td>True</td>\n    </tr>\n    <tr>\n      <th>534</th>\n      <td>0</td>\n      <td>192936</td>\n      <td>546375.0</td>\n      <td>2849.00</td>\n      <td>200.14</td>\n      <td>77</td>\n      <td>198217</td>\n      <td>1</td>\n      <td>-1</td>\n      <td>chips,SN_2O3TDNOLPTOP5N6U,Run_4751854a-2747-4d...</td>\n      <td>...</td>\n      <td>1</td>\n      <td>dynamic</td>\n      <td>15.00</td>\n      <td>3.000000</td>\n      <td>3.000000</td>\n      <td>02</td>\n      <td>2</td>\n      <td>1</td>\n      <td>/home/ynogin/mnt/Q/Yevgeni/bionano_jxr/4751854...</td>\n      <td>True</td>\n    </tr>\n    <tr>\n      <th>133</th>\n      <td>0</td>\n      <td>78568</td>\n      <td>512625.0</td>\n      <td>1801.49</td>\n      <td>123.75</td>\n      <td>93</td>\n      <td>81605</td>\n      <td>1</td>\n      <td>-1</td>\n      <td>chips,SN_2O3TDNOLPTOP5N6U,Run_4751854a-2747-4d...</td>\n      <td>...</td>\n      <td>1</td>\n      <td>dynamic</td>\n      <td>15.00</td>\n      <td>3.000000</td>\n      <td>3.000000</td>\n      <td>01</td>\n      <td>2</td>\n      <td>2</td>\n      <td>/home/ynogin/mnt/Q/Yevgeni/bionano_jxr/4751854...</td>\n      <td>True</td>\n    </tr>\n    <tr>\n      <th>82</th>\n      <td>0</td>\n      <td>30166</td>\n      <td>521250.0</td>\n      <td>2228.46</td>\n      <td>125.61</td>\n      <td>74</td>\n      <td>52936</td>\n      <td>1</td>\n      <td>-1</td>\n      <td>chips,SN_2O3TDNOLPTOP5N6U,Run_4751854a-2747-4d...</td>\n      <td>...</td>\n      <td>1</td>\n      <td>dynamic</td>\n      <td>15.00</td>\n      <td>3.000000</td>\n      <td>3.000000</td>\n      <td>01</td>\n      <td>1</td>\n      <td>2</td>\n      <td>/home/ynogin/mnt/Q/Yevgeni/bionano_jxr/4751854...</td>\n      <td>True</td>\n    </tr>\n    <tr>\n      <th>111</th>\n      <td>0</td>\n      <td>63484</td>\n      <td>499500.0</td>\n      <td>2029.00</td>\n      <td>175.49</td>\n      <td>78</td>\n      <td>69047</td>\n      <td>1</td>\n      <td>-1</td>\n      <td>chips,SN_2O3TDNOLPTOP5N6U,Run_4751854a-2747-4d...</td>\n      <td>...</td>\n      <td>1</td>\n      <td>dynamic</td>\n      <td>15.00</td>\n      <td>3.000000</td>\n      <td>3.000000</td>\n      <td>01</td>\n      <td>2</td>\n      <td>1</td>\n      <td>/home/ynogin/mnt/Q/Yevgeni/bionano_jxr/4751854...</td>\n      <td>True</td>\n    </tr>\n    <tr>\n      <th>47</th>\n      <td>0</td>\n      <td>74</td>\n      <td>528750.0</td>\n      <td>2465.90</td>\n      <td>126.29</td>\n      <td>78</td>\n      <td>10406</td>\n      <td>1</td>\n      <td>-1</td>\n      <td>chips,SN_2O3TDNOLPTOP5N6U,Run_4751854a-2747-4d...</td>\n      <td>...</td>\n      <td>1</td>\n      <td>dynamic</td>\n      <td>15.00</td>\n      <td>3.000000</td>\n      <td>3.000000</td>\n      <td>01</td>\n      <td>1</td>\n      <td>1</td>\n      <td>/home/ynogin/mnt/Q/Yevgeni/bionano_jxr/4751854...</td>\n      <td>True</td>\n    </tr>\n    <tr>\n      <th>183</th>\n      <td>0</td>\n      <td>98096</td>\n      <td>595500.0</td>\n      <td>2277.34</td>\n      <td>201.37</td>\n      <td>78</td>\n      <td>109605</td>\n      <td>1</td>\n      <td>-1</td>\n      <td>chips,SN_2O3TDNOLPTOP5N6U,Run_4751854a-2747-4d...</td>\n      <td>...</td>\n      <td>1</td>\n      <td>dynamic</td>\n      <td>15.00</td>\n      <td>3.000000</td>\n      <td>3.000000</td>\n      <td>01</td>\n      <td>3</td>\n      <td>1</td>\n      <td>/home/ynogin/mnt/Q/Yevgeni/bionano_jxr/4751854...</td>\n      <td>True</td>\n    </tr>\n    <tr>\n      <th>227</th>\n      <td>0</td>\n      <td>121327</td>\n      <td>502875.0</td>\n      <td>2123.77</td>\n      <td>203.62</td>\n      <td>71</td>\n      <td>128014</td>\n      <td>1</td>\n      <td>-1</td>\n      <td>chips,SN_2O3TDNOLPTOP5N6U,Run_4751854a-2747-4d...</td>\n      <td>...</td>\n      <td>1</td>\n      <td>dynamic</td>\n      <td>15.00</td>\n      <td>3.000000</td>\n      <td>3.000000</td>\n      <td>01</td>\n      <td>4</td>\n      <td>1</td>\n      <td>/home/ynogin/mnt/Q/Yevgeni/bionano_jxr/4751854...</td>\n      <td>True</td>\n    </tr>\n  </tbody>\n</table>\n<p>10 rows × 60 columns</p>\n</div>"
     },
     "execution_count": 10,
     "metadata": {},
     "output_type": "execute_result"
    }
   ],
   "source": [
    "self.data_prep.selector.selected_df.query(\"RunId < 16\")"
   ],
   "metadata": {
    "collapsed": false
   }
  }
 ],
 "metadata": {
  "kernelspec": {
   "display_name": "Python 3",
   "language": "python",
   "name": "python3"
  },
  "language_info": {
   "codemirror_mode": {
    "name": "ipython",
    "version": 2
   },
   "file_extension": ".py",
   "mimetype": "text/x-python",
   "name": "python",
   "nbconvert_exporter": "python",
   "pygments_lexer": "ipython2",
   "version": "2.7.6"
  }
 },
 "nbformat": 4,
 "nbformat_minor": 0
}
