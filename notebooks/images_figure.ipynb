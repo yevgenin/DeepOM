{
 "cells": [
  {
   "cell_type": "code",
   "execution_count": 1,
   "metadata": {
    "collapsed": false
   },
   "outputs": [
    {
     "ename": "ModuleNotFoundError",
     "evalue": "No module named 'deepom'",
     "output_type": "error",
     "traceback": [
      "\u001b[0;31m---------------------------------------------------------------------------\u001b[0m",
      "\u001b[0;31mModuleNotFoundError\u001b[0m                       Traceback (most recent call last)",
      "\u001b[0;32m/tmp/ipykernel_343436/1412086898.py\u001b[0m in \u001b[0;36m<module>\u001b[0;34m\u001b[0m\n\u001b[0;32m----> 1\u001b[0;31m \u001b[0;32mfrom\u001b[0m \u001b[0mdeepom\u001b[0m\u001b[0;34m.\u001b[0m\u001b[0mfigures\u001b[0m \u001b[0;32mimport\u001b[0m \u001b[0;34m*\u001b[0m\u001b[0;34m\u001b[0m\u001b[0;34m\u001b[0m\u001b[0m\n\u001b[0m\u001b[1;32m      2\u001b[0m \u001b[0;34m\u001b[0m\u001b[0m\n\u001b[1;32m      3\u001b[0m \u001b[0mImages\u001b[0m\u001b[0;34m\u001b[0m\u001b[0;34m\u001b[0m\u001b[0m\n",
      "\u001b[0;31mModuleNotFoundError\u001b[0m: No module named 'deepom'"
     ]
    }
   ],
   "source": [
    "from deepom.figures import *\n",
    "\n",
    "Images"
   ]
  },
  {
   "cell_type": "code",
   "execution_count": null,
   "metadata": {},
   "outputs": [],
   "source": [
    "\n",
    "from matplotlib.ticker import MultipleLocator\n",
    "from matplotlib_scalebar.scalebar import ScaleBar\n",
    "\n",
    "\n",
    "scalebar_scale = 130e-9\n",
    "\n",
    "\n",
    "def _plot_molecule():\n",
    "    ilims = 29, 60\n",
    "    margin = 3e3\n",
    "\n",
    "    rvec = compare.refs[item.ref_id]\n",
    "    qvec = item.qry_item.qry\n",
    "\n",
    "    lims = max(0, item.alignment_ref[ilims[0]] - margin), min(rvec.max(), item.alignment_ref[ilims[1]] + margin)\n",
    "    rvec_show = rvec[slice(*rvec.searchsorted(lims))]\n",
    "    offset = item.alignment_ref[ilims[0]] - item.alignment_qry[ilims[0]]\n",
    "    mol_offset = lims[0] - offset\n",
    "    scale = item.qry_item.scale\n",
    "\n",
    "    im_displ = item.qry_item.inference_item.image_input\n",
    "    im_displ = rescale_intensity(im_displ)\n",
    "\n",
    "\n",
    "    pyplot.gca().pcolorfast(\n",
    "        (0, im_displ.shape[-1] * scale),\n",
    "                            (1, 2),\n",
    "                            im_displ, cmap='gray'\n",
    "    )\n",
    "\n",
    "    pyplot.eventplot(item.crop_item.pixel_locs * scale, lineoffsets=[2.25], colors=[\"r\"], linewidths=1, linelengths=.5)\n",
    "    pyplot.eventplot([rvec_show - offset, item.alignment_qry], lineoffsets=[0, .75], colors=[\"g\", \"b\"], linelengths=[1, .5], linewidths=1)\n",
    "    \n",
    "    pyplot.xlim(lims[0] - offset, lims[1] - offset)\n",
    "    pyplot.ylim(0, 4)\n",
    "    _set_only_x_visible()\n",
    "    _set_formatter(lambda x, _: int(x / 1000))\n",
    "    ax = pyplot.gca()\n",
    "    ax.xaxis.set_major_locator(MultipleLocator(5000))\n",
    "    ax.xaxis.set_minor_locator(MultipleLocator(1000))\n",
    "    \n",
    "\n",
    "    pyplot.gca().add_artist(ScaleBar(scalebar_scale / scale, color=\"k\", box_alpha=0, scale_loc=\"top\"))\n",
    "    pyplot.xlabel(f\"chr{item.ref_id}:{int(offset)} offset (kb)\")\n",
    "    \n",
    "\n",
    "_, axs = pyplot.subplots(figsize=(9, 8), dpi=200, nrows=4, gridspec_kw=dict(height_ratios=[1,1,1, 1], hspace=.5))\n",
    "\n",
    "titles = [\n",
    "    \"a.\",\n",
    "    \"b.\",\n",
    "    \"c.\",\n",
    "    \"d.\",\n",
    "]\n",
    "\n",
    "\n",
    "for ax, title in zip(axs, titles):\n",
    "    ax.set_title(title, loc=\"left\")\n",
    "\n",
    "pyplot.sca(axs[0])\n",
    "\n",
    "_set_only_x_visible()\n",
    "data_item = self.data_item\n",
    "image = data_item.image[0]\n",
    "labeled_pos = data_item.labeled_coords.T[1]\n",
    "\n",
    "pyplot.imshow(image, cmap=\"gray\")\n",
    "pyplot.eventplot([inference_item.loc_pred, labeled_pos], lineoffsets=[-6, -2], colors=[\"g\", \"b\"], linewidths=1, linelengths=4)\n",
    "\n",
    "_set_formatter(lambda x, _: int((x * data_item.scale) / 1000))\n",
    "pyplot.gca().invert_yaxis()\n",
    "pyplot.ylim(-8, 9)\n",
    "\n",
    "pyplot.gca().add_artist(ScaleBar(scalebar_scale, color=\"k\", box_alpha=0, scale_loc=\"top\"))\n",
    "\n",
    "pyplot.xlabel(\"sequence position (kb)\")\n",
    "\n",
    "pyplot.xlim(0, 100)\n",
    "\n",
    "pyplot.sca(axs[1])\n",
    "pyplot.imshow(item.crop_item.parent_bnx_item.bionano_image.segment_image[0], cmap=\"gray\")\n",
    "\n",
    "pyplot.gca().add_artist(ScaleBar(self.scalebar_scale, color=\"w\", box_alpha=0))\n",
    "\n",
    "ax = pyplot.gca()\n",
    "ax.xaxis.set_visible(False)\n",
    "ax.yaxis.set_visible(False)\n",
    "\n",
    "pyplot.sca(axs[2])\n",
    "\n",
    "_plot_molecule()\n",
    "\n",
    "zoom_lims = 155 * 1000, 195 * 1000\n",
    "for z in zoom_lims:\n",
    "    pyplot.axvline(z, ls=\"--\", c=\"m\", lw=2)\n",
    "\n",
    "pyplot.sca(axs[3])\n",
    "_plot_molecule()\n",
    "\n",
    "pyplot.xlim(*zoom_lims)\n",
    "pyplot.savefig(Path(\"../figures\") / (timestamp_str_iso_8601() + \".pdf\"))"
   ]
  }
 ],
 "metadata": {
  "kernelspec": {
   "display_name": "Python 3.9.10 ('om')",
   "language": "python",
   "name": "python3"
  },
  "language_info": {
   "codemirror_mode": {
    "name": "ipython",
    "version": 3
   },
   "file_extension": ".py",
   "mimetype": "text/x-python",
   "name": "python",
   "nbconvert_exporter": "python",
   "pygments_lexer": "ipython3",
   "version": "3.9.10"
  },
  "vscode": {
   "interpreter": {
    "hash": "ba88cba0bd1684bf681f0a514929985c4631defba69dd57c081f0ebc100d81ea"
   }
  }
 },
 "nbformat": 4,
 "nbformat_minor": 0
}
