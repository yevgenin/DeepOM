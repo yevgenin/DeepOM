{
 "cells": [
  {
   "cell_type": "code",
   "execution_count": 8,
   "id": "12aceee1-37e6-4f1c-8e06-9005807ea1ba",
   "metadata": {},
   "outputs": [
    {
     "name": "stdout",
     "output_type": "stream",
     "text": [
      "The autoreload extension is already loaded. To reload it, use:\n",
      "  %reload_ext autoreload\n",
      "env: \"WANDB_NOTEBOOK_NAME\"=\"Real Data Training \" #for WandB, change the second param as required.\n"
     ]
    }
   ],
   "source": [
    "%load_ext autoreload\n",
    "%autoreload 2\n",
    "%env \"WANDB_NOTEBOOK_NAME\" \"Real Data Training \" #for WandB, change the second param as required.\n",
    "import warnings\n",
    "warnings.filterwarnings('ignore')\n",
    "\n",
    "from deepom.localizer_real_data import DataLocalizer\n",
    "from deepom.data_fetcher import DataFetcher\n",
    "#Ignores warnings, probably a good idea to remove if debugging \n",
    "\n",
    "import timeit\n",
    "import logging\n",
    "import sys\n",
    "import numpy\n",
    "from deepom.config import Config\n",
    "logging.getLogger().setLevel(logging.WARNING)\n",
    "\n"
   ]
  },
  {
   "cell_type": "code",
   "execution_count": 9,
   "id": "6e34bef7-e109-42c9-825a-9d5331866f08",
   "metadata": {},
   "outputs": [
    {
     "name": "stdout",
     "output_type": "stream",
     "text": [
      "BasicUNet features: (32, 32, 64, 128, 256, 32).\n",
      "loading checkpoint:  /home/deepom/DeepOM/data/pretrained/checkpoint.pickle \n",
      "\n",
      "\n"
     ]
    }
   ],
   "source": [
    "\n",
    "num_mols = 10\n",
    "data_fetcher = DataFetcher(num_molecules=num_mols)\n",
    "\n",
    "\n"
   ]
  },
  {
   "cell_type": "code",
   "execution_count": 16,
   "id": "e0493877-f3b8-4adb-98bb-7a60482e77dd",
   "metadata": {},
   "outputs": [
    {
     "name": "stdout",
     "output_type": "stream",
     "text": [
      "0\n",
      " mol locs scaled : [  35.25066667   65.21066667   85.392        92.60533333  106.46133333\n",
      "  113.76266667  118.25866667  126.76        172.76        187.04\n",
      "  196.61866667  242.848       275.04266667  280.61066667  292.83733333\n",
      "  324.936       357.64266667  393.29066667  404.44533333  416.43466667\n",
      "  430.37866667  448.496       453.12        473.22133333  483.504\n",
      "  490.53066667  496.86666667  542.264       547.86666667  567.296\n",
      "  574.256       595.632       601.472       629.336       663.248\n",
      "  670.56        677.33333333  702.54666667  715.79466667  756.992\n",
      "  796.88266667  806.19466667  817.856       822.45066667  830.37066667\n",
      "  840.968       850.77066667  861.14666667  907.61866667  911.664\n",
      "  932.936       935.608       954.18666667  971.44533333  984.136\n",
      "  999.112      1008.26933333 1035.928      1077.46666667 1089.22933333\n",
      " 1105.84533333 1112.33866667 1127.51733333 1130.296      1135.07733333\n",
      " 1142.888      1148.13066667 1182.27466667 1192.05066667 1199.176\n",
      " 1241.00533333 1246.48533333 1282.67466667 1307.20266667 1323.05866667\n",
      " 1339.82133333 1363.712      1369.09066667 1375.784      1387.112\n",
      " 1391.92       1397.47466667 1409.48533333 1450.544      1475.01866667\n",
      " 1516.24533333 1539.296      1551.976      1557.8        1576.448\n",
      " 1617.03466667 1628.70933333 1650.47733333 1657.416      1670.66666667\n",
      " 1678.02133333] alignment ref: [  2623.54729138   5551.88462898   9797.85912752  12246.25618428\n",
      "  18866.63419694  20283.41466129  22931.87930107  23623.54025558\n",
      "  36255.31213015  37434.95054141  43122.52945945  45040.46202391\n",
      "  49124.44881588  57157.00667813  70856.43450707  79328.65596816\n",
      "  92817.39261568  96975.08952081  98903.25103492 100561.89533025\n",
      " 104352.57388994 106352.23943174 108241.74894899 116032.46072143\n",
      " 121723.12692314 126879.05999839 127099.64845836 135401.56277061\n",
      " 147359.03028406 149216.12481534 162916.03477091 165445.26488721\n",
      " 169103.89847331 180170.80437817 181956.05999589 184528.98085691\n",
      " 186108.67144406 186366.77622616 187820.53740293 192334.09818769\n",
      " 194499.67573971 199806.99635506 203867.19943166 218205.79548717\n",
      " 226724.85184923 227569.59792554 230523.44590753 235281.47928447\n",
      " 239573.03361326 245320.49197704 251343.28119338 252870.39064623\n",
      " 259459.28973198 259817.2191754  261181.81741729 276324.73692924\n",
      " 277097.06789821 280297.92467147 283507.44343042 286852.01425195\n",
      " 289415.67711819 291353.94641131 295094.02556174 298221.15600318\n",
      " 310241.97426707 311294.70521212 311928.55690718 325041.74904287\n",
      " 329354.41389054 337791.15335405 340153.41318965 342803.02923858\n",
      " 354155.04835129 363009.0672642  363618.30900639 365759.92277063\n",
      " 372416.05523318 374638.79752189 380690.35263836 381433.36302847\n",
      " 381692.65358388 383539.59460545 398496.58082098 400698.04695994\n",
      " 402925.09949021 406265.76963469 413088.25219065 414516.76958442\n",
      " 414937.22459406 420861.27123088 428549.56170112 429660.52869216\n",
      " 430565.14099568 433223.94319862 445256.50332391 456102.46909022\n",
      " 466915.77063553 470506.72436029 470920.40929019 471149.19035852\n",
      " 472881.86106309 483609.09654662 499189.13379401 502369.62752387\n",
      " 507419.82995406 522523.38859096 524882.77536482 525428.34250778\n",
      " 526780.6146276  528528.81585762 529397.45211631 533681.86542809\n",
      " 535918.84802863 536481.43536657 537436.94238454 543159.48936522]\n",
      "1\n",
      "2\n",
      "3\n",
      "4\n",
      "5\n",
      "6\n",
      "7\n",
      "8\n",
      "9\n"
     ]
    }
   ],
   "source": [
    "data_fetcher.generate_ground_truth_plots()"
   ]
  },
  {
   "cell_type": "code",
   "execution_count": 11,
   "id": "4deafce5-2a8b-45e5-8395-d0b839466191",
   "metadata": {},
   "outputs": [
    {
     "data": {
      "text/html": [
       "<img src=\"../data/ground_truth/ground_truth_0.png\"/>"
      ],
      "text/plain": [
       "<IPython.core.display.Image object>"
      ]
     },
     "metadata": {},
     "output_type": "display_data"
    },
    {
     "data": {
      "text/html": [
       "<img src=\"../data/ground_truth/ground_truth_1.png\"/>"
      ],
      "text/plain": [
       "<IPython.core.display.Image object>"
      ]
     },
     "metadata": {},
     "output_type": "display_data"
    },
    {
     "data": {
      "text/html": [
       "<img src=\"../data/ground_truth/ground_truth_2.png\"/>"
      ],
      "text/plain": [
       "<IPython.core.display.Image object>"
      ]
     },
     "metadata": {},
     "output_type": "display_data"
    },
    {
     "data": {
      "text/html": [
       "<img src=\"../data/ground_truth/ground_truth_3.png\"/>"
      ],
      "text/plain": [
       "<IPython.core.display.Image object>"
      ]
     },
     "metadata": {},
     "output_type": "display_data"
    },
    {
     "data": {
      "text/html": [
       "<img src=\"../data/ground_truth/ground_truth_4.png\"/>"
      ],
      "text/plain": [
       "<IPython.core.display.Image object>"
      ]
     },
     "metadata": {},
     "output_type": "display_data"
    },
    {
     "data": {
      "text/html": [
       "<img src=\"../data/ground_truth/ground_truth_5.png\"/>"
      ],
      "text/plain": [
       "<IPython.core.display.Image object>"
      ]
     },
     "metadata": {},
     "output_type": "display_data"
    },
    {
     "data": {
      "text/html": [
       "<img src=\"../data/ground_truth/ground_truth_6.png\"/>"
      ],
      "text/plain": [
       "<IPython.core.display.Image object>"
      ]
     },
     "metadata": {},
     "output_type": "display_data"
    },
    {
     "data": {
      "text/html": [
       "<img src=\"../data/ground_truth/ground_truth_7.png\"/>"
      ],
      "text/plain": [
       "<IPython.core.display.Image object>"
      ]
     },
     "metadata": {},
     "output_type": "display_data"
    },
    {
     "data": {
      "text/html": [
       "<img src=\"../data/ground_truth/ground_truth_8.png\"/>"
      ],
      "text/plain": [
       "<IPython.core.display.Image object>"
      ]
     },
     "metadata": {},
     "output_type": "display_data"
    },
    {
     "data": {
      "text/html": [
       "<img src=\"../data/ground_truth/ground_truth_9.png\"/>"
      ],
      "text/plain": [
       "<IPython.core.display.Image object>"
      ]
     },
     "metadata": {},
     "output_type": "display_data"
    }
   ],
   "source": [
    "# import image module\n",
    "from IPython.display import Image,display\n",
    "  \n",
    "# get the image\n",
    "for img_index in range(num_mols):\n",
    "    display(Image(url=f\"../data/ground_truth/ground_truth_{img_index}.png\"))\n",
    "    \n",
    "    "
   ]
  }
 ],
 "metadata": {
  "kernelspec": {
   "display_name": "Python 3 (ipykernel)",
   "language": "python",
   "name": "python3"
  },
  "language_info": {
   "codemirror_mode": {
    "name": "ipython",
    "version": 3
   },
   "file_extension": ".py",
   "mimetype": "text/x-python",
   "name": "python",
   "nbconvert_exporter": "python",
   "pygments_lexer": "ipython3",
   "version": "3.9.13"
  }
 },
 "nbformat": 4,
 "nbformat_minor": 5
}
