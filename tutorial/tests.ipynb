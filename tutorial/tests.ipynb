{
 "cells": [
  {
   "cell_type": "code",
   "execution_count": 2,
   "id": "78a9a0d2-4c9a-4490-9de4-e18f6605cac8",
   "metadata": {},
   "outputs": [],
   "source": [
    "%load_ext autoreload\n",
    "%autoreload 2\n",
    "import deepom.my_utils as utils"
   ]
  },
  {
   "cell_type": "code",
   "execution_count": 4,
   "id": "c2a4ca4f-6dd1-441a-9818-3363552c6f19",
   "metadata": {},
   "outputs": [
    {
     "name": "stdout",
     "output_type": "stream",
     "text": [
      "0.0\n"
     ]
    }
   ],
   "source": [
    "prediction = [3.2, 10, 14.5, 20, 24]\n",
    "    \n",
    "gt = [3,15,20, 28, 30]\n",
    "\n",
    "print(utils.fn_precentage(prediction, prediction))"
   ]
  }
 ],
 "metadata": {
  "kernelspec": {
   "display_name": "Python 3 (ipykernel)",
   "language": "python",
   "name": "python3"
  },
  "language_info": {
   "codemirror_mode": {
    "name": "ipython",
    "version": 3
   },
   "file_extension": ".py",
   "mimetype": "text/x-python",
   "name": "python",
   "nbconvert_exporter": "python",
   "pygments_lexer": "ipython3",
   "version": "3.9.13"
  }
 },
 "nbformat": 4,
 "nbformat_minor": 5
}
