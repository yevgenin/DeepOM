{
 "cells": [
  {
   "cell_type": "code",
   "execution_count": 1,
   "id": "06857bda-d085-4cbf-9693-5032424cd1ee",
   "metadata": {},
   "outputs": [
    {
     "data": {
      "application/vnd.jupyter.widget-view+json": {
       "model_id": "49dc9d33d1bb4a9589f16948e133a44e",
       "version_major": 2,
       "version_minor": 0
      },
      "text/plain": [
       "selected: 0it [00:00, ?it/s]"
      ]
     },
     "metadata": {},
     "output_type": "display_data"
    }
   ],
   "source": [
    "%reload_ext autoreload\n",
    "%autoreload 2\n",
    "from deepom.bionano_utils import MoleculeSelector\n",
    "\n",
    "selector = MoleculeSelector()\n",
    "selector.top_mol_num = 1\n",
    "selector.read_images = False\n",
    "selector.select_molecules()\n"
   ]
  },
  {
   "cell_type": "code",
   "execution_count": 2,
   "id": "5b09592c-f94b-42b9-97e5-32df1a7cc1b9",
   "metadata": {},
   "outputs": [],
   "source": [
    "from deepom.bionano_compare import BionanoCompare\n",
    "\n",
    "compare = BionanoCompare()\n",
    "compare.read_cmap()\n",
    "compare.make_refs()"
   ]
  },
  {
   "cell_type": "code",
   "execution_count": 3,
   "id": "75531b85-9717-49aa-a013-3599cb1905c3",
   "metadata": {
    "tags": []
   },
   "outputs": [
    {
     "ename": "NameError",
     "evalue": "name 'default_rng' is not defined",
     "output_type": "error",
     "traceback": [
      "\u001b[0;31m---------------------------------------------------------------------------\u001b[0m",
      "\u001b[0;31mNameError\u001b[0m                                 Traceback (most recent call last)",
      "Cell \u001b[0;32mIn [3], line 1\u001b[0m\n\u001b[0;32m----> 1\u001b[0m rng \u001b[38;5;241m=\u001b[39m \u001b[43mdefault_rng\u001b[49m()\n",
      "\u001b[0;31mNameError\u001b[0m: name 'default_rng' is not defined"
     ]
    }
   ],
   "source": [
    "rng = default_rng()\n",
    "\n",
    "# selector.selected[0].make_simulated_image(refs=compare.refs, rng=rng)\n",
    "# molecule = selector.selected[0]"
   ]
  },
  {
   "cell_type": "code",
   "execution_count": null,
   "id": "4b146eaa-a801-4ea0-aa5a-d7a980ba46e5",
   "metadata": {},
   "outputs": [],
   "source": [
    "from deepom.bionano_utils import BNXItem\n",
    "from matplotlib.pyplot import eventplot, imshow, figure, xlim, savefig, gca\n",
    "from numpy.random import default_rng\n",
    "\n",
    "segment_3d = molecule.bionano_image.segment_image[0]\n",
    "figure(figsize=(30, 3))\n",
    "image_input = segment_3d\n",
    "target_width = 5\n",
    "source_width = image_input.shape[0] // 2 + 1\n",
    "image_input = image_input[source_width - target_width // 2: source_width + target_width // 2 + 1]\n",
    "imshow(image_input, aspect=\"auto\", cmap=\"gray\")\n",
    "# gca().pcolorfast((0, image_input.shape[-1]), (-.5, .5), image_input, cmap='gray')\n",
    "\n",
    "eventplot(molecule.locs / 375, colors=[\"b\"])\n",
    "# molecule = selector.selected[0]  \n",
    "# molecule.plot_bnx_item()"
   ]
  },
  {
   "cell_type": "code",
   "execution_count": null,
   "id": "7ce30a36-ae92-4d77-8364-87c2e0e325ab",
   "metadata": {},
   "outputs": [],
   "source": [
    "image_input.shape"
   ]
  },
  {
   "cell_type": "code",
   "execution_count": null,
   "id": "194952c8-d409-47af-aad9-4534441ef729",
   "metadata": {},
   "outputs": [],
   "source": [
    "bnx_item: \"BNXItem\" = selector.selected[0]\n",
    "bnx_item.make_simulated_image(refs=compare.refs, rng=rng)\n",
    "bnx_item.plot_simulated()"
   ]
  },
  {
   "cell_type": "code",
   "execution_count": null,
   "id": "aab77deb-4e85-4390-b553-ef2d4a91c132",
   "metadata": {},
   "outputs": [],
   "source": [
    "bnx_item.bionano_image.segment_image[0].shape"
   ]
  },
  {
   "cell_type": "code",
   "execution_count": null,
   "id": "326810ff-39e0-42da-be6e-ed7cea104d3c",
   "metadata": {},
   "outputs": [],
   "source": [
    "imshow(bnx_item.bionano_image.segment_image[0], aspect=\"auto\", cmap=\"gray\")\n"
   ]
  },
  {
   "cell_type": "code",
   "execution_count": null,
   "id": "1c5c2757-425c-4bf9-9d44-58395b7f5af4",
   "metadata": {},
   "outputs": [],
   "source": []
  },
  {
   "cell_type": "code",
   "execution_count": null,
   "id": "c83727fb-575a-442a-934a-7dedf09dafde",
   "metadata": {},
   "outputs": [],
   "source": [
    "molecule = selector.selected[0]\n",
    "segment_3d = molecule.bionano_image.segment_image[0]\n",
    "figure(figsize=(30, 3))\n",
    "image_input = segment_3d\n",
    "target_width = 5\n",
    "source_width = image_input.shape[0] // 2 + 1\n",
    "image_input = image_input[source_width - target_width // 2: source_width + target_width // 2 + 1]\n",
    "imshow(image_input, aspect=\"auto\", cmap=\"gray\")\n",
    "\n",
    "eventplot(molecule.locs / 375, colors=[\"b\"])"
   ]
  },
  {
   "cell_type": "code",
   "execution_count": null,
   "id": "91df0bc4-e326-4263-8213-ccc72d20d11f",
   "metadata": {},
   "outputs": [],
   "source": []
  }
 ],
 "metadata": {
  "kernelspec": {
   "display_name": "Python 3 (ipykernel)",
   "language": "python",
   "name": "python3"
  },
  "language_info": {
   "codemirror_mode": {
    "name": "ipython",
    "version": 3
   },
   "file_extension": ".py",
   "mimetype": "text/x-python",
   "name": "python",
   "nbconvert_exporter": "python",
   "pygments_lexer": "ipython3",
   "version": "3.9.13"
  }
 },
 "nbformat": 4,
 "nbformat_minor": 5
}
