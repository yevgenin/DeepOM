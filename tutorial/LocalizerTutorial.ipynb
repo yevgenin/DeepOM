{
 "cells": [
  {
   "cell_type": "code",
   "execution_count": null,
   "id": "72628ee2-fbe2-4b1b-aa7e-c277d5da8bc1",
   "metadata": {},
   "outputs": [],
   "source": [
    "from deepom.bionano_utils import MoleculeSelector\n",
    "from deepom.utils import Config\n",
    "from deepom.bionano_compare import DataPrep\n",
    "from deepom.bionano_utils import BNXItemCrop, BionanoFileData\n",
    "from numpy.random import default_rng\n",
    "from deepom.localizer import LocalizerModule\n",
    "from deepom.aligner import Aligner\n",
    "from deepom.my_utils import getAligner\n",
    "from matplotlib.pyplot import eventplot, imshow, figure, xlim\n",
    "from pandas import Series, DataFrame\n",
    "import numpy as np\n",
    "from tqdm import tqdm, tnrange , tqdm_notebook\n",
    "\n",
    "import warnings\n",
    "warnings.filterwarnings('ignore')\n",
    "\n",
    "from deepom.config import Config\n",
    "from deepom.localizer import LocalizerModule\n",
    "import monai\n",
    "\n"
   ]
  }
 ],
 "metadata": {
  "kernelspec": {
   "display_name": "Python 3 (ipykernel)",
   "language": "python",
   "name": "python3"
  },
  "language_info": {
   "codemirror_mode": {
    "name": "ipython",
    "version": 3
   },
   "file_extension": ".py",
   "mimetype": "text/x-python",
   "name": "python",
   "nbconvert_exporter": "python",
   "pygments_lexer": "ipython3",
   "version": "3.9.13"
  }
 },
 "nbformat": 4,
 "nbformat_minor": 5
}
