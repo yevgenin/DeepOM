{
 "cells": [
  {
   "cell_type": "markdown",
   "id": "4e0f6df9",
   "metadata": {},
   "source": [
    "## Ground Truth Generation Notebook."
   ]
  },
  {
   "cell_type": "markdown",
   "id": "f5cf3885",
   "metadata": {},
   "source": [
    "This notebook generates a pre configured number of molecules and shows their alignments"
   ]
  },
  {
   "cell_type": "code",
   "execution_count": 1,
   "id": "8cb058b7",
   "metadata": {},
   "outputs": [],
   "source": [
    "Molecule = 1 #Pick molecule Number between 0 and 512"
   ]
  },
  {
   "cell_type": "markdown",
   "id": "464f7ac2",
   "metadata": {
    "tags": []
   },
   "source": [
    "### Imports "
   ]
  },
  {
   "cell_type": "code",
   "execution_count": 2,
   "id": "53264c07",
   "metadata": {},
   "outputs": [],
   "source": [
    "%load_ext autoreload\n",
    "%autoreload 2\n",
    "\n",
    "import numpy\n",
    "from scipy.interpolate import interp1d\n",
    "from deepom.bionano_utils import MoleculeSelector\n",
    "\n",
    "from deepom.config import Config\n",
    "from deepom.localizer import LocalizerModule\n",
    "import monai\n",
    "\n",
    "from deepom.aligner import Aligner\n",
    "from deepom.my_utils import get_aligner, overlap_percentage, get_scaler_from_aligner\n",
    "import numpy as np\n",
    "\n",
    "from deepom.bionano_compare import BionanoCompare\n",
    "from matplotlib.pyplot import eventplot, imshow, figure, xlim, title\n",
    "\n",
    "\n"
   ]
  },
  {
   "cell_type": "markdown",
   "id": "965b0136",
   "metadata": {},
   "source": [
    "### selector Creation"
   ]
  },
  {
   "cell_type": "code",
   "execution_count": 3,
   "id": "4b286ce7",
   "metadata": {},
   "outputs": [
    {
     "name": "stderr",
     "output_type": "stream",
     "text": [
      "\n",
      "KeyboardInterrupt\n",
      "\n"
     ]
    }
   ],
   "source": [
    "#Need To check about Caching\n",
    "selector = MoleculeSelector()\n",
    "selector.top_mol_num = 5\n",
    "selector.select_molecules()"
   ]
  },
  {
   "cell_type": "markdown",
   "id": "abceb2f3",
   "metadata": {},
   "source": [
    "### Refs"
   ]
  },
  {
   "cell_type": "code",
   "execution_count": null,
   "id": "6a15cd4b",
   "metadata": {},
   "outputs": [],
   "source": [
    "compare = BionanoCompare()\n",
    "compare.read_cmap()\n",
    "compare.make_refs()\n",
    "compare.refs"
   ]
  },
  {
   "cell_type": "code",
   "execution_count": null,
   "id": "23fe066a-09c1-41f2-8a10-6241a11e7fb6",
   "metadata": {},
   "outputs": [],
   "source": [
    "selector.selected[Molecule].locs"
   ]
  },
  {
   "cell_type": "markdown",
   "id": "31b6af01",
   "metadata": {},
   "source": [
    "### Localizer"
   ]
  },
  {
   "cell_type": "code",
   "execution_count": null,
   "id": "3251d1ea",
   "metadata": {},
   "outputs": [],
   "source": [
    "localizer_module = LocalizerModule()\n",
    "localizer_module.checkpoint_search_dir = Config.CHECKPOINT_SEARCH_DIR\n",
    "localizer_module.load_checkpoint = True\n",
    "localizer_module.init_ensure_module()\n",
    "\n",
    "image_input = selector.selected[Molecule].bionano_image.segment_image[0]\n",
    "target_width = localizer_module.image_channels\n",
    "source_width = image_input.shape[0] // 2 + 1\n",
    "image_input = image_input[source_width - target_width // 2: source_width + target_width // 2 + 1]\n",
    "inference_item = localizer_module.inference_item(image_input)"
   ]
  },
  {
   "cell_type": "markdown",
   "id": "a9f5abe0",
   "metadata": {},
   "source": [
    "### Alignment"
   ]
  },
  {
   "cell_type": "code",
   "execution_count": null,
   "id": "820e3eb8",
   "metadata": {},
   "outputs": [],
   "source": [
    "ref_id = selector.selected[Molecule].xmap_item.ref_id\n",
    "\n",
    "aligner_reg = get_aligner()\n",
    "aligner_rev = get_aligner()\n",
    "\n",
    "qry = inference_item.loc_pred * 335\n",
    "offset = image_input.shape[-1]-inference_item.loc_pred[-1]\n",
    "inverted_qry = np.sort((image_input.shape[-1] - inference_item.loc_pred)*335)#not sure, need to make sure its correct\n",
    "\n",
    "aligner_reg.make_alignment(qry=qry, ref=compare.refs[ref_id])\n",
    "aligner_rev.make_alignment(qry=inverted_qry, ref=compare.refs[ref_id])"
   ]
  },
  {
   "cell_type": "markdown",
   "id": "e8f49c6a",
   "metadata": {},
   "source": [
    "### Selecting the best orientation based on overlap percentage"
   ]
  },
  {
   "cell_type": "code",
   "execution_count": null,
   "id": "5a2bb5a1",
   "metadata": {},
   "outputs": [],
   "source": [
    "regular_overlap = overlap_percentage(selector.selected[Molecule].xmap_item.ref_lims, aligner_reg.alignment_ref[[0, -1]])\n",
    "print(\"regular overlap: \"+str(regular_overlap))\n",
    "print(\"regular score: \"+str(aligner_reg.score))\n",
    "\n",
    "reverse_overlap = overlap_percentage(selector.selected[Molecule].xmap_item.ref_lims, aligner_rev.alignment_ref[[0, -1]])\n",
    "print(\"reverse ovelap: \"+str(reverse_overlap))\n",
    "print(\"reverse score: \"+str(aligner_rev.score))\n",
    "\n",
    "aligner = aligner_reg if regular_overlap > reverse_overlap else aligner_rev\n",
    "\n",
    "selector.selected[Molecule].xmap_item.ref_lims, aligner.alignment_ref"
   ]
  },
  {
   "cell_type": "code",
   "execution_count": null,
   "id": "b610c004",
   "metadata": {},
   "outputs": [],
   "source": [
    "scaler = get_scaler_from_aligner(aligner)\n",
    "\n",
    "z = aligner.alignment_ref\n",
    "y = (z-z[0]) / (scaler*335)\n",
    "y = y+aligner.alignment_qry[0]/335\n",
    "x = aligner.alignment_qry/335\n",
    "func = interp1d(x=y,y=x)\n",
    "\n",
    "ref = compare.refs[ref_id]\n",
    "start, end = aligner.alignment_ref[[0, -1]]\n",
    "start_index = np.argmax(ref >= start)\n",
    "end_index = np.argmin(ref <= end)\n",
    "ref_crop = ref[start_index:end_index]\n",
    "\n",
    "z_hat = (ref_crop-ref_crop[0]) / (scaler*335)\n",
    "z_hat = z_hat+x[0]\n",
    "y_hat = func(z_hat)"
   ]
  },
  {
   "cell_type": "markdown",
   "id": "f0b03262",
   "metadata": {
    "tags": []
   },
   "source": [
    "### Plot"
   ]
  },
  {
   "cell_type": "code",
   "execution_count": null,
   "id": "70f42797",
   "metadata": {},
   "outputs": [],
   "source": [
    "figure(figsize=(30, 3))\n",
    "image_input = selector.selected[Molecule].bionano_image.segment_image[0]\n",
    "target_width = localizer_module.image_channels\n",
    "source_width = image_input.shape[0] // 2 + 1\n",
    "image_input = image_input[source_width - target_width // 2: source_width + target_width // 2 + 1]\n",
    "imshow(image_input, aspect=\"auto\", cmap=\"gray\")\n",
    "eventplot([inference_item.loc_pred, x,y_hat], colors=[\"g\", \"b\", \"r\"])\n",
    "#xlim([0, 800])"
   ]
  },
  {
   "cell_type": "code",
   "execution_count": null,
   "id": "55c22440-da6c-46bb-b516-81de12696e6a",
   "metadata": {},
   "outputs": [],
   "source": [
    "z = aligner.alignment_ref\n",
    "y = (z-z[0]) / (scaler*335)\n",
    "y_rev = np.sort(image_input.shape[-1]-y)-offset\n",
    "\n",
    "x = aligner.alignment_qry/335\n",
    "x_rev = np.sort(image_input.shape[-1]-x)\n",
    "\n",
    "func_rev = interp1d(x=y_rev,y=x_rev, bounds_error=False, fill_value='extrapolate')\n",
    "\n",
    "ref = compare.refs[ref_id]\n",
    "start, end = aligner.alignment_ref[[0, -1]]\n",
    "start_index = np.argmax(ref >= start)\n",
    "end_index = np.argmin(ref <= end)\n",
    "ref_crop = ref[start_index:end_index]\n",
    "\n",
    "z_hat = (ref_crop-ref_crop[0]) / (scaler*335)\n",
    "z_hat_rev = np.sort(image_input.shape[-1]-z_hat)-offset\n",
    "\n",
    "print(z_hat_rev)\n",
    "\n",
    "y_hat = func_rev(z_hat_rev)"
   ]
  },
  {
   "cell_type": "code",
   "execution_count": null,
   "id": "6864fe55-35c5-4a48-b527-0299b78104bc",
   "metadata": {},
   "outputs": [],
   "source": [
    "figure(figsize=(30, 3))\n",
    "image_input = selector.selected[Molecule].bionano_image.segment_image[0]\n",
    "target_width = localizer_module.image_channels\n",
    "source_width = image_input.shape[0] // 2 + 1\n",
    "image_input = image_input[source_width - target_width // 2: source_width + target_width // 2 + 1]\n",
    "imshow(image_input, aspect=\"auto\", cmap=\"gray\")\n",
    "eventplot([inference_item.loc_pred, x_rev, y_hat], colors=[\"g\", \"b\", \"r\"])\n",
    "xlim([0,800])"
   ]
  },
  {
   "cell_type": "code",
   "execution_count": null,
   "id": "971c9513",
   "metadata": {},
   "outputs": [],
   "source": [
    "%load_ext autoreload\n",
    "%autoreload 2\n",
    "from deepom.data_fetcher import DataFetcher\n",
    "num_mols = 20\n",
    "data_fetcher = DataFetcher(num_molecules=num_mols)\n",
    "# data_fetcher.generate_ground_truth_plots_simulated()\n",
    "data_fetcher.generate_ground_truth_plots()\n",
    "# data_fetcher.generate_ground_truth_simulated(2)"
   ]
  },
  {
   "cell_type": "code",
   "execution_count": null,
   "id": "56933794",
   "metadata": {},
   "outputs": [],
   "source": [
    "# import image module\n",
    "from IPython.display import Image,display\n",
    "  \n",
    "# get the image\n",
    "for img_index in range(num_mols):\n",
    "    display(Image(url=f\"{data_fetcher.save_path}/ground_truth_{img_index}.png\"))\n",
    "    \n",
    "    "
   ]
  }
 ],
 "metadata": {
  "kernelspec": {
   "display_name": "Python 3 (ipykernel)",
   "language": "python",
   "name": "python3"
  },
  "language_info": {
   "codemirror_mode": {
    "name": "ipython",
    "version": 3
   },
   "file_extension": ".py",
   "mimetype": "text/x-python",
   "name": "python",
   "nbconvert_exporter": "python",
   "pygments_lexer": "ipython3",
   "version": "3.9.13"
  }
 },
 "nbformat": 4,
 "nbformat_minor": 5
}
